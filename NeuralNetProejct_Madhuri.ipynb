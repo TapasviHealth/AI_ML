{
 "cells": [
  {
   "cell_type": "code",
   "execution_count": 1,
   "metadata": {
    "executionInfo": {
     "elapsed": 7945,
     "status": "ok",
     "timestamp": 1678012024529,
     "user": {
      "displayName": "Madhuri Gandikota",
      "userId": "06840075266312606278"
     },
     "user_tz": 360
    },
    "id": "8PTYaEAhVPp7"
   },
   "outputs": [],
   "source": [
    "# Libraries to help with reading and manipulating data\n",
    "import numpy as np\n",
    "import pandas as pd\n",
    "# libaries to help with data visualization\n",
    "import matplotlib.pyplot as pyplot\n",
    "import matplotlib.pyplot as plt\n",
    "import seaborn as sns\n",
    "# Library to split data\n",
    "from sklearn.model_selection import train_test_split\n",
    "# library to import to standardize the data\n",
    "from sklearn.preprocessing import StandardScaler\n",
    "#To import different metrics \n",
    "from sklearn.metrics import explained_variance_score, mean_squared_error, r2_score, mean_absolute_error\n",
    "#Importing classback API\n",
    "from keras import callbacks\n",
    "# Importing tensorflow library\n",
    "import tensorflow as tf\n",
    "# importing different functions to build models\n",
    "from tensorflow.keras.layers import Dense, Dropout,InputLayer\n",
    "from tensorflow.keras.models import Sequential\n",
    "# Importing Batch Normalization\n",
    "from keras.layers import BatchNormalization\n",
    "# Importing backend\n",
    "from tensorflow.keras import backend\n",
    "# Importing shffule \n",
    "from random import shuffle\n",
    "from keras.callbacks import ModelCheckpoint\n",
    "# Importing optimizers\n",
    "from tensorflow.keras.optimizers import Adam\n",
    "from tensorflow.keras.optimizers import RMSprop\n",
    "# Library to avoid the warnings\n",
    "import warnings\n",
    "warnings.filterwarnings(\"ignore\")"
   ]
  },
  {
   "cell_type": "code",
   "execution_count": 2,
   "metadata": {
    "colab": {
     "base_uri": "https://localhost:8080/"
    },
    "executionInfo": {
     "elapsed": 421195,
     "status": "ok",
     "timestamp": 1678012445718,
     "user": {
      "displayName": "Madhuri Gandikota",
      "userId": "06840075266312606278"
     },
     "user_tz": 360
    },
    "id": "sYde7mlaeAnq",
    "outputId": "f36f1b05-dda5-4b48-9e3d-b27ca548b966"
   },
   "outputs": [
    {
     "name": "stdout",
     "output_type": "stream",
     "text": [
      "Mounted at /content/drive\n"
     ]
    }
   ],
   "source": [
    " from google.colab import drive\n",
    " drive.mount('/content/drive')"
   ]
  },
  {
   "cell_type": "code",
   "execution_count": 3,
   "metadata": {
    "executionInfo": {
     "elapsed": 732,
     "status": "ok",
     "timestamp": 1678012446437,
     "user": {
      "displayName": "Madhuri Gandikota",
      "userId": "06840075266312606278"
     },
     "user_tz": 360
    },
    "id": "cLIba_rKeRQI"
   },
   "outputs": [],
   "source": [
    "data=pd.read_csv(\"/content/drive/My Drive/Neural_networks/Churn.csv\")"
   ]
  },
  {
   "cell_type": "code",
   "execution_count": 4,
   "metadata": {
    "colab": {
     "base_uri": "https://localhost:8080/",
     "height": 204
    },
    "executionInfo": {
     "elapsed": 160,
     "status": "ok",
     "timestamp": 1678012446438,
     "user": {
      "displayName": "Madhuri Gandikota",
      "userId": "06840075266312606278"
     },
     "user_tz": 360
    },
    "id": "khvI5H04eU-F",
    "outputId": "3d18b605-55e1-4534-98c4-87d1c493b757"
   },
   "outputs": [
    {
     "data": {
      "text/html": [
       "\n",
       "  <div id=\"df-3cdf0ef6-8f6d-4bbf-9915-de18afe47c5a\">\n",
       "    <div class=\"colab-df-container\">\n",
       "      <div>\n",
       "<style scoped>\n",
       "    .dataframe tbody tr th:only-of-type {\n",
       "        vertical-align: middle;\n",
       "    }\n",
       "\n",
       "    .dataframe tbody tr th {\n",
       "        vertical-align: top;\n",
       "    }\n",
       "\n",
       "    .dataframe thead th {\n",
       "        text-align: right;\n",
       "    }\n",
       "</style>\n",
       "<table border=\"1\" class=\"dataframe\">\n",
       "  <thead>\n",
       "    <tr style=\"text-align: right;\">\n",
       "      <th></th>\n",
       "      <th>RowNumber</th>\n",
       "      <th>CustomerId</th>\n",
       "      <th>Surname</th>\n",
       "      <th>CreditScore</th>\n",
       "      <th>Geography</th>\n",
       "      <th>Gender</th>\n",
       "      <th>Age</th>\n",
       "      <th>Tenure</th>\n",
       "      <th>Balance</th>\n",
       "      <th>NumOfProducts</th>\n",
       "      <th>HasCrCard</th>\n",
       "      <th>IsActiveMember</th>\n",
       "      <th>EstimatedSalary</th>\n",
       "      <th>Exited</th>\n",
       "    </tr>\n",
       "  </thead>\n",
       "  <tbody>\n",
       "    <tr>\n",
       "      <th>0</th>\n",
       "      <td>1</td>\n",
       "      <td>15634602</td>\n",
       "      <td>Hargrave</td>\n",
       "      <td>619</td>\n",
       "      <td>France</td>\n",
       "      <td>Female</td>\n",
       "      <td>42</td>\n",
       "      <td>2</td>\n",
       "      <td>0.00</td>\n",
       "      <td>1</td>\n",
       "      <td>1</td>\n",
       "      <td>1</td>\n",
       "      <td>101348.88</td>\n",
       "      <td>1</td>\n",
       "    </tr>\n",
       "    <tr>\n",
       "      <th>1</th>\n",
       "      <td>2</td>\n",
       "      <td>15647311</td>\n",
       "      <td>Hill</td>\n",
       "      <td>608</td>\n",
       "      <td>Spain</td>\n",
       "      <td>Female</td>\n",
       "      <td>41</td>\n",
       "      <td>1</td>\n",
       "      <td>83807.86</td>\n",
       "      <td>1</td>\n",
       "      <td>0</td>\n",
       "      <td>1</td>\n",
       "      <td>112542.58</td>\n",
       "      <td>0</td>\n",
       "    </tr>\n",
       "    <tr>\n",
       "      <th>2</th>\n",
       "      <td>3</td>\n",
       "      <td>15619304</td>\n",
       "      <td>Onio</td>\n",
       "      <td>502</td>\n",
       "      <td>France</td>\n",
       "      <td>Female</td>\n",
       "      <td>42</td>\n",
       "      <td>8</td>\n",
       "      <td>159660.80</td>\n",
       "      <td>3</td>\n",
       "      <td>1</td>\n",
       "      <td>0</td>\n",
       "      <td>113931.57</td>\n",
       "      <td>1</td>\n",
       "    </tr>\n",
       "    <tr>\n",
       "      <th>3</th>\n",
       "      <td>4</td>\n",
       "      <td>15701354</td>\n",
       "      <td>Boni</td>\n",
       "      <td>699</td>\n",
       "      <td>France</td>\n",
       "      <td>Female</td>\n",
       "      <td>39</td>\n",
       "      <td>1</td>\n",
       "      <td>0.00</td>\n",
       "      <td>2</td>\n",
       "      <td>0</td>\n",
       "      <td>0</td>\n",
       "      <td>93826.63</td>\n",
       "      <td>0</td>\n",
       "    </tr>\n",
       "    <tr>\n",
       "      <th>4</th>\n",
       "      <td>5</td>\n",
       "      <td>15737888</td>\n",
       "      <td>Mitchell</td>\n",
       "      <td>850</td>\n",
       "      <td>Spain</td>\n",
       "      <td>Female</td>\n",
       "      <td>43</td>\n",
       "      <td>2</td>\n",
       "      <td>125510.82</td>\n",
       "      <td>1</td>\n",
       "      <td>1</td>\n",
       "      <td>1</td>\n",
       "      <td>79084.10</td>\n",
       "      <td>0</td>\n",
       "    </tr>\n",
       "  </tbody>\n",
       "</table>\n",
       "</div>\n",
       "      <button class=\"colab-df-convert\" onclick=\"convertToInteractive('df-3cdf0ef6-8f6d-4bbf-9915-de18afe47c5a')\"\n",
       "              title=\"Convert this dataframe to an interactive table.\"\n",
       "              style=\"display:none;\">\n",
       "        \n",
       "  <svg xmlns=\"http://www.w3.org/2000/svg\" height=\"24px\"viewBox=\"0 0 24 24\"\n",
       "       width=\"24px\">\n",
       "    <path d=\"M0 0h24v24H0V0z\" fill=\"none\"/>\n",
       "    <path d=\"M18.56 5.44l.94 2.06.94-2.06 2.06-.94-2.06-.94-.94-2.06-.94 2.06-2.06.94zm-11 1L8.5 8.5l.94-2.06 2.06-.94-2.06-.94L8.5 2.5l-.94 2.06-2.06.94zm10 10l.94 2.06.94-2.06 2.06-.94-2.06-.94-.94-2.06-.94 2.06-2.06.94z\"/><path d=\"M17.41 7.96l-1.37-1.37c-.4-.4-.92-.59-1.43-.59-.52 0-1.04.2-1.43.59L10.3 9.45l-7.72 7.72c-.78.78-.78 2.05 0 2.83L4 21.41c.39.39.9.59 1.41.59.51 0 1.02-.2 1.41-.59l7.78-7.78 2.81-2.81c.8-.78.8-2.07 0-2.86zM5.41 20L4 18.59l7.72-7.72 1.47 1.35L5.41 20z\"/>\n",
       "  </svg>\n",
       "      </button>\n",
       "      \n",
       "  <style>\n",
       "    .colab-df-container {\n",
       "      display:flex;\n",
       "      flex-wrap:wrap;\n",
       "      gap: 12px;\n",
       "    }\n",
       "\n",
       "    .colab-df-convert {\n",
       "      background-color: #E8F0FE;\n",
       "      border: none;\n",
       "      border-radius: 50%;\n",
       "      cursor: pointer;\n",
       "      display: none;\n",
       "      fill: #1967D2;\n",
       "      height: 32px;\n",
       "      padding: 0 0 0 0;\n",
       "      width: 32px;\n",
       "    }\n",
       "\n",
       "    .colab-df-convert:hover {\n",
       "      background-color: #E2EBFA;\n",
       "      box-shadow: 0px 1px 2px rgba(60, 64, 67, 0.3), 0px 1px 3px 1px rgba(60, 64, 67, 0.15);\n",
       "      fill: #174EA6;\n",
       "    }\n",
       "\n",
       "    [theme=dark] .colab-df-convert {\n",
       "      background-color: #3B4455;\n",
       "      fill: #D2E3FC;\n",
       "    }\n",
       "\n",
       "    [theme=dark] .colab-df-convert:hover {\n",
       "      background-color: #434B5C;\n",
       "      box-shadow: 0px 1px 3px 1px rgba(0, 0, 0, 0.15);\n",
       "      filter: drop-shadow(0px 1px 2px rgba(0, 0, 0, 0.3));\n",
       "      fill: #FFFFFF;\n",
       "    }\n",
       "  </style>\n",
       "\n",
       "      <script>\n",
       "        const buttonEl =\n",
       "          document.querySelector('#df-3cdf0ef6-8f6d-4bbf-9915-de18afe47c5a button.colab-df-convert');\n",
       "        buttonEl.style.display =\n",
       "          google.colab.kernel.accessAllowed ? 'block' : 'none';\n",
       "\n",
       "        async function convertToInteractive(key) {\n",
       "          const element = document.querySelector('#df-3cdf0ef6-8f6d-4bbf-9915-de18afe47c5a');\n",
       "          const dataTable =\n",
       "            await google.colab.kernel.invokeFunction('convertToInteractive',\n",
       "                                                     [key], {});\n",
       "          if (!dataTable) return;\n",
       "\n",
       "          const docLinkHtml = 'Like what you see? Visit the ' +\n",
       "            '<a target=\"_blank\" href=https://colab.research.google.com/notebooks/data_table.ipynb>data table notebook</a>'\n",
       "            + ' to learn more about interactive tables.';\n",
       "          element.innerHTML = '';\n",
       "          dataTable['output_type'] = 'display_data';\n",
       "          await google.colab.output.renderOutput(dataTable, element);\n",
       "          const docLink = document.createElement('div');\n",
       "          docLink.innerHTML = docLinkHtml;\n",
       "          element.appendChild(docLink);\n",
       "        }\n",
       "      </script>\n",
       "    </div>\n",
       "  </div>\n",
       "  "
      ],
      "text/plain": [
       "   RowNumber  CustomerId   Surname  CreditScore Geography  Gender  Age  \\\n",
       "0          1    15634602  Hargrave          619    France  Female   42   \n",
       "1          2    15647311      Hill          608     Spain  Female   41   \n",
       "2          3    15619304      Onio          502    France  Female   42   \n",
       "3          4    15701354      Boni          699    France  Female   39   \n",
       "4          5    15737888  Mitchell          850     Spain  Female   43   \n",
       "\n",
       "   Tenure    Balance  NumOfProducts  HasCrCard  IsActiveMember  \\\n",
       "0       2       0.00              1          1               1   \n",
       "1       1   83807.86              1          0               1   \n",
       "2       8  159660.80              3          1               0   \n",
       "3       1       0.00              2          0               0   \n",
       "4       2  125510.82              1          1               1   \n",
       "\n",
       "   EstimatedSalary  Exited  \n",
       "0        101348.88       1  \n",
       "1        112542.58       0  \n",
       "2        113931.57       1  \n",
       "3         93826.63       0  \n",
       "4         79084.10       0  "
      ]
     },
     "execution_count": 4,
     "metadata": {},
     "output_type": "execute_result"
    }
   ],
   "source": [
    "data.head()"
   ]
  },
  {
   "cell_type": "code",
   "execution_count": 5,
   "metadata": {
    "colab": {
     "base_uri": "https://localhost:8080/"
    },
    "executionInfo": {
     "elapsed": 156,
     "status": "ok",
     "timestamp": 1678012446439,
     "user": {
      "displayName": "Madhuri Gandikota",
      "userId": "06840075266312606278"
     },
     "user_tz": 360
    },
    "id": "Rqec5gbIeYHz",
    "outputId": "e3b9ff47-1c2e-458c-b038-2e44a8420c9f"
   },
   "outputs": [
    {
     "name": "stdout",
     "output_type": "stream",
     "text": [
      "<class 'pandas.core.frame.DataFrame'>\n",
      "RangeIndex: 10000 entries, 0 to 9999\n",
      "Data columns (total 14 columns):\n",
      " #   Column           Non-Null Count  Dtype  \n",
      "---  ------           --------------  -----  \n",
      " 0   RowNumber        10000 non-null  int64  \n",
      " 1   CustomerId       10000 non-null  int64  \n",
      " 2   Surname          10000 non-null  object \n",
      " 3   CreditScore      10000 non-null  int64  \n",
      " 4   Geography        10000 non-null  object \n",
      " 5   Gender           10000 non-null  object \n",
      " 6   Age              10000 non-null  int64  \n",
      " 7   Tenure           10000 non-null  int64  \n",
      " 8   Balance          10000 non-null  float64\n",
      " 9   NumOfProducts    10000 non-null  int64  \n",
      " 10  HasCrCard        10000 non-null  int64  \n",
      " 11  IsActiveMember   10000 non-null  int64  \n",
      " 12  EstimatedSalary  10000 non-null  float64\n",
      " 13  Exited           10000 non-null  int64  \n",
      "dtypes: float64(2), int64(9), object(3)\n",
      "memory usage: 1.1+ MB\n"
     ]
    }
   ],
   "source": [
    "data.info()"
   ]
  },
  {
   "cell_type": "code",
   "execution_count": 6,
   "metadata": {
    "colab": {
     "base_uri": "https://localhost:8080/"
    },
    "executionInfo": {
     "elapsed": 134,
     "status": "ok",
     "timestamp": 1678012446439,
     "user": {
      "displayName": "Madhuri Gandikota",
      "userId": "06840075266312606278"
     },
     "user_tz": 360
    },
    "id": "Nzl9OR0ufLWw",
    "outputId": "3f116b51-0604-45b6-b811-0c7d2e41b7a4"
   },
   "outputs": [
    {
     "data": {
      "text/plain": [
       "(10000, 14)"
      ]
     },
     "execution_count": 6,
     "metadata": {},
     "output_type": "execute_result"
    }
   ],
   "source": [
    "#Checking the shape of the data\n",
    "data.shape"
   ]
  },
  {
   "cell_type": "code",
   "execution_count": 7,
   "metadata": {
    "colab": {
     "base_uri": "https://localhost:8080/"
    },
    "executionInfo": {
     "elapsed": 116,
     "status": "ok",
     "timestamp": 1678012446440,
     "user": {
      "displayName": "Madhuri Gandikota",
      "userId": "06840075266312606278"
     },
     "user_tz": 360
    },
    "id": "nC-mFx9gfSTu",
    "outputId": "9ab213fc-ffc5-488f-d9fe-510ece95989e"
   },
   "outputs": [
    {
     "data": {
      "text/plain": [
       "RowNumber          0\n",
       "CustomerId         0\n",
       "Surname            0\n",
       "CreditScore        0\n",
       "Geography          0\n",
       "Gender             0\n",
       "Age                0\n",
       "Tenure             0\n",
       "Balance            0\n",
       "NumOfProducts      0\n",
       "HasCrCard          0\n",
       "IsActiveMember     0\n",
       "EstimatedSalary    0\n",
       "Exited             0\n",
       "dtype: int64"
      ]
     },
     "execution_count": 7,
     "metadata": {},
     "output_type": "execute_result"
    }
   ],
   "source": [
    "data.isnull().sum()"
   ]
  },
  {
   "cell_type": "markdown",
   "metadata": {
    "id": "2QKvAmo8fUdm"
   },
   "source": [
    "No Null values !!"
   ]
  },
  {
   "cell_type": "code",
   "execution_count": 8,
   "metadata": {
    "colab": {
     "base_uri": "https://localhost:8080/"
    },
    "executionInfo": {
     "elapsed": 98,
     "status": "ok",
     "timestamp": 1678012446440,
     "user": {
      "displayName": "Madhuri Gandikota",
      "userId": "06840075266312606278"
     },
     "user_tz": 360
    },
    "id": "HeZB44SwfYg7",
    "outputId": "d4705ad8-e2cd-435f-f1fb-fa801ee46877"
   },
   "outputs": [
    {
     "data": {
      "text/plain": [
       "0"
      ]
     },
     "execution_count": 8,
     "metadata": {},
     "output_type": "execute_result"
    }
   ],
   "source": [
    "data.duplicated().sum()"
   ]
  },
  {
   "cell_type": "markdown",
   "metadata": {
    "id": "ZK4XIlV8fZsu"
   },
   "source": [
    "No dupes !"
   ]
  },
  {
   "cell_type": "code",
   "execution_count": 9,
   "metadata": {
    "colab": {
     "base_uri": "https://localhost:8080/"
    },
    "executionInfo": {
     "elapsed": 81,
     "status": "ok",
     "timestamp": 1678012446441,
     "user": {
      "displayName": "Madhuri Gandikota",
      "userId": "06840075266312606278"
     },
     "user_tz": 360
    },
    "id": "UNTfRy-SfbLm",
    "outputId": "8046f9bf-c85d-4ab5-89d1-a65fb68aa328"
   },
   "outputs": [
    {
     "data": {
      "text/plain": [
       "RowNumber            int64\n",
       "CustomerId           int64\n",
       "Surname             object\n",
       "CreditScore          int64\n",
       "Geography           object\n",
       "Gender              object\n",
       "Age                  int64\n",
       "Tenure               int64\n",
       "Balance            float64\n",
       "NumOfProducts        int64\n",
       "HasCrCard            int64\n",
       "IsActiveMember       int64\n",
       "EstimatedSalary    float64\n",
       "Exited               int64\n",
       "dtype: object"
      ]
     },
     "execution_count": 9,
     "metadata": {},
     "output_type": "execute_result"
    }
   ],
   "source": [
    "#Checking the dtypes of the variables in the data\n",
    "data.dtypes"
   ]
  },
  {
   "cell_type": "code",
   "execution_count": 10,
   "metadata": {
    "executionInfo": {
     "elapsed": 65,
     "status": "ok",
     "timestamp": 1678012446442,
     "user": {
      "displayName": "Madhuri Gandikota",
      "userId": "06840075266312606278"
     },
     "user_tz": 360
    },
    "id": "VX8CARqAfhTp"
   },
   "outputs": [],
   "source": [
    "data.drop(['RowNumber','CustomerId','Surname'],axis=1,inplace=True)"
   ]
  },
  {
   "cell_type": "markdown",
   "metadata": {
    "id": "_cpu8T7kfkfN"
   },
   "source": [
    "drop'RowNumber','CustomerId','Surname' as they are no value in the Model"
   ]
  },
  {
   "cell_type": "code",
   "execution_count": 11,
   "metadata": {
    "colab": {
     "base_uri": "https://localhost:8080/"
    },
    "executionInfo": {
     "elapsed": 64,
     "status": "ok",
     "timestamp": 1678012446442,
     "user": {
      "displayName": "Madhuri Gandikota",
      "userId": "06840075266312606278"
     },
     "user_tz": 360
    },
    "id": "VZPEff_1hJ_l",
    "outputId": "40967213-3e6e-40db-8e59-8e291e5389fa"
   },
   "outputs": [
    {
     "name": "stdout",
     "output_type": "stream",
     "text": [
      "<class 'pandas.core.frame.DataFrame'>\n",
      "RangeIndex: 10000 entries, 0 to 9999\n",
      "Data columns (total 11 columns):\n",
      " #   Column           Non-Null Count  Dtype  \n",
      "---  ------           --------------  -----  \n",
      " 0   CreditScore      10000 non-null  int64  \n",
      " 1   Geography        10000 non-null  object \n",
      " 2   Gender           10000 non-null  object \n",
      " 3   Age              10000 non-null  int64  \n",
      " 4   Tenure           10000 non-null  int64  \n",
      " 5   Balance          10000 non-null  float64\n",
      " 6   NumOfProducts    10000 non-null  int64  \n",
      " 7   HasCrCard        10000 non-null  int64  \n",
      " 8   IsActiveMember   10000 non-null  int64  \n",
      " 9   EstimatedSalary  10000 non-null  float64\n",
      " 10  Exited           10000 non-null  int64  \n",
      "dtypes: float64(2), int64(7), object(2)\n",
      "memory usage: 859.5+ KB\n"
     ]
    }
   ],
   "source": [
    "data.info()"
   ]
  },
  {
   "cell_type": "markdown",
   "metadata": {
    "id": "JwYT0P4egOV2"
   },
   "source": []
  },
  {
   "cell_type": "code",
   "execution_count": 12,
   "metadata": {
    "colab": {
     "base_uri": "https://localhost:8080/"
    },
    "executionInfo": {
     "elapsed": 48,
     "status": "ok",
     "timestamp": 1678012446443,
     "user": {
      "displayName": "Madhuri Gandikota",
      "userId": "06840075266312606278"
     },
     "user_tz": 360
    },
    "id": "ylxDAeTof6VW",
    "outputId": "e3416b4e-7081-4665-cfcc-65229c0f6349"
   },
   "outputs": [
    {
     "data": {
      "text/plain": [
       "0    7963\n",
       "1    2037\n",
       "Name: Exited, dtype: int64"
      ]
     },
     "execution_count": 12,
     "metadata": {},
     "output_type": "execute_result"
    }
   ],
   "source": [
    "data[\"Exited\"].value_counts()"
   ]
  },
  {
   "cell_type": "markdown",
   "metadata": {
    "id": "16OFVm8QgUja"
   },
   "source": [
    "This is an unbalanced dataset. May pose problem in the Model MEtrics"
   ]
  },
  {
   "cell_type": "code",
   "execution_count": 13,
   "metadata": {
    "colab": {
     "base_uri": "https://localhost:8080/"
    },
    "executionInfo": {
     "elapsed": 32,
     "status": "ok",
     "timestamp": 1678012446444,
     "user": {
      "displayName": "Madhuri Gandikota",
      "userId": "06840075266312606278"
     },
     "user_tz": 360
    },
    "id": "dc8WWDqXgepQ",
    "outputId": "9be63fe8-60e1-4f1c-c832-c6e553754f62"
   },
   "outputs": [
    {
     "name": "stdout",
     "output_type": "stream",
     "text": [
      "Unique values in Geography are :\n",
      "France     5014\n",
      "Germany    2509\n",
      "Spain      2477\n",
      "Name: Geography, dtype: int64\n",
      "**************************************************\n",
      "Unique values in Gender are :\n",
      "Male      5457\n",
      "Female    4543\n",
      "Name: Gender, dtype: int64\n",
      "**************************************************\n"
     ]
    }
   ],
   "source": [
    "for i in data.describe(include=[\"object\"]).columns:\n",
    "    print(\"Unique values in\", i, \"are :\")\n",
    "    print(data[i].value_counts())\n",
    "    print(\"*\" * 50)"
   ]
  },
  {
   "cell_type": "code",
   "execution_count": 14,
   "metadata": {
    "executionInfo": {
     "elapsed": 16,
     "status": "ok",
     "timestamp": 1678012446444,
     "user": {
      "displayName": "Madhuri Gandikota",
      "userId": "06840075266312606278"
     },
     "user_tz": 360
    },
    "id": "eGioH8r9hgln"
   },
   "outputs": [],
   "source": [
    "# Function to plot a boxplot and a histogram along the same scale.\n",
    "\n",
    "\n",
    "def histogram_boxplot(data, feature, figsize=(12, 7), kde=False, bins=None):\n",
    "    \"\"\"\n",
    "    Boxplot and histogram combined\n",
    "\n",
    "    data: dataframe\n",
    "    feature: dataframe column\n",
    "    figsize: size of figure (default (12,7))\n",
    "    kde: whether to the show density curve (default False)\n",
    "    bins: number of bins for histogram (default None)\n",
    "    \"\"\"\n",
    "    f2, (ax_box2, ax_hist2) = plt.subplots(\n",
    "        nrows=2,  # Number of rows of the subplot grid= 2\n",
    "        sharex=True,  # x-axis will be shared among all subplots\n",
    "        gridspec_kw={\"height_ratios\": (0.25, 0.75)},\n",
    "        figsize=figsize,\n",
    "    )  # creating the 2 subplots\n",
    "    sns.boxplot(\n",
    "        data=data, x=feature, ax=ax_box2, showmeans=True, color=\"violet\"\n",
    "    )  # boxplot will be created and a star will indicate the mean value of the column\n",
    "    sns.histplot(\n",
    "        data=data, x=feature, kde=kde, ax=ax_hist2, bins=bins, palette=\"winter\"\n",
    "    ) if bins else sns.histplot(\n",
    "        data=data, x=feature, kde=kde, ax=ax_hist2\n",
    "    )  # For histogram\n",
    "    ax_hist2.axvline(\n",
    "        data[feature].mean(), color=\"green\", linestyle=\"--\"\n",
    "    )  # Add mean to the histogram\n",
    "    ax_hist2.axvline(\n",
    "        data[feature].median(), color=\"black\", linestyle=\"-\"\n",
    "    )  # Add median to the histogram"
   ]
  },
  {
   "cell_type": "code",
   "execution_count": 15,
   "metadata": {
    "colab": {
     "base_uri": "https://localhost:8080/",
     "height": 442
    },
    "executionInfo": {
     "elapsed": 1186,
     "status": "ok",
     "timestamp": 1678012447615,
     "user": {
      "displayName": "Madhuri Gandikota",
      "userId": "06840075266312606278"
     },
     "user_tz": 360
    },
    "id": "hXqfWQVsNFtB",
    "outputId": "99a1be23-7e1d-4741-ec4d-096790becdd3"
   },
   "outputs": [
    {
     "data": {
      "image/png": "[encoded data removed]",
      "text/plain": [
       "<Figure size 864x504 with 2 Axes>"
      ]
     },
     "metadata": {
      "needs_background": "light"
     },
     "output_type": "display_data"
    }
   ],
   "source": [
    "histogram_boxplot(data, \"Age\")"
   ]
  },
  {
   "cell_type": "markdown",
   "metadata": {
    "id": "3n7NUvJvNaom"
   },
   "source": [
    "There are some people more than 80 years. "
   ]
  },
  {
   "cell_type": "code",
   "execution_count": 16,
   "metadata": {
    "colab": {
     "base_uri": "https://localhost:8080/",
     "height": 442
    },
    "executionInfo": {
     "elapsed": 9,
     "status": "ok",
     "timestamp": 1678012447616,
     "user": {
      "displayName": "Madhuri Gandikota",
      "userId": "06840075266312606278"
     },
     "user_tz": 360
    },
    "id": "a8iQYsY7Qfbo",
    "outputId": "51a44e2c-a15b-49bf-dde5-86c7e5385a22"
   },
   "outputs": [
    {
     "data": {
      "image/png": "[encoded data removed]",
      "text/plain": [
       "<Figure size 864x504 with 2 Axes>"
      ]
     },
     "metadata": {
      "needs_background": "light"
     },
     "output_type": "display_data"
    }
   ],
   "source": [
    "histogram_boxplot(data, \"Tenure\")"
   ]
  },
  {
   "cell_type": "markdown",
   "metadata": {
    "id": "6v7iCWjRQq6E"
   },
   "source": [
    "Members stayed in the bank upto 10 years !!\n",
    "5 years is the average tenure. \n",
    "About 50% are less than 5 years and we need to target these people so that they do not exit. "
   ]
  },
  {
   "cell_type": "code",
   "execution_count": 17,
   "metadata": {
    "colab": {
     "base_uri": "https://localhost:8080/",
     "height": 442
    },
    "executionInfo": {
     "elapsed": 447,
     "status": "ok",
     "timestamp": 1678012448056,
     "user": {
      "displayName": "Madhuri Gandikota",
      "userId": "06840075266312606278"
     },
     "user_tz": 360
    },
    "id": "8qpTBLnWSUdR",
    "outputId": "ed51c047-3ab0-457a-a0d9-03a76d18ff56"
   },
   "outputs": [
    {
     "data": {
      "image/png": "[encoded data removed]",
      "text/plain": [
       "<Figure size 864x504 with 2 Axes>"
      ]
     },
     "metadata": {
      "needs_background": "light"
     },
     "output_type": "display_data"
    }
   ],
   "source": [
    "histogram_boxplot(data, \"NumOfProducts\")"
   ]
  },
  {
   "cell_type": "markdown",
   "metadata": {
    "id": "GI9vUDTuSfvb"
   },
   "source": [
    "There are 4 products the bank offers. Out of which most (about 50%) customers use 1 product and about 45% use 2 products and very few people use 4 products. \n",
    "As these are real users , I dont want to treat any outliers. "
   ]
  },
  {
   "cell_type": "markdown",
   "metadata": {
    "id": "nnY_UMTuSWU8"
   },
   "source": [
    "NumOfProducts "
   ]
  },
  {
   "cell_type": "code",
   "execution_count": 18,
   "metadata": {
    "colab": {
     "base_uri": "https://localhost:8080/",
     "height": 442
    },
    "executionInfo": {
     "elapsed": 898,
     "status": "ok",
     "timestamp": 1678012448948,
     "user": {
      "displayName": "Madhuri Gandikota",
      "userId": "06840075266312606278"
     },
     "user_tz": 360
    },
    "id": "JKJFoeBqNjey",
    "outputId": "a272baa0-1e2e-4a3f-9fd7-7cbe998ae8a5"
   },
   "outputs": [
    {
     "data": {
      "image/png": "[encoded data removed]",
      "text/plain": [
       "<Figure size 864x504 with 2 Axes>"
      ]
     },
     "metadata": {
      "needs_background": "light"
     },
     "output_type": "display_data"
    }
   ],
   "source": [
    "histogram_boxplot(data, \"Balance\")"
   ]
  },
  {
   "cell_type": "markdown",
   "metadata": {
    "id": "W346wFCpOtRA"
   },
   "source": [
    "There are few people with 200,000 and more Balance."
   ]
  },
  {
   "cell_type": "code",
   "execution_count": 19,
   "metadata": {
    "colab": {
     "base_uri": "https://localhost:8080/",
     "height": 442
    },
    "executionInfo": {
     "elapsed": 169,
     "status": "ok",
     "timestamp": 1678012449112,
     "user": {
      "displayName": "Madhuri Gandikota",
      "userId": "06840075266312606278"
     },
     "user_tz": 360
    },
    "id": "H385bPtOOJpl",
    "outputId": "aa734a26-89d6-4a72-f033-e2263009d9a7"
   },
   "outputs": [
    {
     "data": {
      "image/png": "[encoded data removed]",
      "text/plain": [
       "<Figure size 864x504 with 2 Axes>"
      ]
     },
     "metadata": {
      "needs_background": "light"
     },
     "output_type": "display_data"
    }
   ],
   "source": [
    "histogram_boxplot(data, \"EstimatedSalary\")"
   ]
  },
  {
   "cell_type": "code",
   "execution_count": 20,
   "metadata": {
    "executionInfo": {
     "elapsed": 15,
     "status": "ok",
     "timestamp": 1678012449113,
     "user": {
      "displayName": "Madhuri Gandikota",
      "userId": "06840075266312606278"
     },
     "user_tz": 360
    },
    "id": "0moNMPnMO-tr"
   },
   "outputs": [],
   "source": [
    "# Function to create labeled barplots\n",
    "\n",
    "\n",
    "def labeled_barplot(data, feature, perc=False, n=None):\n",
    "    \"\"\"\n",
    "    Barplot with percentage at the top\n",
    "\n",
    "    data: dataframe\n",
    "    feature: dataframe column\n",
    "    perc: whether to display percentages instead of count (default is False)\n",
    "    n: displays the top n category levels (default is None, i.e., display all levels)\n",
    "    \"\"\"\n",
    "\n",
    "    total = len(data[feature])  # length of the column\n",
    "    count = data[feature].nunique()\n",
    "    if n is None:\n",
    "        plt.figure(figsize=(count + 1, 5))\n",
    "    else:\n",
    "        plt.figure(figsize=(n + 1, 5))\n",
    "\n",
    "    plt.xticks(rotation=90, fontsize=15)\n",
    "    ax = sns.countplot(\n",
    "        data=data,\n",
    "        x=feature,\n",
    "        palette=\"Paired\",\n",
    "        order=data[feature].value_counts().index[:n].sort_values(),\n",
    "    )\n",
    "\n",
    "    for p in ax.patches:\n",
    "        if perc == True:\n",
    "            label = \"{:.1f}%\".format(\n",
    "                100 * p.get_height() / total\n",
    "            )  # percentage of each class of the category\n",
    "        else:\n",
    "            label = p.get_height()  # count of each level of the category\n",
    "\n",
    "        x = p.get_x() + p.get_width() / 2  # width of the plot\n",
    "        y = p.get_height()  # height of the plot\n",
    "\n",
    "        ax.annotate(\n",
    "            label,\n",
    "            (x, y),\n",
    "            ha=\"center\",\n",
    "            va=\"center\",\n",
    "            size=12,\n",
    "            xytext=(0, 5),\n",
    "            textcoords=\"offset points\",\n",
    "        )  # annotate the percentage\n",
    "\n",
    "    plt.show()  # show the plot"
   ]
  },
  {
   "cell_type": "code",
   "execution_count": 21,
   "metadata": {
    "colab": {
     "base_uri": "https://localhost:8080/",
     "height": 378
    },
    "executionInfo": {
     "elapsed": 14,
     "status": "ok",
     "timestamp": 1678012449113,
     "user": {
      "displayName": "Madhuri Gandikota",
      "userId": "06840075266312606278"
     },
     "user_tz": 360
    },
    "id": "VmmsyVB_PdFr",
    "outputId": "fc2f1896-db99-4d76-f162-ac20169a1676"
   },
   "outputs": [
    {
     "data": {
      "image/png": "[encoded data removed]",
      "text/plain": [
       "<Figure size 216x360 with 1 Axes>"
      ]
     },
     "metadata": {
      "needs_background": "light"
     },
     "output_type": "display_data"
    }
   ],
   "source": [
    "labeled_barplot(data, \"Gender\")"
   ]
  },
  {
   "cell_type": "markdown",
   "metadata": {
    "id": "n5fnDod-P2zS"
   },
   "source": [
    "Men are slight higher in number "
   ]
  },
  {
   "cell_type": "code",
   "execution_count": 22,
   "metadata": {
    "colab": {
     "base_uri": "https://localhost:8080/",
     "height": 333
    },
    "executionInfo": {
     "elapsed": 13,
     "status": "ok",
     "timestamp": 1678012449114,
     "user": {
      "displayName": "Madhuri Gandikota",
      "userId": "06840075266312606278"
     },
     "user_tz": 360
    },
    "id": "GCsrDTJZUOh3",
    "outputId": "00f0e85e-d27d-4948-ae63-2042a6e9050f"
   },
   "outputs": [
    {
     "data": {
      "image/png": "[encoded data removed]",
      "text/plain": [
       "<Figure size 216x360 with 1 Axes>"
      ]
     },
     "metadata": {
      "needs_background": "light"
     },
     "output_type": "display_data"
    }
   ],
   "source": [
    "labeled_barplot(data, \"HasCrCard\")"
   ]
  },
  {
   "cell_type": "markdown",
   "metadata": {
    "id": "C_6Q8rXUUPhN"
   },
   "source": [
    " HasCrCard: About 7055 (70%) people have credit card"
   ]
  },
  {
   "cell_type": "code",
   "execution_count": 23,
   "metadata": {
    "colab": {
     "base_uri": "https://localhost:8080/",
     "height": 333
    },
    "executionInfo": {
     "elapsed": 190,
     "status": "ok",
     "timestamp": 1678012449292,
     "user": {
      "displayName": "Madhuri Gandikota",
      "userId": "06840075266312606278"
     },
     "user_tz": 360
    },
    "id": "aJulTYuRUads",
    "outputId": "4f9190ee-0bbf-4176-d47c-43e9b559b787"
   },
   "outputs": [
    {
     "data": {
      "image/png": "[encoded data removed]",
      "text/plain": [
       "<Figure size 360x360 with 1 Axes>"
      ]
     },
     "metadata": {
      "needs_background": "light"
     },
     "output_type": "display_data"
    }
   ],
   "source": [
    "labeled_barplot(data, \"NumOfProducts\")"
   ]
  },
  {
   "cell_type": "markdown",
   "metadata": {
    "id": "sjA_6eRqUiQd"
   },
   "source": [
    "ABout 50% have one product, followed by 46% have 2 products , only 60 people have 4 products"
   ]
  },
  {
   "cell_type": "code",
   "execution_count": 24,
   "metadata": {
    "colab": {
     "base_uri": "https://localhost:8080/",
     "height": 343
    },
    "executionInfo": {
     "elapsed": 371,
     "status": "ok",
     "timestamp": 1678012449659,
     "user": {
      "displayName": "Madhuri Gandikota",
      "userId": "06840075266312606278"
     },
     "user_tz": 360
    },
    "id": "1HIqgoSQU40o",
    "outputId": "83ea5dbd-c3c5-4a69-cc33-7c5d0a4aeb79"
   },
   "outputs": [
    {
     "data": {
      "image/png": "[encoded data removed]",
      "text/plain": [
       "<Figure size 864x360 with 1 Axes>"
      ]
     },
     "metadata": {
      "needs_background": "light"
     },
     "output_type": "display_data"
    }
   ],
   "source": [
    "labeled_barplot(data, \"Tenure\")"
   ]
  },
  {
   "cell_type": "markdown",
   "metadata": {
    "id": "SQAETUcPU0Jl"
   },
   "source": [
    "Tenure: Little about 50% people are 5 and less years with the bank. \n",
    "THese are the people who neends to be targeted. \n",
    "About 500 people are for 10 years, and about 400 are less than a year"
   ]
  },
  {
   "cell_type": "code",
   "execution_count": 25,
   "metadata": {
    "colab": {
     "base_uri": "https://localhost:8080/",
     "height": 393
    },
    "executionInfo": {
     "elapsed": 265,
     "status": "ok",
     "timestamp": 1678012449921,
     "user": {
      "displayName": "Madhuri Gandikota",
      "userId": "06840075266312606278"
     },
     "user_tz": 360
    },
    "id": "faefb8LjP9rU",
    "outputId": "f2018088-9658-4a97-c3cf-b7477673ffdf"
   },
   "outputs": [
    {
     "data": {
      "image/png": "[encoded data removed]",
      "text/plain": [
       "<Figure size 288x360 with 1 Axes>"
      ]
     },
     "metadata": {
      "needs_background": "light"
     },
     "output_type": "display_data"
    }
   ],
   "source": [
    "labeled_barplot(data, \"Geography\")"
   ]
  },
  {
   "cell_type": "markdown",
   "metadata": {
    "id": "QspraxoZQJ41"
   },
   "source": [
    "The members are from three countries, France-highest, Germany and Spain follow in that order"
   ]
  },
  {
   "cell_type": "markdown",
   "metadata": {
    "id": "pbfcOPvHOglE"
   },
   "source": []
  },
  {
   "cell_type": "markdown",
   "metadata": {
    "id": "UHKG54IgNuin"
   },
   "source": [
    "The salary is normally distibuted. !"
   ]
  },
  {
   "cell_type": "code",
   "execution_count": 26,
   "metadata": {
    "colab": {
     "base_uri": "https://localhost:8080/",
     "height": 333
    },
    "executionInfo": {
     "elapsed": 257,
     "status": "ok",
     "timestamp": 1678012450172,
     "user": {
      "displayName": "Madhuri Gandikota",
      "userId": "06840075266312606278"
     },
     "user_tz": 360
    },
    "id": "dpKYwqQ4XvOA",
    "outputId": "f09f375d-de1e-43b3-f560-b97c76d7b21d"
   },
   "outputs": [
    {
     "data": {
      "image/png": "[encoded data removed]",
      "text/plain": [
       "<Figure size 216x360 with 1 Axes>"
      ]
     },
     "metadata": {
      "needs_background": "light"
     },
     "output_type": "display_data"
    }
   ],
   "source": [
    "labeled_barplot(data, \"Exited\")"
   ]
  },
  {
   "cell_type": "markdown",
   "metadata": {
    "id": "rVboHqI1X7Tu"
   },
   "source": [
    "This pie chart shows that the actual distribution of classes is itself imbalanced for the target variable.\n",
    "Only ~20% of the customers in this dataset have exited the bank. \n",
    "Hence, this dataset and problem statement represent an example of Imbalanced Classification, which has unique challenges in comparison to performing classification over balanced target variables."
   ]
  },
  {
   "cell_type": "markdown",
   "metadata": {
    "id": "zOuAuF8vYNmf"
   },
   "source": [
    "# **Bivariate Analysis**"
   ]
  },
  {
   "cell_type": "code",
   "execution_count": 27,
   "metadata": {
    "executionInfo": {
     "elapsed": 6,
     "status": "ok",
     "timestamp": 1678012450173,
     "user": {
      "displayName": "Madhuri Gandikota",
      "userId": "06840075266312606278"
     },
     "user_tz": 360
    },
    "id": "u26MRr_4YQ4m"
   },
   "outputs": [],
   "source": [
    "### Function to plot distributions\n",
    "\n",
    "\n",
    "def distribution_plot_wrt_target(data, predictor, target):\n",
    "\n",
    "    fig, axs = plt.subplots(2, 2, figsize=(12, 10))\n",
    "\n",
    "    target_uniq = data[target].unique()\n",
    "\n",
    "    axs[0, 0].set_title(\"Distribution of target for target=\" + str(target_uniq[0]))\n",
    "    sns.histplot(\n",
    "        data=data[data[target] == target_uniq[0]],\n",
    "        x=predictor,\n",
    "        kde=True,\n",
    "        ax=axs[0, 0],\n",
    "        color=\"teal\",\n",
    "    )\n",
    "\n",
    "    axs[0, 1].set_title(\"Distribution of target for target=\" + str(target_uniq[1]))\n",
    "    sns.histplot(\n",
    "        data=data[data[target] == target_uniq[1]],\n",
    "        x=predictor,\n",
    "        kde=True,\n",
    "        ax=axs[0, 1],\n",
    "        color=\"orange\",\n",
    "    )\n",
    "\n",
    "    axs[1, 0].set_title(\"Boxplot w.r.t target\")\n",
    "    sns.boxplot(data=data, x=target, y=predictor, ax=axs[1, 0], palette=\"gist_rainbow\")\n",
    "\n",
    "    axs[1, 1].set_title(\"Boxplot (without outliers) w.r.t target\")\n",
    "    sns.boxplot(\n",
    "        data=data,\n",
    "        x=target,\n",
    "        y=predictor,\n",
    "        ax=axs[1, 1],\n",
    "        showfliers=False,\n",
    "        palette=\"gist_rainbow\",\n",
    "    )\n",
    "\n",
    "    plt.tight_layout()\n",
    "    plt.show()"
   ]
  },
  {
   "cell_type": "code",
   "execution_count": 28,
   "metadata": {
    "colab": {
     "base_uri": "https://localhost:8080/",
     "height": 729
    },
    "executionInfo": {
     "elapsed": 2411,
     "status": "ok",
     "timestamp": 1678012452579,
     "user": {
      "displayName": "Madhuri Gandikota",
      "userId": "06840075266312606278"
     },
     "user_tz": 360
    },
    "id": "B8zsHGbuYYlw",
    "outputId": "7719cd58-9a5d-4471-aa65-2cc44e931c46"
   },
   "outputs": [
    {
     "data": {
      "image/png": "[encoded data removed]",
      "text/plain": [
       "<Figure size 864x720 with 4 Axes>"
      ]
     },
     "metadata": {
      "needs_background": "light"
     },
     "output_type": "display_data"
    }
   ],
   "source": [
    "distribution_plot_wrt_target(data, \"Age\", \"Exited\")"
   ]
  },
  {
   "cell_type": "markdown",
   "metadata": {
    "id": "VCWqjQXBYtpK"
   },
   "source": [
    "The Median age of people who exited the bank is higher Appr. 46 yers. \n",
    "The people who stay in the bank younger . \n"
   ]
  },
  {
   "cell_type": "code",
   "execution_count": 29,
   "metadata": {
    "colab": {
     "base_uri": "https://localhost:8080/",
     "height": 729
    },
    "executionInfo": {
     "elapsed": 1422,
     "status": "ok",
     "timestamp": 1678012453997,
     "user": {
      "displayName": "Madhuri Gandikota",
      "userId": "06840075266312606278"
     },
     "user_tz": 360
    },
    "id": "C0dMEq_wZN4V",
    "outputId": "f99c0dc6-baea-4a6b-b23e-665349d83d2b"
   },
   "outputs": [
    {
     "data": {
      "image/png": "[encoded data removed]",
      "text/plain": [
       "<Figure size 864x720 with 4 Axes>"
      ]
     },
     "metadata": {
      "needs_background": "light"
     },
     "output_type": "display_data"
    }
   ],
   "source": [
    "distribution_plot_wrt_target(data, \"Balance\", \"Exited\")"
   ]
  },
  {
   "cell_type": "markdown",
   "metadata": {
    "id": "h0QcGNQDaOYj"
   },
   "source": [
    "People who DID NOT EXIT the bank have slightly more balance (120000ish) than the customers who exited (little less than 100000)"
   ]
  },
  {
   "cell_type": "code",
   "execution_count": 129,
   "metadata": {
    "colab": {
     "base_uri": "https://localhost:8080/",
     "height": 729
    },
    "executionInfo": {
     "elapsed": 2129,
     "status": "ok",
     "timestamp": 1678014752032,
     "user": {
      "displayName": "Madhuri Gandikota",
      "userId": "06840075266312606278"
     },
     "user_tz": 360
    },
    "id": "2_nFXOaueDCU",
    "outputId": "ca02a82e-63f2-4d31-c2c2-f73ed5b62656"
   },
   "outputs": [
    {
     "data": {
      "image/png": "[encoded data removed]",
      "text/plain": [
       "<Figure size 864x720 with 4 Axes>"
      ]
     },
     "metadata": {
      "needs_background": "light"
     },
     "output_type": "display_data"
    }
   ],
   "source": [
    "distribution_plot_wrt_target(data, \"NumOfProducts\", \"Exited\")"
   ]
  },
  {
   "cell_type": "code",
   "execution_count": 130,
   "metadata": {
    "colab": {
     "base_uri": "https://localhost:8080/",
     "height": 729
    },
    "executionInfo": {
     "elapsed": 1562,
     "status": "ok",
     "timestamp": 1678015358467,
     "user": {
      "displayName": "Madhuri Gandikota",
      "userId": "06840075266312606278"
     },
     "user_tz": 360
    },
    "id": "gB-AkAdngf-c",
    "outputId": "0123bf91-ea77-43aa-8b81-966ea454a466"
   },
   "outputs": [
    {
     "data": {
      "image/png": "[encoded data removed]",
      "text/plain": [
       "<Figure size 864x720 with 4 Axes>"
      ]
     },
     "metadata": {
      "needs_background": "light"
     },
     "output_type": "display_data"
    }
   ],
   "source": [
    "distribution_plot_wrt_target(data, \"IsActiveMember\", \"Exited\")"
   ]
  },
  {
   "cell_type": "code",
   "execution_count": 131,
   "metadata": {
    "colab": {
     "base_uri": "https://localhost:8080/",
     "height": 729
    },
    "executionInfo": {
     "elapsed": 1991,
     "status": "ok",
     "timestamp": 1678015409435,
     "user": {
      "displayName": "Madhuri Gandikota",
      "userId": "06840075266312606278"
     },
     "user_tz": 360
    },
    "id": "27GzkXSCguGY",
    "outputId": "6143b92d-a6ba-40cc-8695-1ffbeb16effe"
   },
   "outputs": [
    {
     "data": {
      "image/png": "[encoded data removed]",
      "text/plain": [
       "<Figure size 864x720 with 4 Axes>"
      ]
     },
     "metadata": {
      "needs_background": "light"
     },
     "output_type": "display_data"
    }
   ],
   "source": [
    "distribution_plot_wrt_target(data, \"Geography\", \"Exited\")"
   ]
  },
  {
   "cell_type": "code",
   "execution_count": 132,
   "metadata": {
    "colab": {
     "base_uri": "https://localhost:8080/",
     "height": 729
    },
    "executionInfo": {
     "elapsed": 2326,
     "status": "ok",
     "timestamp": 1678015492268,
     "user": {
      "displayName": "Madhuri Gandikota",
      "userId": "06840075266312606278"
     },
     "user_tz": 360
    },
    "id": "0DbPeTH3g87d",
    "outputId": "66617522-4ad6-4e6c-9256-f4302767dc57"
   },
   "outputs": [
    {
     "data": {
      "image/png": "[encoded data removed]",
      "text/plain": [
       "<Figure size 864x720 with 4 Axes>"
      ]
     },
     "metadata": {
      "needs_background": "light"
     },
     "output_type": "display_data"
    }
   ],
   "source": [
    "distribution_plot_wrt_target(data, \"CreditScore\", \"Exited\")"
   ]
  },
  {
   "cell_type": "markdown",
   "metadata": {
    "id": "KnNQioYsbn4W"
   },
   "source": [
    "sActiveMember  "
   ]
  },
  {
   "cell_type": "markdown",
   "metadata": {
    "id": "G1HPLj4Qhlmk"
   },
   "source": [
    "# **Model Building**"
   ]
  },
  {
   "cell_type": "code",
   "execution_count": 30,
   "metadata": {
    "executionInfo": {
     "elapsed": 60,
     "status": "ok",
     "timestamp": 1678012453998,
     "user": {
      "displayName": "Madhuri Gandikota",
      "userId": "06840075266312606278"
     },
     "user_tz": 360
    },
    "id": "sNCAiuOEhpoI"
   },
   "outputs": [],
   "source": [
    "## Separating Independent and Dependent Columns\n",
    "X = data.drop(['Exited'],axis=1)\n",
    "Y = data[['Exited']]"
   ]
  },
  {
   "cell_type": "code",
   "execution_count": 31,
   "metadata": {
    "colab": {
     "base_uri": "https://localhost:8080/",
     "height": 204
    },
    "executionInfo": {
     "elapsed": 59,
     "status": "ok",
     "timestamp": 1678012453998,
     "user": {
      "displayName": "Madhuri Gandikota",
      "userId": "06840075266312606278"
     },
     "user_tz": 360
    },
    "id": "ehfXa8mdh7tz",
    "outputId": "d647405b-21d1-44bd-8b4c-cd3ed3873eae"
   },
   "outputs": [
    {
     "data": {
      "text/html": [
       "\n",
       "  <div id=\"df-ea6d2db7-19ae-4e86-b0c9-22b3271cf4eb\">\n",
       "    <div class=\"colab-df-container\">\n",
       "      <div>\n",
       "<style scoped>\n",
       "    .dataframe tbody tr th:only-of-type {\n",
       "        vertical-align: middle;\n",
       "    }\n",
       "\n",
       "    .dataframe tbody tr th {\n",
       "        vertical-align: top;\n",
       "    }\n",
       "\n",
       "    .dataframe thead th {\n",
       "        text-align: right;\n",
       "    }\n",
       "</style>\n",
       "<table border=\"1\" class=\"dataframe\">\n",
       "  <thead>\n",
       "    <tr style=\"text-align: right;\">\n",
       "      <th></th>\n",
       "      <th>Exited</th>\n",
       "    </tr>\n",
       "  </thead>\n",
       "  <tbody>\n",
       "    <tr>\n",
       "      <th>0</th>\n",
       "      <td>1</td>\n",
       "    </tr>\n",
       "    <tr>\n",
       "      <th>1</th>\n",
       "      <td>0</td>\n",
       "    </tr>\n",
       "    <tr>\n",
       "      <th>2</th>\n",
       "      <td>1</td>\n",
       "    </tr>\n",
       "    <tr>\n",
       "      <th>3</th>\n",
       "      <td>0</td>\n",
       "    </tr>\n",
       "    <tr>\n",
       "      <th>4</th>\n",
       "      <td>0</td>\n",
       "    </tr>\n",
       "  </tbody>\n",
       "</table>\n",
       "</div>\n",
       "      <button class=\"colab-df-convert\" onclick=\"convertToInteractive('df-ea6d2db7-19ae-4e86-b0c9-22b3271cf4eb')\"\n",
       "              title=\"Convert this dataframe to an interactive table.\"\n",
       "              style=\"display:none;\">\n",
       "        \n",
       "  <svg xmlns=\"http://www.w3.org/2000/svg\" height=\"24px\"viewBox=\"0 0 24 24\"\n",
       "       width=\"24px\">\n",
       "    <path d=\"M0 0h24v24H0V0z\" fill=\"none\"/>\n",
       "    <path d=\"M18.56 5.44l.94 2.06.94-2.06 2.06-.94-2.06-.94-.94-2.06-.94 2.06-2.06.94zm-11 1L8.5 8.5l.94-2.06 2.06-.94-2.06-.94L8.5 2.5l-.94 2.06-2.06.94zm10 10l.94 2.06.94-2.06 2.06-.94-2.06-.94-.94-2.06-.94 2.06-2.06.94z\"/><path d=\"M17.41 7.96l-1.37-1.37c-.4-.4-.92-.59-1.43-.59-.52 0-1.04.2-1.43.59L10.3 9.45l-7.72 7.72c-.78.78-.78 2.05 0 2.83L4 21.41c.39.39.9.59 1.41.59.51 0 1.02-.2 1.41-.59l7.78-7.78 2.81-2.81c.8-.78.8-2.07 0-2.86zM5.41 20L4 18.59l7.72-7.72 1.47 1.35L5.41 20z\"/>\n",
       "  </svg>\n",
       "      </button>\n",
       "      \n",
       "  <style>\n",
       "    .colab-df-container {\n",
       "      display:flex;\n",
       "      flex-wrap:wrap;\n",
       "      gap: 12px;\n",
       "    }\n",
       "\n",
       "    .colab-df-convert {\n",
       "      background-color: #E8F0FE;\n",
       "      border: none;\n",
       "      border-radius: 50%;\n",
       "      cursor: pointer;\n",
       "      display: none;\n",
       "      fill: #1967D2;\n",
       "      height: 32px;\n",
       "      padding: 0 0 0 0;\n",
       "      width: 32px;\n",
       "    }\n",
       "\n",
       "    .colab-df-convert:hover {\n",
       "      background-color: #E2EBFA;\n",
       "      box-shadow: 0px 1px 2px rgba(60, 64, 67, 0.3), 0px 1px 3px 1px rgba(60, 64, 67, 0.15);\n",
       "      fill: #174EA6;\n",
       "    }\n",
       "\n",
       "    [theme=dark] .colab-df-convert {\n",
       "      background-color: #3B4455;\n",
       "      fill: #D2E3FC;\n",
       "    }\n",
       "\n",
       "    [theme=dark] .colab-df-convert:hover {\n",
       "      background-color: #434B5C;\n",
       "      box-shadow: 0px 1px 3px 1px rgba(0, 0, 0, 0.15);\n",
       "      filter: drop-shadow(0px 1px 2px rgba(0, 0, 0, 0.3));\n",
       "      fill: #FFFFFF;\n",
       "    }\n",
       "  </style>\n",
       "\n",
       "      <script>\n",
       "        const buttonEl =\n",
       "          document.querySelector('#df-ea6d2db7-19ae-4e86-b0c9-22b3271cf4eb button.colab-df-convert');\n",
       "        buttonEl.style.display =\n",
       "          google.colab.kernel.accessAllowed ? 'block' : 'none';\n",
       "\n",
       "        async function convertToInteractive(key) {\n",
       "          const element = document.querySelector('#df-ea6d2db7-19ae-4e86-b0c9-22b3271cf4eb');\n",
       "          const dataTable =\n",
       "            await google.colab.kernel.invokeFunction('convertToInteractive',\n",
       "                                                     [key], {});\n",
       "          if (!dataTable) return;\n",
       "\n",
       "          const docLinkHtml = 'Like what you see? Visit the ' +\n",
       "            '<a target=\"_blank\" href=https://colab.research.google.com/notebooks/data_table.ipynb>data table notebook</a>'\n",
       "            + ' to learn more about interactive tables.';\n",
       "          element.innerHTML = '';\n",
       "          dataTable['output_type'] = 'display_data';\n",
       "          await google.colab.output.renderOutput(dataTable, element);\n",
       "          const docLink = document.createElement('div');\n",
       "          docLink.innerHTML = docLinkHtml;\n",
       "          element.appendChild(docLink);\n",
       "        }\n",
       "      </script>\n",
       "    </div>\n",
       "  </div>\n",
       "  "
      ],
      "text/plain": [
       "   Exited\n",
       "0       1\n",
       "1       0\n",
       "2       1\n",
       "3       0\n",
       "4       0"
      ]
     },
     "execution_count": 31,
     "metadata": {},
     "output_type": "execute_result"
    }
   ],
   "source": [
    "Y.head()"
   ]
  },
  {
   "cell_type": "code",
   "execution_count": 32,
   "metadata": {
    "executionInfo": {
     "elapsed": 59,
     "status": "ok",
     "timestamp": 1678012453999,
     "user": {
      "displayName": "Madhuri Gandikota",
      "userId": "06840075266312606278"
     },
     "user_tz": 360
    },
    "id": "yzKzHuc5h_H8"
   },
   "outputs": [],
   "source": [
    "# Splitting the dataset into the Training and Testing set.\n",
    "\n",
    "X_train, X_test, y_train, y_test = train_test_split(X,Y, test_size = 0.2, random_state = 42,stratify = Y)"
   ]
  },
  {
   "cell_type": "markdown",
   "metadata": {
    "id": "e5iW1FgIiahy"
   },
   "source": [
    "Checking that all Training set has values"
   ]
  },
  {
   "cell_type": "code",
   "execution_count": 33,
   "metadata": {
    "colab": {
     "base_uri": "https://localhost:8080/"
    },
    "executionInfo": {
     "elapsed": 58,
     "status": "ok",
     "timestamp": 1678012453999,
     "user": {
      "displayName": "Madhuri Gandikota",
      "userId": "06840075266312606278"
     },
     "user_tz": 360
    },
    "id": "6KCQ3hsKid9b",
    "outputId": "56115f78-160e-406f-8d37-696ad45ef1a3"
   },
   "outputs": [
    {
     "name": "stdout",
     "output_type": "stream",
     "text": [
      "CreditScore        0\n",
      "Geography          0\n",
      "Gender             0\n",
      "Age                0\n",
      "Tenure             0\n",
      "Balance            0\n",
      "NumOfProducts      0\n",
      "HasCrCard          0\n",
      "IsActiveMember     0\n",
      "EstimatedSalary    0\n",
      "dtype: int64\n",
      "------------------------------\n",
      "CreditScore        0\n",
      "Geography          0\n",
      "Gender             0\n",
      "Age                0\n",
      "Tenure             0\n",
      "Balance            0\n",
      "NumOfProducts      0\n",
      "HasCrCard          0\n",
      "IsActiveMember     0\n",
      "EstimatedSalary    0\n",
      "dtype: int64\n"
     ]
    }
   ],
   "source": [
    "# Checking that no column has missing values in train and test sets\n",
    "print(X_train.isna().sum())\n",
    "print(\"-\" * 30)\n",
    "print(X_test.isna().sum())"
   ]
  },
  {
   "cell_type": "code",
   "execution_count": 34,
   "metadata": {
    "colab": {
     "base_uri": "https://localhost:8080/",
     "height": 204
    },
    "executionInfo": {
     "elapsed": 40,
     "status": "ok",
     "timestamp": 1678012454000,
     "user": {
      "displayName": "Madhuri Gandikota",
      "userId": "06840075266312606278"
     },
     "user_tz": 360
    },
    "id": "xJRtu0xxjNz0",
    "outputId": "ee704c1c-4c2d-47c6-89c3-f00f10c22859"
   },
   "outputs": [
    {
     "data": {
      "text/html": [
       "\n",
       "  <div id=\"df-b24228b9-17e9-4b70-a5aa-55e58c1f73db\">\n",
       "    <div class=\"colab-df-container\">\n",
       "      <div>\n",
       "<style scoped>\n",
       "    .dataframe tbody tr th:only-of-type {\n",
       "        vertical-align: middle;\n",
       "    }\n",
       "\n",
       "    .dataframe tbody tr th {\n",
       "        vertical-align: top;\n",
       "    }\n",
       "\n",
       "    .dataframe thead th {\n",
       "        text-align: right;\n",
       "    }\n",
       "</style>\n",
       "<table border=\"1\" class=\"dataframe\">\n",
       "  <thead>\n",
       "    <tr style=\"text-align: right;\">\n",
       "      <th></th>\n",
       "      <th>CreditScore</th>\n",
       "      <th>Geography</th>\n",
       "      <th>Gender</th>\n",
       "      <th>Age</th>\n",
       "      <th>Tenure</th>\n",
       "      <th>Balance</th>\n",
       "      <th>NumOfProducts</th>\n",
       "      <th>HasCrCard</th>\n",
       "      <th>IsActiveMember</th>\n",
       "      <th>EstimatedSalary</th>\n",
       "    </tr>\n",
       "  </thead>\n",
       "  <tbody>\n",
       "    <tr>\n",
       "      <th>2151</th>\n",
       "      <td>753</td>\n",
       "      <td>France</td>\n",
       "      <td>Male</td>\n",
       "      <td>57</td>\n",
       "      <td>7</td>\n",
       "      <td>0.00</td>\n",
       "      <td>1</td>\n",
       "      <td>1</td>\n",
       "      <td>0</td>\n",
       "      <td>159475.08</td>\n",
       "    </tr>\n",
       "    <tr>\n",
       "      <th>8392</th>\n",
       "      <td>739</td>\n",
       "      <td>Germany</td>\n",
       "      <td>Male</td>\n",
       "      <td>32</td>\n",
       "      <td>3</td>\n",
       "      <td>102128.27</td>\n",
       "      <td>1</td>\n",
       "      <td>1</td>\n",
       "      <td>0</td>\n",
       "      <td>63981.37</td>\n",
       "    </tr>\n",
       "    <tr>\n",
       "      <th>5006</th>\n",
       "      <td>755</td>\n",
       "      <td>Germany</td>\n",
       "      <td>Female</td>\n",
       "      <td>37</td>\n",
       "      <td>0</td>\n",
       "      <td>113865.23</td>\n",
       "      <td>2</td>\n",
       "      <td>1</td>\n",
       "      <td>1</td>\n",
       "      <td>117396.25</td>\n",
       "    </tr>\n",
       "    <tr>\n",
       "      <th>4117</th>\n",
       "      <td>561</td>\n",
       "      <td>France</td>\n",
       "      <td>Male</td>\n",
       "      <td>37</td>\n",
       "      <td>5</td>\n",
       "      <td>0.00</td>\n",
       "      <td>2</td>\n",
       "      <td>1</td>\n",
       "      <td>0</td>\n",
       "      <td>83093.25</td>\n",
       "    </tr>\n",
       "    <tr>\n",
       "      <th>7182</th>\n",
       "      <td>692</td>\n",
       "      <td>Germany</td>\n",
       "      <td>Male</td>\n",
       "      <td>49</td>\n",
       "      <td>6</td>\n",
       "      <td>110540.43</td>\n",
       "      <td>2</td>\n",
       "      <td>0</td>\n",
       "      <td>1</td>\n",
       "      <td>107472.99</td>\n",
       "    </tr>\n",
       "  </tbody>\n",
       "</table>\n",
       "</div>\n",
       "      <button class=\"colab-df-convert\" onclick=\"convertToInteractive('df-b24228b9-17e9-4b70-a5aa-55e58c1f73db')\"\n",
       "              title=\"Convert this dataframe to an interactive table.\"\n",
       "              style=\"display:none;\">\n",
       "        \n",
       "  <svg xmlns=\"http://www.w3.org/2000/svg\" height=\"24px\"viewBox=\"0 0 24 24\"\n",
       "       width=\"24px\">\n",
       "    <path d=\"M0 0h24v24H0V0z\" fill=\"none\"/>\n",
       "    <path d=\"M18.56 5.44l.94 2.06.94-2.06 2.06-.94-2.06-.94-.94-2.06-.94 2.06-2.06.94zm-11 1L8.5 8.5l.94-2.06 2.06-.94-2.06-.94L8.5 2.5l-.94 2.06-2.06.94zm10 10l.94 2.06.94-2.06 2.06-.94-2.06-.94-.94-2.06-.94 2.06-2.06.94z\"/><path d=\"M17.41 7.96l-1.37-1.37c-.4-.4-.92-.59-1.43-.59-.52 0-1.04.2-1.43.59L10.3 9.45l-7.72 7.72c-.78.78-.78 2.05 0 2.83L4 21.41c.39.39.9.59 1.41.59.51 0 1.02-.2 1.41-.59l7.78-7.78 2.81-2.81c.8-.78.8-2.07 0-2.86zM5.41 20L4 18.59l7.72-7.72 1.47 1.35L5.41 20z\"/>\n",
       "  </svg>\n",
       "      </button>\n",
       "      \n",
       "  <style>\n",
       "    .colab-df-container {\n",
       "      display:flex;\n",
       "      flex-wrap:wrap;\n",
       "      gap: 12px;\n",
       "    }\n",
       "\n",
       "    .colab-df-convert {\n",
       "      background-color: #E8F0FE;\n",
       "      border: none;\n",
       "      border-radius: 50%;\n",
       "      cursor: pointer;\n",
       "      display: none;\n",
       "      fill: #1967D2;\n",
       "      height: 32px;\n",
       "      padding: 0 0 0 0;\n",
       "      width: 32px;\n",
       "    }\n",
       "\n",
       "    .colab-df-convert:hover {\n",
       "      background-color: #E2EBFA;\n",
       "      box-shadow: 0px 1px 2px rgba(60, 64, 67, 0.3), 0px 1px 3px 1px rgba(60, 64, 67, 0.15);\n",
       "      fill: #174EA6;\n",
       "    }\n",
       "\n",
       "    [theme=dark] .colab-df-convert {\n",
       "      background-color: #3B4455;\n",
       "      fill: #D2E3FC;\n",
       "    }\n",
       "\n",
       "    [theme=dark] .colab-df-convert:hover {\n",
       "      background-color: #434B5C;\n",
       "      box-shadow: 0px 1px 3px 1px rgba(0, 0, 0, 0.15);\n",
       "      filter: drop-shadow(0px 1px 2px rgba(0, 0, 0, 0.3));\n",
       "      fill: #FFFFFF;\n",
       "    }\n",
       "  </style>\n",
       "\n",
       "      <script>\n",
       "        const buttonEl =\n",
       "          document.querySelector('#df-b24228b9-17e9-4b70-a5aa-55e58c1f73db button.colab-df-convert');\n",
       "        buttonEl.style.display =\n",
       "          google.colab.kernel.accessAllowed ? 'block' : 'none';\n",
       "\n",
       "        async function convertToInteractive(key) {\n",
       "          const element = document.querySelector('#df-b24228b9-17e9-4b70-a5aa-55e58c1f73db');\n",
       "          const dataTable =\n",
       "            await google.colab.kernel.invokeFunction('convertToInteractive',\n",
       "                                                     [key], {});\n",
       "          if (!dataTable) return;\n",
       "\n",
       "          const docLinkHtml = 'Like what you see? Visit the ' +\n",
       "            '<a target=\"_blank\" href=https://colab.research.google.com/notebooks/data_table.ipynb>data table notebook</a>'\n",
       "            + ' to learn more about interactive tables.';\n",
       "          element.innerHTML = '';\n",
       "          dataTable['output_type'] = 'display_data';\n",
       "          await google.colab.output.renderOutput(dataTable, element);\n",
       "          const docLink = document.createElement('div');\n",
       "          docLink.innerHTML = docLinkHtml;\n",
       "          element.appendChild(docLink);\n",
       "        }\n",
       "      </script>\n",
       "    </div>\n",
       "  </div>\n",
       "  "
      ],
      "text/plain": [
       "      CreditScore Geography  Gender  Age  Tenure    Balance  NumOfProducts  \\\n",
       "2151          753    France    Male   57       7       0.00              1   \n",
       "8392          739   Germany    Male   32       3  102128.27              1   \n",
       "5006          755   Germany  Female   37       0  113865.23              2   \n",
       "4117          561    France    Male   37       5       0.00              2   \n",
       "7182          692   Germany    Male   49       6  110540.43              2   \n",
       "\n",
       "      HasCrCard  IsActiveMember  EstimatedSalary  \n",
       "2151          1               0        159475.08  \n",
       "8392          1               0         63981.37  \n",
       "5006          1               1        117396.25  \n",
       "4117          1               0         83093.25  \n",
       "7182          0               1        107472.99  "
      ]
     },
     "execution_count": 34,
     "metadata": {},
     "output_type": "execute_result"
    }
   ],
   "source": [
    "X_train.head()"
   ]
  },
  {
   "cell_type": "markdown",
   "metadata": {
    "id": "h7PRXSXbinjX"
   },
   "source": [
    "# **Encoding Categorical Columns**"
   ]
  },
  {
   "cell_type": "markdown",
   "metadata": {
    "id": "bR9q8sXwi4cP"
   },
   "source": [
    "`**We will be using the Label Encoding technique to encode the values of the categorical columns in this dataset.**`\n",
    "\n",
    "\n",
    "\n"
   ]
  },
  {
   "cell_type": "code",
   "execution_count": 35,
   "metadata": {
    "executionInfo": {
     "elapsed": 38,
     "status": "ok",
     "timestamp": 1678012454000,
     "user": {
      "displayName": "Madhuri Gandikota",
      "userId": "06840075266312606278"
     },
     "user_tz": 360
    },
    "id": "12FWC9N9ipxm"
   },
   "outputs": [],
   "source": [
    "from sklearn.preprocessing import LabelEncoder\n",
    "labelencoder_RE = LabelEncoder()\n",
    "X_train['Gender']= labelencoder_RE.fit_transform(X_train['Gender'])\n",
    "X_test['Gender']= labelencoder_RE.transform(X_test['Gender'])"
   ]
  },
  {
   "cell_type": "code",
   "execution_count": 36,
   "metadata": {
    "executionInfo": {
     "elapsed": 39,
     "status": "ok",
     "timestamp": 1678012454001,
     "user": {
      "displayName": "Madhuri Gandikota",
      "userId": "06840075266312606278"
     },
     "user_tz": 360
    },
    "id": "2IXKzOe2i9-c"
   },
   "outputs": [],
   "source": [
    "labelencoder_RE = LabelEncoder()\n",
    "X_train['Geography']= labelencoder_RE.fit_transform(X_train['Geography'])\n",
    "X_test['Geography']= labelencoder_RE.transform(X_test['Geography'])"
   ]
  },
  {
   "cell_type": "code",
   "execution_count": 37,
   "metadata": {
    "colab": {
     "base_uri": "https://localhost:8080/",
     "height": 204
    },
    "executionInfo": {
     "elapsed": 38,
     "status": "ok",
     "timestamp": 1678012454001,
     "user": {
      "displayName": "Madhuri Gandikota",
      "userId": "06840075266312606278"
     },
     "user_tz": 360
    },
    "id": "ONiAV0EjjLvo",
    "outputId": "f32d7dce-06b0-4ebf-aefb-1593f5bb4765"
   },
   "outputs": [
    {
     "data": {
      "text/html": [
       "\n",
       "  <div id=\"df-60069a3e-80a5-4509-aa6f-902e68c32eac\">\n",
       "    <div class=\"colab-df-container\">\n",
       "      <div>\n",
       "<style scoped>\n",
       "    .dataframe tbody tr th:only-of-type {\n",
       "        vertical-align: middle;\n",
       "    }\n",
       "\n",
       "    .dataframe tbody tr th {\n",
       "        vertical-align: top;\n",
       "    }\n",
       "\n",
       "    .dataframe thead th {\n",
       "        text-align: right;\n",
       "    }\n",
       "</style>\n",
       "<table border=\"1\" class=\"dataframe\">\n",
       "  <thead>\n",
       "    <tr style=\"text-align: right;\">\n",
       "      <th></th>\n",
       "      <th>CreditScore</th>\n",
       "      <th>Geography</th>\n",
       "      <th>Gender</th>\n",
       "      <th>Age</th>\n",
       "      <th>Tenure</th>\n",
       "      <th>Balance</th>\n",
       "      <th>NumOfProducts</th>\n",
       "      <th>HasCrCard</th>\n",
       "      <th>IsActiveMember</th>\n",
       "      <th>EstimatedSalary</th>\n",
       "    </tr>\n",
       "  </thead>\n",
       "  <tbody>\n",
       "    <tr>\n",
       "      <th>2151</th>\n",
       "      <td>753</td>\n",
       "      <td>0</td>\n",
       "      <td>1</td>\n",
       "      <td>57</td>\n",
       "      <td>7</td>\n",
       "      <td>0.00</td>\n",
       "      <td>1</td>\n",
       "      <td>1</td>\n",
       "      <td>0</td>\n",
       "      <td>159475.08</td>\n",
       "    </tr>\n",
       "    <tr>\n",
       "      <th>8392</th>\n",
       "      <td>739</td>\n",
       "      <td>1</td>\n",
       "      <td>1</td>\n",
       "      <td>32</td>\n",
       "      <td>3</td>\n",
       "      <td>102128.27</td>\n",
       "      <td>1</td>\n",
       "      <td>1</td>\n",
       "      <td>0</td>\n",
       "      <td>63981.37</td>\n",
       "    </tr>\n",
       "    <tr>\n",
       "      <th>5006</th>\n",
       "      <td>755</td>\n",
       "      <td>1</td>\n",
       "      <td>0</td>\n",
       "      <td>37</td>\n",
       "      <td>0</td>\n",
       "      <td>113865.23</td>\n",
       "      <td>2</td>\n",
       "      <td>1</td>\n",
       "      <td>1</td>\n",
       "      <td>117396.25</td>\n",
       "    </tr>\n",
       "    <tr>\n",
       "      <th>4117</th>\n",
       "      <td>561</td>\n",
       "      <td>0</td>\n",
       "      <td>1</td>\n",
       "      <td>37</td>\n",
       "      <td>5</td>\n",
       "      <td>0.00</td>\n",
       "      <td>2</td>\n",
       "      <td>1</td>\n",
       "      <td>0</td>\n",
       "      <td>83093.25</td>\n",
       "    </tr>\n",
       "    <tr>\n",
       "      <th>7182</th>\n",
       "      <td>692</td>\n",
       "      <td>1</td>\n",
       "      <td>1</td>\n",
       "      <td>49</td>\n",
       "      <td>6</td>\n",
       "      <td>110540.43</td>\n",
       "      <td>2</td>\n",
       "      <td>0</td>\n",
       "      <td>1</td>\n",
       "      <td>107472.99</td>\n",
       "    </tr>\n",
       "  </tbody>\n",
       "</table>\n",
       "</div>\n",
       "      <button class=\"colab-df-convert\" onclick=\"convertToInteractive('df-60069a3e-80a5-4509-aa6f-902e68c32eac')\"\n",
       "              title=\"Convert this dataframe to an interactive table.\"\n",
       "              style=\"display:none;\">\n",
       "        \n",
       "  <svg xmlns=\"http://www.w3.org/2000/svg\" height=\"24px\"viewBox=\"0 0 24 24\"\n",
       "       width=\"24px\">\n",
       "    <path d=\"M0 0h24v24H0V0z\" fill=\"none\"/>\n",
       "    <path d=\"M18.56 5.44l.94 2.06.94-2.06 2.06-.94-2.06-.94-.94-2.06-.94 2.06-2.06.94zm-11 1L8.5 8.5l.94-2.06 2.06-.94-2.06-.94L8.5 2.5l-.94 2.06-2.06.94zm10 10l.94 2.06.94-2.06 2.06-.94-2.06-.94-.94-2.06-.94 2.06-2.06.94z\"/><path d=\"M17.41 7.96l-1.37-1.37c-.4-.4-.92-.59-1.43-.59-.52 0-1.04.2-1.43.59L10.3 9.45l-7.72 7.72c-.78.78-.78 2.05 0 2.83L4 21.41c.39.39.9.59 1.41.59.51 0 1.02-.2 1.41-.59l7.78-7.78 2.81-2.81c.8-.78.8-2.07 0-2.86zM5.41 20L4 18.59l7.72-7.72 1.47 1.35L5.41 20z\"/>\n",
       "  </svg>\n",
       "      </button>\n",
       "      \n",
       "  <style>\n",
       "    .colab-df-container {\n",
       "      display:flex;\n",
       "      flex-wrap:wrap;\n",
       "      gap: 12px;\n",
       "    }\n",
       "\n",
       "    .colab-df-convert {\n",
       "      background-color: #E8F0FE;\n",
       "      border: none;\n",
       "      border-radius: 50%;\n",
       "      cursor: pointer;\n",
       "      display: none;\n",
       "      fill: #1967D2;\n",
       "      height: 32px;\n",
       "      padding: 0 0 0 0;\n",
       "      width: 32px;\n",
       "    }\n",
       "\n",
       "    .colab-df-convert:hover {\n",
       "      background-color: #E2EBFA;\n",
       "      box-shadow: 0px 1px 2px rgba(60, 64, 67, 0.3), 0px 1px 3px 1px rgba(60, 64, 67, 0.15);\n",
       "      fill: #174EA6;\n",
       "    }\n",
       "\n",
       "    [theme=dark] .colab-df-convert {\n",
       "      background-color: #3B4455;\n",
       "      fill: #D2E3FC;\n",
       "    }\n",
       "\n",
       "    [theme=dark] .colab-df-convert:hover {\n",
       "      background-color: #434B5C;\n",
       "      box-shadow: 0px 1px 3px 1px rgba(0, 0, 0, 0.15);\n",
       "      filter: drop-shadow(0px 1px 2px rgba(0, 0, 0, 0.3));\n",
       "      fill: #FFFFFF;\n",
       "    }\n",
       "  </style>\n",
       "\n",
       "      <script>\n",
       "        const buttonEl =\n",
       "          document.querySelector('#df-60069a3e-80a5-4509-aa6f-902e68c32eac button.colab-df-convert');\n",
       "        buttonEl.style.display =\n",
       "          google.colab.kernel.accessAllowed ? 'block' : 'none';\n",
       "\n",
       "        async function convertToInteractive(key) {\n",
       "          const element = document.querySelector('#df-60069a3e-80a5-4509-aa6f-902e68c32eac');\n",
       "          const dataTable =\n",
       "            await google.colab.kernel.invokeFunction('convertToInteractive',\n",
       "                                                     [key], {});\n",
       "          if (!dataTable) return;\n",
       "\n",
       "          const docLinkHtml = 'Like what you see? Visit the ' +\n",
       "            '<a target=\"_blank\" href=https://colab.research.google.com/notebooks/data_table.ipynb>data table notebook</a>'\n",
       "            + ' to learn more about interactive tables.';\n",
       "          element.innerHTML = '';\n",
       "          dataTable['output_type'] = 'display_data';\n",
       "          await google.colab.output.renderOutput(dataTable, element);\n",
       "          const docLink = document.createElement('div');\n",
       "          docLink.innerHTML = docLinkHtml;\n",
       "          element.appendChild(docLink);\n",
       "        }\n",
       "      </script>\n",
       "    </div>\n",
       "  </div>\n",
       "  "
      ],
      "text/plain": [
       "      CreditScore  Geography  Gender  Age  Tenure    Balance  NumOfProducts  \\\n",
       "2151          753          0       1   57       7       0.00              1   \n",
       "8392          739          1       1   32       3  102128.27              1   \n",
       "5006          755          1       0   37       0  113865.23              2   \n",
       "4117          561          0       1   37       5       0.00              2   \n",
       "7182          692          1       1   49       6  110540.43              2   \n",
       "\n",
       "      HasCrCard  IsActiveMember  EstimatedSalary  \n",
       "2151          1               0        159475.08  \n",
       "8392          1               0         63981.37  \n",
       "5006          1               1        117396.25  \n",
       "4117          1               0         83093.25  \n",
       "7182          0               1        107472.99  "
      ]
     },
     "execution_count": 37,
     "metadata": {},
     "output_type": "execute_result"
    }
   ],
   "source": [
    "X_train.head()"
   ]
  },
  {
   "cell_type": "code",
   "execution_count": 38,
   "metadata": {
    "colab": {
     "base_uri": "https://localhost:8080/",
     "height": 204
    },
    "executionInfo": {
     "elapsed": 38,
     "status": "ok",
     "timestamp": 1678012454002,
     "user": {
      "displayName": "Madhuri Gandikota",
      "userId": "06840075266312606278"
     },
     "user_tz": 360
    },
    "id": "9pRVIxfejhkq",
    "outputId": "36f2c552-ec51-47ef-ee4d-b17f32ddf52c"
   },
   "outputs": [
    {
     "data": {
      "text/html": [
       "\n",
       "  <div id=\"df-c0edcaea-9785-41da-b915-ed20ef199784\">\n",
       "    <div class=\"colab-df-container\">\n",
       "      <div>\n",
       "<style scoped>\n",
       "    .dataframe tbody tr th:only-of-type {\n",
       "        vertical-align: middle;\n",
       "    }\n",
       "\n",
       "    .dataframe tbody tr th {\n",
       "        vertical-align: top;\n",
       "    }\n",
       "\n",
       "    .dataframe thead th {\n",
       "        text-align: right;\n",
       "    }\n",
       "</style>\n",
       "<table border=\"1\" class=\"dataframe\">\n",
       "  <thead>\n",
       "    <tr style=\"text-align: right;\">\n",
       "      <th></th>\n",
       "      <th>Exited</th>\n",
       "    </tr>\n",
       "  </thead>\n",
       "  <tbody>\n",
       "    <tr>\n",
       "      <th>2151</th>\n",
       "      <td>1</td>\n",
       "    </tr>\n",
       "    <tr>\n",
       "      <th>8392</th>\n",
       "      <td>1</td>\n",
       "    </tr>\n",
       "    <tr>\n",
       "      <th>5006</th>\n",
       "      <td>0</td>\n",
       "    </tr>\n",
       "    <tr>\n",
       "      <th>4117</th>\n",
       "      <td>0</td>\n",
       "    </tr>\n",
       "    <tr>\n",
       "      <th>7182</th>\n",
       "      <td>0</td>\n",
       "    </tr>\n",
       "  </tbody>\n",
       "</table>\n",
       "</div>\n",
       "      <button class=\"colab-df-convert\" onclick=\"convertToInteractive('df-c0edcaea-9785-41da-b915-ed20ef199784')\"\n",
       "              title=\"Convert this dataframe to an interactive table.\"\n",
       "              style=\"display:none;\">\n",
       "        \n",
       "  <svg xmlns=\"http://www.w3.org/2000/svg\" height=\"24px\"viewBox=\"0 0 24 24\"\n",
       "       width=\"24px\">\n",
       "    <path d=\"M0 0h24v24H0V0z\" fill=\"none\"/>\n",
       "    <path d=\"M18.56 5.44l.94 2.06.94-2.06 2.06-.94-2.06-.94-.94-2.06-.94 2.06-2.06.94zm-11 1L8.5 8.5l.94-2.06 2.06-.94-2.06-.94L8.5 2.5l-.94 2.06-2.06.94zm10 10l.94 2.06.94-2.06 2.06-.94-2.06-.94-.94-2.06-.94 2.06-2.06.94z\"/><path d=\"M17.41 7.96l-1.37-1.37c-.4-.4-.92-.59-1.43-.59-.52 0-1.04.2-1.43.59L10.3 9.45l-7.72 7.72c-.78.78-.78 2.05 0 2.83L4 21.41c.39.39.9.59 1.41.59.51 0 1.02-.2 1.41-.59l7.78-7.78 2.81-2.81c.8-.78.8-2.07 0-2.86zM5.41 20L4 18.59l7.72-7.72 1.47 1.35L5.41 20z\"/>\n",
       "  </svg>\n",
       "      </button>\n",
       "      \n",
       "  <style>\n",
       "    .colab-df-container {\n",
       "      display:flex;\n",
       "      flex-wrap:wrap;\n",
       "      gap: 12px;\n",
       "    }\n",
       "\n",
       "    .colab-df-convert {\n",
       "      background-color: #E8F0FE;\n",
       "      border: none;\n",
       "      border-radius: 50%;\n",
       "      cursor: pointer;\n",
       "      display: none;\n",
       "      fill: #1967D2;\n",
       "      height: 32px;\n",
       "      padding: 0 0 0 0;\n",
       "      width: 32px;\n",
       "    }\n",
       "\n",
       "    .colab-df-convert:hover {\n",
       "      background-color: #E2EBFA;\n",
       "      box-shadow: 0px 1px 2px rgba(60, 64, 67, 0.3), 0px 1px 3px 1px rgba(60, 64, 67, 0.15);\n",
       "      fill: #174EA6;\n",
       "    }\n",
       "\n",
       "    [theme=dark] .colab-df-convert {\n",
       "      background-color: #3B4455;\n",
       "      fill: #D2E3FC;\n",
       "    }\n",
       "\n",
       "    [theme=dark] .colab-df-convert:hover {\n",
       "      background-color: #434B5C;\n",
       "      box-shadow: 0px 1px 3px 1px rgba(0, 0, 0, 0.15);\n",
       "      filter: drop-shadow(0px 1px 2px rgba(0, 0, 0, 0.3));\n",
       "      fill: #FFFFFF;\n",
       "    }\n",
       "  </style>\n",
       "\n",
       "      <script>\n",
       "        const buttonEl =\n",
       "          document.querySelector('#df-c0edcaea-9785-41da-b915-ed20ef199784 button.colab-df-convert');\n",
       "        buttonEl.style.display =\n",
       "          google.colab.kernel.accessAllowed ? 'block' : 'none';\n",
       "\n",
       "        async function convertToInteractive(key) {\n",
       "          const element = document.querySelector('#df-c0edcaea-9785-41da-b915-ed20ef199784');\n",
       "          const dataTable =\n",
       "            await google.colab.kernel.invokeFunction('convertToInteractive',\n",
       "                                                     [key], {});\n",
       "          if (!dataTable) return;\n",
       "\n",
       "          const docLinkHtml = 'Like what you see? Visit the ' +\n",
       "            '<a target=\"_blank\" href=https://colab.research.google.com/notebooks/data_table.ipynb>data table notebook</a>'\n",
       "            + ' to learn more about interactive tables.';\n",
       "          element.innerHTML = '';\n",
       "          dataTable['output_type'] = 'display_data';\n",
       "          await google.colab.output.renderOutput(dataTable, element);\n",
       "          const docLink = document.createElement('div');\n",
       "          docLink.innerHTML = docLinkHtml;\n",
       "          element.appendChild(docLink);\n",
       "        }\n",
       "      </script>\n",
       "    </div>\n",
       "  </div>\n",
       "  "
      ],
      "text/plain": [
       "      Exited\n",
       "2151       1\n",
       "8392       1\n",
       "5006       0\n",
       "4117       0\n",
       "7182       0"
      ]
     },
     "execution_count": 38,
     "metadata": {},
     "output_type": "execute_result"
    }
   ],
   "source": [
    "y_train.head()"
   ]
  },
  {
   "cell_type": "code",
   "execution_count": 39,
   "metadata": {
    "executionInfo": {
     "elapsed": 37,
     "status": "ok",
     "timestamp": 1678012454002,
     "user": {
      "displayName": "Madhuri Gandikota",
      "userId": "06840075266312606278"
     },
     "user_tz": 360
    },
    "id": "xlA1d73CjjXj"
   },
   "outputs": [],
   "source": [
    "## Scaling the data for the colums credit score, balance and Estimated salary\n",
    "sc=StandardScaler()\n",
    "temp = sc.fit(X_train[[\"CreditScore\",\"Balance\",\"EstimatedSalary\"]])\n",
    "X_train[[\"CreditScore\",\"Balance\",\"EstimatedSalary\"]] = temp.transform(X_train[[\"CreditScore\",\"Balance\",\"EstimatedSalary\"]])\n",
    "X_test[[\"CreditScore\",\"Balance\",\"EstimatedSalary\"]] = temp.transform(X_test[[\"CreditScore\",\"Balance\",\"EstimatedSalary\"]])\n"
   ]
  },
  {
   "cell_type": "code",
   "execution_count": 40,
   "metadata": {
    "colab": {
     "base_uri": "https://localhost:8080/"
    },
    "executionInfo": {
     "elapsed": 36,
     "status": "ok",
     "timestamp": 1678012454002,
     "user": {
      "displayName": "Madhuri Gandikota",
      "userId": "06840075266312606278"
     },
     "user_tz": 360
    },
    "id": "2L9tKcL6kwh6",
    "outputId": "a30f254f-1baf-498f-ee19-c5bbd5ac4141"
   },
   "outputs": [
    {
     "name": "stdout",
     "output_type": "stream",
     "text": [
      "(8000, 10)\n",
      "(2000, 10)\n",
      "(8000, 1)\n",
      "(2000, 1)\n"
     ]
    }
   ],
   "source": [
    "###Checking the shape of train and test sets\n",
    "print(X_train.shape)\n",
    "print(X_test.shape)\n",
    "print(y_train.shape)\n",
    "print(y_test.shape)"
   ]
  },
  {
   "cell_type": "code",
   "execution_count": 41,
   "metadata": {
    "executionInfo": {
     "elapsed": 17,
     "status": "ok",
     "timestamp": 1678012454003,
     "user": {
      "displayName": "Madhuri Gandikota",
      "userId": "06840075266312606278"
     },
     "user_tz": 360
    },
    "id": "GgXIGHlDk7OD"
   },
   "outputs": [],
   "source": [
    "backend.clear_session()\n",
    "#Fixing the seed for random number generators so that we can ensure we receive the same output everytime\n",
    "np.random.seed(42)\n",
    "import random\n",
    "random.seed(42)\n",
    "tf.random.set_seed(42)"
   ]
  },
  {
   "cell_type": "code",
   "execution_count": 42,
   "metadata": {
    "executionInfo": {
     "elapsed": 3702,
     "status": "ok",
     "timestamp": 1678012457689,
     "user": {
      "displayName": "Madhuri Gandikota",
      "userId": "06840075266312606278"
     },
     "user_tz": 360
    },
    "id": "8RSU4oNFCpvg"
   },
   "outputs": [],
   "source": [
    "# Initializing the ANN\n",
    "model = Sequential()\n",
    "# The amount of nodes (dimensions) in hidden layer should be the average of input and output layers, in this case 64.\n",
    "# This adds the input layer (by specifying input dimension) AND the first hidden layer (units)\n",
    "model.add(Dense(activation = 'relu', input_dim = 10, units=64))\n",
    "#Add 1st hidden layer\n",
    "model.add(Dense(32, activation='relu'))\n",
    "# Adding the second hidden layer with 32 neurons, relu as activation function and, he_uniform as weight initializer\n",
    "model.add(Dense(32, activation='relu',kernel_initializer='he_uniform'))\n",
    "# Adding the output layer\n",
    "# Notice that we do not need to specify input dim. \n",
    "# we have an output of 1 node, which is the the desired dimensions of our output (stay with the bank or not)\n",
    "# We use the sigmoid because we want probability outcomes\n",
    "model.add(Dense(1, activation = 'sigmoid'))"
   ]
  },
  {
   "cell_type": "code",
   "execution_count": 43,
   "metadata": {
    "colab": {
     "base_uri": "https://localhost:8080/"
    },
    "executionInfo": {
     "elapsed": 47,
     "status": "ok",
     "timestamp": 1678012457689,
     "user": {
      "displayName": "Madhuri Gandikota",
      "userId": "06840075266312606278"
     },
     "user_tz": 360
    },
    "id": "BKjlgyU6lLWw",
    "outputId": "8cbb95f7-c19c-45a5-e3a0-60da7e79ab5e"
   },
   "outputs": [
    {
     "name": "stdout",
     "output_type": "stream",
     "text": [
      "Model: \"sequential\"\n",
      "_________________________________________________________________\n",
      " Layer (type)                Output Shape              Param #   \n",
      "=================================================================\n",
      " dense (Dense)               (None, 64)                704       \n",
      "                                                                 \n",
      " dense_1 (Dense)             (None, 32)                2080      \n",
      "                                                                 \n",
      " dense_2 (Dense)             (None, 32)                1056      \n",
      "                                                                 \n",
      " dense_3 (Dense)             (None, 1)                 33        \n",
      "                                                                 \n",
      "=================================================================\n",
      "Total params: 3,873\n",
      "Trainable params: 3,873\n",
      "Non-trainable params: 0\n",
      "_________________________________________________________________\n"
     ]
    }
   ],
   "source": [
    "model.summary()"
   ]
  },
  {
   "cell_type": "code",
   "execution_count": 44,
   "metadata": {
    "executionInfo": {
     "elapsed": 38,
     "status": "ok",
     "timestamp": 1678012457690,
     "user": {
      "displayName": "Madhuri Gandikota",
      "userId": "06840075266312606278"
     },
     "user_tz": 360
    },
    "id": "CegouV-rly_t"
   },
   "outputs": [],
   "source": [
    "# Compiling the model with categorical crossentropy as loss function with accuracy as metrics\n",
    "model.compile(loss='binary_crossentropy', optimizer='adam', metrics=['accuracy'])"
   ]
  },
  {
   "cell_type": "code",
   "execution_count": 45,
   "metadata": {
    "colab": {
     "base_uri": "https://localhost:8080/"
    },
    "executionInfo": {
     "elapsed": 37,
     "status": "ok",
     "timestamp": 1678012457690,
     "user": {
      "displayName": "Madhuri Gandikota",
      "userId": "06840075266312606278"
     },
     "user_tz": 360
    },
    "id": "m29jMO9tl28Q",
    "outputId": "baf56258-d103-4596-aa66-f0694a4ebd12"
   },
   "outputs": [
    {
     "name": "stdout",
     "output_type": "stream",
     "text": [
      "(None, 10) <dtype: 'float32'>\n",
      "(None, 1) <dtype: 'float32'>\n",
      "dense (None, 10) float32\n",
      "dense_1 (None, 64) float32\n",
      "dense_2 (None, 32) float32\n",
      "dense_3 (None, 32) float32\n"
     ]
    },
    {
     "data": {
      "text/plain": [
       "[None, None, None, None]"
      ]
     },
     "execution_count": 45,
     "metadata": {},
     "output_type": "execute_result"
    }
   ],
   "source": [
    "[print(i.shape, i.dtype) for i in model.inputs]\n",
    "[print(o.shape, o.dtype) for o in model.outputs]\n",
    "[print(l.name, l.input_shape, l.dtype) for l in model.layers]"
   ]
  },
  {
   "cell_type": "code",
   "execution_count": 46,
   "metadata": {
    "colab": {
     "base_uri": "https://localhost:8080/"
    },
    "executionInfo": {
     "elapsed": 82125,
     "status": "ok",
     "timestamp": 1678012539794,
     "user": {
      "displayName": "Madhuri Gandikota",
      "userId": "06840075266312606278"
     },
     "user_tz": 360
    },
    "id": "XbreB9fNl83R",
    "outputId": "9df644ac-0796-48fc-a71b-cfd3fff5ce11"
   },
   "outputs": [
    {
     "name": "stdout",
     "output_type": "stream",
     "text": [
      "Epoch 1/50\n",
      "200/200 [==============================] - 6s 5ms/step - loss: 0.5888 - accuracy: 0.7792 - val_loss: 0.4914 - val_accuracy: 0.8000\n",
      "Epoch 2/50\n",
      "200/200 [==============================] - 1s 5ms/step - loss: 0.4749 - accuracy: 0.7937 - val_loss: 0.4715 - val_accuracy: 0.8000\n",
      "Epoch 3/50\n",
      "200/200 [==============================] - 1s 5ms/step - loss: 0.4658 - accuracy: 0.7947 - val_loss: 0.4539 - val_accuracy: 0.8156\n",
      "Epoch 4/50\n",
      "200/200 [==============================] - 1s 5ms/step - loss: 0.4597 - accuracy: 0.8008 - val_loss: 0.4650 - val_accuracy: 0.8025\n",
      "Epoch 5/50\n",
      "200/200 [==============================] - 1s 5ms/step - loss: 0.4536 - accuracy: 0.8042 - val_loss: 0.4498 - val_accuracy: 0.8175\n",
      "Epoch 6/50\n",
      "200/200 [==============================] - 1s 4ms/step - loss: 0.4490 - accuracy: 0.8020 - val_loss: 0.4559 - val_accuracy: 0.8050\n",
      "Epoch 7/50\n",
      "200/200 [==============================] - 1s 3ms/step - loss: 0.4481 - accuracy: 0.8047 - val_loss: 0.4509 - val_accuracy: 0.8100\n",
      "Epoch 8/50\n",
      "200/200 [==============================] - 1s 3ms/step - loss: 0.4450 - accuracy: 0.8089 - val_loss: 0.4460 - val_accuracy: 0.8169\n",
      "Epoch 9/50\n",
      "200/200 [==============================] - 1s 4ms/step - loss: 0.4417 - accuracy: 0.8055 - val_loss: 0.4448 - val_accuracy: 0.8163\n",
      "Epoch 10/50\n",
      "200/200 [==============================] - 1s 4ms/step - loss: 0.4430 - accuracy: 0.8044 - val_loss: 0.4588 - val_accuracy: 0.8031\n",
      "Epoch 11/50\n",
      "200/200 [==============================] - 1s 4ms/step - loss: 0.4390 - accuracy: 0.8073 - val_loss: 0.4648 - val_accuracy: 0.8000\n",
      "Epoch 12/50\n",
      "200/200 [==============================] - 1s 4ms/step - loss: 0.4379 - accuracy: 0.8069 - val_loss: 0.4400 - val_accuracy: 0.8144\n",
      "Epoch 13/50\n",
      "200/200 [==============================] - 1s 4ms/step - loss: 0.4411 - accuracy: 0.8083 - val_loss: 0.4429 - val_accuracy: 0.8125\n",
      "Epoch 14/50\n",
      "200/200 [==============================] - 1s 5ms/step - loss: 0.4380 - accuracy: 0.8106 - val_loss: 0.4386 - val_accuracy: 0.8213\n",
      "Epoch 15/50\n",
      "200/200 [==============================] - 1s 6ms/step - loss: 0.4346 - accuracy: 0.8100 - val_loss: 0.4388 - val_accuracy: 0.8213\n",
      "Epoch 16/50\n",
      "200/200 [==============================] - 1s 5ms/step - loss: 0.4321 - accuracy: 0.8131 - val_loss: 0.4387 - val_accuracy: 0.8163\n",
      "Epoch 17/50\n",
      "200/200 [==============================] - 1s 4ms/step - loss: 0.4320 - accuracy: 0.8123 - val_loss: 0.4364 - val_accuracy: 0.8213\n",
      "Epoch 18/50\n",
      "200/200 [==============================] - 1s 5ms/step - loss: 0.4336 - accuracy: 0.8134 - val_loss: 0.4359 - val_accuracy: 0.8225\n",
      "Epoch 19/50\n",
      "200/200 [==============================] - 1s 5ms/step - loss: 0.4326 - accuracy: 0.8119 - val_loss: 0.4583 - val_accuracy: 0.7931\n",
      "Epoch 20/50\n",
      "200/200 [==============================] - 1s 5ms/step - loss: 0.4308 - accuracy: 0.8112 - val_loss: 0.4458 - val_accuracy: 0.8156\n",
      "Epoch 21/50\n",
      "200/200 [==============================] - 1s 4ms/step - loss: 0.4338 - accuracy: 0.8073 - val_loss: 0.4465 - val_accuracy: 0.8025\n",
      "Epoch 22/50\n",
      "200/200 [==============================] - 1s 4ms/step - loss: 0.4295 - accuracy: 0.8156 - val_loss: 0.4359 - val_accuracy: 0.8188\n",
      "Epoch 23/50\n",
      "200/200 [==============================] - 1s 4ms/step - loss: 0.4277 - accuracy: 0.8161 - val_loss: 0.4348 - val_accuracy: 0.8244\n",
      "Epoch 24/50\n",
      "200/200 [==============================] - 1s 4ms/step - loss: 0.4241 - accuracy: 0.8158 - val_loss: 0.4462 - val_accuracy: 0.8025\n",
      "Epoch 25/50\n",
      "200/200 [==============================] - 1s 4ms/step - loss: 0.4244 - accuracy: 0.8217 - val_loss: 0.4270 - val_accuracy: 0.8306\n",
      "Epoch 26/50\n",
      "200/200 [==============================] - 1s 4ms/step - loss: 0.4211 - accuracy: 0.8203 - val_loss: 0.4305 - val_accuracy: 0.8250\n",
      "Epoch 27/50\n",
      "200/200 [==============================] - 1s 4ms/step - loss: 0.4241 - accuracy: 0.8189 - val_loss: 0.4248 - val_accuracy: 0.8288\n",
      "Epoch 28/50\n",
      "200/200 [==============================] - 1s 4ms/step - loss: 0.4229 - accuracy: 0.8155 - val_loss: 0.4350 - val_accuracy: 0.8062\n",
      "Epoch 29/50\n",
      "200/200 [==============================] - 1s 4ms/step - loss: 0.4159 - accuracy: 0.8256 - val_loss: 0.4289 - val_accuracy: 0.8194\n",
      "Epoch 30/50\n",
      "200/200 [==============================] - 1s 4ms/step - loss: 0.4141 - accuracy: 0.8267 - val_loss: 0.4133 - val_accuracy: 0.8438\n",
      "Epoch 31/50\n",
      "200/200 [==============================] - 1s 4ms/step - loss: 0.4155 - accuracy: 0.8239 - val_loss: 0.4124 - val_accuracy: 0.8375\n",
      "Epoch 32/50\n",
      "200/200 [==============================] - 1s 4ms/step - loss: 0.4101 - accuracy: 0.8291 - val_loss: 0.4297 - val_accuracy: 0.8163\n",
      "Epoch 33/50\n",
      "200/200 [==============================] - 1s 4ms/step - loss: 0.4110 - accuracy: 0.8247 - val_loss: 0.4144 - val_accuracy: 0.8338\n",
      "Epoch 34/50\n",
      "200/200 [==============================] - 1s 5ms/step - loss: 0.4066 - accuracy: 0.8294 - val_loss: 0.4051 - val_accuracy: 0.8450\n",
      "Epoch 35/50\n",
      "200/200 [==============================] - 1s 5ms/step - loss: 0.4051 - accuracy: 0.8302 - val_loss: 0.4122 - val_accuracy: 0.8338\n",
      "Epoch 36/50\n",
      "200/200 [==============================] - 1s 5ms/step - loss: 0.4058 - accuracy: 0.8288 - val_loss: 0.4232 - val_accuracy: 0.8181\n",
      "Epoch 37/50\n",
      "200/200 [==============================] - 1s 5ms/step - loss: 0.4042 - accuracy: 0.8286 - val_loss: 0.3964 - val_accuracy: 0.8438\n",
      "Epoch 38/50\n",
      "200/200 [==============================] - 1s 4ms/step - loss: 0.3982 - accuracy: 0.8330 - val_loss: 0.4045 - val_accuracy: 0.8338\n",
      "Epoch 39/50\n",
      "200/200 [==============================] - 1s 3ms/step - loss: 0.4000 - accuracy: 0.8339 - val_loss: 0.4004 - val_accuracy: 0.8444\n",
      "Epoch 40/50\n",
      "200/200 [==============================] - 1s 4ms/step - loss: 0.3953 - accuracy: 0.8336 - val_loss: 0.3930 - val_accuracy: 0.8425\n",
      "Epoch 41/50\n",
      "200/200 [==============================] - 1s 4ms/step - loss: 0.4000 - accuracy: 0.8334 - val_loss: 0.3939 - val_accuracy: 0.8469\n",
      "Epoch 42/50\n",
      "200/200 [==============================] - 1s 4ms/step - loss: 0.3915 - accuracy: 0.8386 - val_loss: 0.4032 - val_accuracy: 0.8356\n",
      "Epoch 43/50\n",
      "200/200 [==============================] - 1s 4ms/step - loss: 0.3908 - accuracy: 0.8366 - val_loss: 0.3812 - val_accuracy: 0.8481\n",
      "Epoch 44/50\n",
      "200/200 [==============================] - 1s 4ms/step - loss: 0.3846 - accuracy: 0.8436 - val_loss: 0.3817 - val_accuracy: 0.8519\n",
      "Epoch 45/50\n",
      "200/200 [==============================] - 1s 4ms/step - loss: 0.3877 - accuracy: 0.8408 - val_loss: 0.3878 - val_accuracy: 0.8519\n",
      "Epoch 46/50\n",
      "200/200 [==============================] - 1s 4ms/step - loss: 0.3834 - accuracy: 0.8420 - val_loss: 0.3675 - val_accuracy: 0.8569\n",
      "Epoch 47/50\n",
      "200/200 [==============================] - 1s 3ms/step - loss: 0.3794 - accuracy: 0.8439 - val_loss: 0.3737 - val_accuracy: 0.8625\n",
      "Epoch 48/50\n",
      "200/200 [==============================] - 1s 4ms/step - loss: 0.3821 - accuracy: 0.8413 - val_loss: 0.3657 - val_accuracy: 0.8600\n",
      "Epoch 49/50\n",
      "200/200 [==============================] - 1s 4ms/step - loss: 0.3745 - accuracy: 0.8448 - val_loss: 0.3638 - val_accuracy: 0.8581\n",
      "Epoch 50/50\n",
      "200/200 [==============================] - 1s 4ms/step - loss: 0.3691 - accuracy: 0.8461 - val_loss: 0.3614 - val_accuracy: 0.8606\n"
     ]
    }
   ],
   "source": [
    "#Definign the number of epochs\n",
    "EPOCHS = 50\n",
    "#fitting the model\n",
    "history = model.fit(X_train, y_train,epochs=EPOCHS, validation_split = 0.2, verbose=1)"
   ]
  },
  {
   "cell_type": "code",
   "execution_count": 47,
   "metadata": {
    "colab": {
     "base_uri": "https://localhost:8080/",
     "height": 286
    },
    "executionInfo": {
     "elapsed": 722,
     "status": "ok",
     "timestamp": 1678012540505,
     "user": {
      "displayName": "Madhuri Gandikota",
      "userId": "06840075266312606278"
     },
     "user_tz": 360
    },
    "id": "NeGztfPCmtNF",
    "outputId": "51138f0c-4470-4324-f74c-3fb8304c2f1c"
   },
   "outputs": [
    {
     "name": "stdout",
     "output_type": "stream",
     "text": [
      "63/63 [==============================] - 0s 3ms/step - loss: 0.3713 - accuracy: 0.8555\n"
     ]
    },
    {
     "data": {
      "image/png": "[encoded data removed]",
      "text/plain": [
       "<Figure size 432x288 with 1 Axes>"
      ]
     },
     "metadata": {
      "needs_background": "light"
     },
     "output_type": "display_data"
    }
   ],
   "source": [
    "# Capturing learning history per epoch\n",
    "hist  = pd.DataFrame(history.history)\n",
    "hist['epoch'] = history.epoch\n",
    "\n",
    "# Plotting accuracy at different epochs\n",
    "plt.plot(hist['loss'])\n",
    "plt.plot(hist['val_loss'])\n",
    "plt.legend((\"train\" , \"valid\") , loc =0)\n",
    "\n",
    "#Printing results\n",
    "results = model.evaluate(X_test, y_test)"
   ]
  },
  {
   "cell_type": "markdown",
   "metadata": {
    "id": "FtO6MJgt02ZS"
   },
   "source": [
    "Here the fit looks ok and infact down ward. I tried to increase the epochs to 70 then it started looking u shape , i.e loss increasing"
   ]
  },
  {
   "cell_type": "code",
   "execution_count": 48,
   "metadata": {
    "colab": {
     "base_uri": "https://localhost:8080/"
    },
    "executionInfo": {
     "elapsed": 487,
     "status": "ok",
     "timestamp": 1678012540987,
     "user": {
      "displayName": "Madhuri Gandikota",
      "userId": "06840075266312606278"
     },
     "user_tz": 360
    },
    "id": "I7gLIb7Yopmd",
    "outputId": "8e8531d3-66b8-4a38-bccd-f3fa6cd5b157"
   },
   "outputs": [
    {
     "name": "stdout",
     "output_type": "stream",
     "text": [
      "63/63 [==============================] - 0s 3ms/step\n"
     ]
    },
    {
     "data": {
      "text/plain": [
       "array([[False],\n",
       "       [False],\n",
       "       [False],\n",
       "       ...,\n",
       "       [ True],\n",
       "       [False],\n",
       "       [False]])"
      ]
     },
     "execution_count": 48,
     "metadata": {},
     "output_type": "execute_result"
    }
   ],
   "source": [
    "y_pred=model.predict(X_test)\n",
    "y_pred = (y_pred > 0.5)\n",
    "y_pred"
   ]
  },
  {
   "cell_type": "code",
   "execution_count": 49,
   "metadata": {
    "executionInfo": {
     "elapsed": 7,
     "status": "ok",
     "timestamp": 1678012540988,
     "user": {
      "displayName": "Madhuri Gandikota",
      "userId": "06840075266312606278"
     },
     "user_tz": 360
    },
    "id": "2ukuevlDndqJ"
   },
   "outputs": [],
   "source": [
    "def make_confusion_matrix(cf,\n",
    "                          group_names=None,\n",
    "                          categories='auto',\n",
    "                          count=True,\n",
    "                          percent=True,\n",
    "                          cbar=True,\n",
    "                          xyticks=True,\n",
    "                          xyplotlabels=True,\n",
    "                          sum_stats=True,\n",
    "                          figsize=None,\n",
    "                          cmap='Blues',\n",
    "                          title=None):\n",
    "    '''\n",
    "    This function will make a pretty plot of an sklearn Confusion Matrix cm using a Seaborn heatmap visualization.\n",
    "    Arguments\n",
    "    '''\n",
    "\n",
    "\n",
    "    # CODE TO GENERATE TEXT INSIDE EACH SQUARE\n",
    "    blanks = ['' for i in range(cf.size)]\n",
    "\n",
    "    if group_names and len(group_names)==cf.size:\n",
    "        group_labels = [\"{}\\n\".format(value) for value in group_names]\n",
    "    else:\n",
    "        group_labels = blanks\n",
    "\n",
    "    if count:\n",
    "        group_counts = [\"{0:0.0f}\\n\".format(value) for value in cf.flatten()]\n",
    "    else:\n",
    "        group_counts = blanks\n",
    "\n",
    "    if percent:\n",
    "        group_percentages = [\"{0:.2%}\".format(value) for value in cf.flatten()/np.sum(cf)]\n",
    "    else:\n",
    "        group_percentages = blanks\n",
    "\n",
    "    box_labels = [f\"{v1}{v2}{v3}\".strip() for v1, v2, v3 in zip(group_labels,group_counts,group_percentages)]\n",
    "    box_labels = np.asarray(box_labels).reshape(cf.shape[0],cf.shape[1])\n",
    "\n",
    "\n",
    "    # CODE TO GENERATE SUMMARY STATISTICS & TEXT FOR SUMMARY STATS\n",
    "    if sum_stats:\n",
    "        #Accuracy is sum of diagonal divided by total observations\n",
    "        accuracy  = np.trace(cf) / float(np.sum(cf))\n",
    "\n",
    "\n",
    "\n",
    "    # SET FIGURE PARAMETERS ACCORDING TO OTHER ARGUMENTS\n",
    "    if figsize==None:\n",
    "        #Get default figure size if not set\n",
    "        figsize = plt.rcParams.get('figure.figsize')\n",
    "\n",
    "    if xyticks==False:\n",
    "        #Do not show categories if xyticks is False\n",
    "        categories=False\n",
    "\n",
    "\n",
    "    # MAKE THE HEATMAP VISUALIZATION\n",
    "    plt.figure(figsize=figsize)\n",
    "    sns.heatmap(cf,annot=box_labels,fmt=\"\",cmap=cmap,cbar=cbar,xticklabels=categories,yticklabels=categories)\n",
    "\n",
    "    \n",
    "    if title:\n",
    "        plt.title(title)"
   ]
  },
  {
   "cell_type": "code",
   "execution_count": 50,
   "metadata": {
    "colab": {
     "base_uri": "https://localhost:8080/",
     "height": 265
    },
    "executionInfo": {
     "elapsed": 388,
     "status": "ok",
     "timestamp": 1678012541372,
     "user": {
      "displayName": "Madhuri Gandikota",
      "userId": "06840075266312606278"
     },
     "user_tz": 360
    },
    "id": "drR_TmqPntUt",
    "outputId": "bc320ff7-043d-4138-c0bc-c4951bf5c602"
   },
   "outputs": [
    {
     "data": {
      "image/png": "[encoded data removed]",
      "text/plain": [
       "<Figure size 432x288 with 2 Axes>"
      ]
     },
     "metadata": {
      "needs_background": "light"
     },
     "output_type": "display_data"
    }
   ],
   "source": [
    "#Calculating the confusion matrix \n",
    "from sklearn.metrics import confusion_matrix\n",
    "cm=confusion_matrix(y_test, y_pred)\n",
    "labels = ['True Positive','False Negative','False Positive','True Negative']\n",
    "categories = [ 'Exited','Not Exited']\n",
    "make_confusion_matrix(cm, \n",
    "                      group_names=labels,\n",
    "                      categories=categories, \n",
    "                      cmap='Blues')"
   ]
  },
  {
   "cell_type": "markdown",
   "metadata": {
    "id": "2PlFUT1pozzO"
   },
   "source": [
    "Here, the 2.6%% of False Negatives is because we gave 0.5 as the threshold to the model, and as this is an imbalanced dataset, we should calculate the threshold using the AUC-ROC curve."
   ]
  },
  {
   "cell_type": "code",
   "execution_count": 51,
   "metadata": {
    "colab": {
     "base_uri": "https://localhost:8080/"
    },
    "executionInfo": {
     "elapsed": 11,
     "status": "ok",
     "timestamp": 1678012541373,
     "user": {
      "displayName": "Madhuri Gandikota",
      "userId": "06840075266312606278"
     },
     "user_tz": 360
    },
    "id": "6suCjFcNo3-k",
    "outputId": "3231a43c-5036-4e72-f0f0-09657065c7c7"
   },
   "outputs": [
    {
     "name": "stdout",
     "output_type": "stream",
     "text": [
      "              precision    recall  f1-score   support\n",
      "\n",
      "           0       0.87      0.96      0.91      1593\n",
      "           1       0.75      0.43      0.55       407\n",
      "\n",
      "    accuracy                           0.86      2000\n",
      "   macro avg       0.81      0.70      0.73      2000\n",
      "weighted avg       0.85      0.86      0.84      2000\n",
      "\n"
     ]
    }
   ],
   "source": [
    "#Accuracy as per the classification report \n",
    "from sklearn import metrics\n",
    "cr=metrics.classification_report(y_test,y_pred)\n",
    "print(cr)"
   ]
  },
  {
   "cell_type": "markdown",
   "metadata": {
    "id": "IsLwFK6yqNVR"
   },
   "source": [
    "As you can see, the above model has a ok accuracy and  F1-score. Recall of 97% is also not bad for \"non-exited customers\" but for exited it is only 37%.  This could be due to the imbalanced dataset. We observe that the False positive  are also high, which should be considerably lower.\n",
    "1) Imbalanced dataset:  this dataset is imbalanced, and it contains more examples that belong to the 0 class.\n",
    "2) Decision Threshold: We randimly used 0.5 as thredshod. Due to the imbalanced dataset, we can use ROC-AUC to find the optimal threshold and use the same for prediction.\n",
    "Let's try to change the optimizer, tune the decision threshold, increase the layers and configure some other hyperparameters accordingly, in order to improve the model's performance."
   ]
  },
  {
   "cell_type": "markdown",
   "metadata": {
    "id": "Yhv4nKvq1d8D"
   },
   "source": [
    "**Finding Opitmum Threshold**"
   ]
  },
  {
   "cell_type": "code",
   "execution_count": 52,
   "metadata": {
    "colab": {
     "base_uri": "https://localhost:8080/",
     "height": 313
    },
    "executionInfo": {
     "elapsed": 683,
     "status": "ok",
     "timestamp": 1678012542049,
     "user": {
      "displayName": "Madhuri Gandikota",
      "userId": "06840075266312606278"
     },
     "user_tz": 360
    },
    "id": "H3Kp5EmrqrBF",
    "outputId": "813a7dff-b6ab-4951-e4bf-1ecb4b8812e9"
   },
   "outputs": [
    {
     "name": "stdout",
     "output_type": "stream",
     "text": [
      "63/63 [==============================] - 0s 2ms/step\n",
      "Best Threshold=0.193893, G-Mean=0.747\n"
     ]
    },
    {
     "data": {
      "image/png": "[encoded data removed]",
      "text/plain": [
       "<Figure size 432x288 with 1 Axes>"
      ]
     },
     "metadata": {
      "needs_background": "light"
     },
     "output_type": "display_data"
    }
   ],
   "source": [
    "from sklearn.metrics import roc_curve\n",
    "\n",
    "from matplotlib import pyplot\n",
    "\n",
    "\n",
    "# predict probabilities\n",
    "yhat = model.predict(X_test)\n",
    "# keep probabilities for the positive outcome only\n",
    "yhat = yhat[:, 0]\n",
    "# calculate roc curves\n",
    "fpr, tpr, thresholds = roc_curve(y_test, yhat)\n",
    "# calculate the g-mean for each threshold\n",
    "gmeans = np.sqrt(tpr * (1-fpr))\n",
    "# locate the index of the largest g-mean\n",
    "ix = np.argmax(gmeans)\n",
    "print('Best Threshold=%f, G-Mean=%.3f' % (thresholds[ix], gmeans[ix]))\n",
    "# plot the roc curve for the model\n",
    "pyplot.plot([0,1], [0,1], linestyle='--', label='Exited')\n",
    "pyplot.plot(fpr, tpr, marker='.')\n",
    "pyplot.scatter(fpr[ix], tpr[ix], marker='o', color='black', label='Best')\n",
    "# axis labels\n",
    "pyplot.xlabel('False Positive Rate')\n",
    "pyplot.ylabel('True Positive Rate')\n",
    "pyplot.legend()\n",
    "# show the plot\n",
    "pyplot.show()"
   ]
  },
  {
   "cell_type": "markdown",
   "metadata": {
    "id": "geE0caZRsdyt"
   },
   "source": [
    "Let's tune the threshold using ROC-AUC\n",
    "There are many ways we could locate the threshold with the optimal balance between false positive and true positive rates.\n",
    "Firstly, the true positive rate is called the Sensitivity. The inverse of the false-positive rate is called the Specificity.\n",
    "Sensitivity = True Positive / (True Positive + False Negative)\n",
    "Specificity = True Negative / (False Positive + True Negative)\n",
    "Where:\n",
    "Sensitivity = True Positive Rate\n",
    "Specificity = 1 – False Positive Rate\n",
    "The Geometric Mean or G-Mean is a metric for imbalanced classification that, if optimized, will seek a balance between the sensitivity and the specificity.\n",
    "G-Mean = sqrt(Sensitivity * Specificity)\n",
    "One approach would be to test the model with each threshold returned from the call roc_auc_score(),\n",
    "and select the threshold with the largest G-Mean value.\n",
    "\n",
    "Our Best threshold was anout 0.78. \n",
    "Lets see if we can improve this."
   ]
  },
  {
   "cell_type": "code",
   "execution_count": 53,
   "metadata": {
    "colab": {
     "base_uri": "https://localhost:8080/"
    },
    "executionInfo": {
     "elapsed": 714,
     "status": "ok",
     "timestamp": 1678012542759,
     "user": {
      "displayName": "Madhuri Gandikota",
      "userId": "06840075266312606278"
     },
     "user_tz": 360
    },
    "id": "TidsqLtHqkjv",
    "outputId": "cad2fa65-ffa8-4fdc-b514-29e89f75c1b1"
   },
   "outputs": [
    {
     "name": "stdout",
     "output_type": "stream",
     "text": [
      "63/63 [==============================] - 0s 2ms/step\n"
     ]
    },
    {
     "data": {
      "text/plain": [
       "array([[False],\n",
       "       [False],\n",
       "       [False],\n",
       "       ...,\n",
       "       [ True],\n",
       "       [False],\n",
       "       [False]])"
      ]
     },
     "execution_count": 53,
     "metadata": {},
     "output_type": "execute_result"
    }
   ],
   "source": [
    "#Predicting the results using best as a threshold\n",
    "y_pred_e=model.predict(X_test)\n",
    "y_pred_e = (y_pred_e > thresholds[ix])\n",
    "y_pred_e"
   ]
  },
  {
   "cell_type": "code",
   "execution_count": 54,
   "metadata": {
    "colab": {
     "base_uri": "https://localhost:8080/",
     "height": 265
    },
    "executionInfo": {
     "elapsed": 204,
     "status": "ok",
     "timestamp": 1678012542959,
     "user": {
      "displayName": "Madhuri Gandikota",
      "userId": "06840075266312606278"
     },
     "user_tz": 360
    },
    "id": "29xonyADs1mp",
    "outputId": "4b8b12f2-6cfe-4041-a2ca-e3d88fb120e7"
   },
   "outputs": [
    {
     "data": {
      "image/png": "[encoded data removed]",
      "text/plain": [
       "<Figure size 432x288 with 2 Axes>"
      ]
     },
     "metadata": {
      "needs_background": "light"
     },
     "output_type": "display_data"
    }
   ],
   "source": [
    "#Calculating the confusion matrix \n",
    "from sklearn.metrics import confusion_matrix\n",
    "cm1=confusion_matrix(y_test, y_pred_e)\n",
    "labels = ['True Positive','False Negative','False Positive','True Negative']\n",
    "categories = [ 'Not Changing Job','Changing Job']\n",
    "make_confusion_matrix(cm1, \n",
    "                      group_names=labels,\n",
    "                      categories=categories, \n",
    "                      cmap='Blues')"
   ]
  },
  {
   "cell_type": "code",
   "execution_count": 55,
   "metadata": {
    "colab": {
     "base_uri": "https://localhost:8080/"
    },
    "executionInfo": {
     "elapsed": 32,
     "status": "ok",
     "timestamp": 1678012542960,
     "user": {
      "displayName": "Madhuri Gandikota",
      "userId": "06840075266312606278"
     },
     "user_tz": 360
    },
    "id": "yVTckeT_tBxK",
    "outputId": "ec7cfbc5-419b-4b49-edd3-d2ce21a9e97b"
   },
   "outputs": [
    {
     "name": "stdout",
     "output_type": "stream",
     "text": [
      "              precision    recall  f1-score   support\n",
      "\n",
      "           0       0.92      0.75      0.83      1593\n",
      "           1       0.43      0.74      0.55       407\n",
      "\n",
      "    accuracy                           0.75      2000\n",
      "   macro avg       0.68      0.75      0.69      2000\n",
      "weighted avg       0.82      0.75      0.77      2000\n",
      "\n"
     ]
    }
   ],
   "source": [
    "#Accuracy as per the classification report \n",
    "from sklearn import metrics\n",
    "cr=metrics.classification_report(y_test,y_pred_e)\n",
    "print(cr)"
   ]
  },
  {
   "cell_type": "markdown",
   "metadata": {
    "id": "eAyTKxe9tXuo"
   },
   "source": [
    "The prediction of the \"Exited customers \" have decreased  from 75 % to 43%. \n",
    "F1 score is not so great, and predicting exits are also bad.\n",
    "LEts apply other strategies and see. "
   ]
  },
  {
   "cell_type": "markdown",
   "metadata": {
    "id": "45YmouvhOxSF"
   },
   "source": [
    "**SMOTE** **Apply**"
   ]
  },
  {
   "cell_type": "code",
   "execution_count": 56,
   "metadata": {
    "executionInfo": {
     "elapsed": 1411,
     "status": "ok",
     "timestamp": 1678012544362,
     "user": {
      "displayName": "Madhuri Gandikota",
      "userId": "06840075266312606278"
     },
     "user_tz": 360
    },
    "id": "utig34TouFdq"
   },
   "outputs": [],
   "source": [
    "##Applying SMOTE on train and test\n",
    "from imblearn.over_sampling import SMOTE\n",
    "smote=SMOTE(sampling_strategy='not majority')\n",
    "X_sm , y_sm = smote.fit_resample(X_train,y_train)"
   ]
  },
  {
   "cell_type": "markdown",
   "metadata": {
    "id": "tl8WU9fC2U-y"
   },
   "source": [
    "# Also, tuning the hyperparameters"
   ]
  },
  {
   "cell_type": "code",
   "execution_count": 57,
   "metadata": {
    "executionInfo": {
     "elapsed": 11,
     "status": "ok",
     "timestamp": 1678012544364,
     "user": {
      "displayName": "Madhuri Gandikota",
      "userId": "06840075266312606278"
     },
     "user_tz": 360
    },
    "id": "QCxFtpp-xfnt"
   },
   "outputs": [],
   "source": [
    "def build_model_2(h):\n",
    "    model = keras.Sequential()\n",
    "    for i in range(h.Int('num_layers', 2, 10)):\n",
    "        model.add(layers.Dense(units=h.Int('units_' + str(i),\n",
    "                                            min_value=32,\n",
    "                                            max_value=256,\n",
    "                                            step=32),\n",
    "                               activation='relu'))\n",
    "    model.add(layers.Dense(1, activation='sigmoid'))\n",
    "    model.compile(\n",
    "        optimizer=keras.optimizers.Adam(\n",
    "            h.Choice('learning_rate', [1e-2, 1e-3, 1e-4])),\n",
    "        loss='binary_crossentropy',\n",
    "        metrics=['accuracy'])\n",
    "    return model"
   ]
  },
  {
   "cell_type": "code",
   "execution_count": 58,
   "metadata": {
    "colab": {
     "base_uri": "https://localhost:8080/"
    },
    "executionInfo": {
     "elapsed": 4367,
     "status": "ok",
     "timestamp": 1678012548723,
     "user": {
      "displayName": "Madhuri Gandikota",
      "userId": "06840075266312606278"
     },
     "user_tz": 360
    },
    "id": "iqUZBM5Hxkdh",
    "outputId": "b14ef2a0-5d51-4ecf-e7f1-e2c5161ea49b"
   },
   "outputs": [
    {
     "name": "stdout",
     "output_type": "stream",
     "text": [
      "Looking in indexes: https://pypi.org/simple, https://us-python.pkg.dev/colab-wheels/public/simple/\n",
      "Collecting keras-tuner\n",
      "  Downloading keras_tuner-1.3.0-py3-none-any.whl (167 kB)\n",
      "\u001b[2K     \u001b[90m━━━━━━━━━━━━━━━━━━━━━━━━━━━━━━━━━━━━━━\u001b[0m \u001b[32m167.3/167.3 KB\u001b[0m \u001b[31m13.3 MB/s\u001b[0m eta \u001b[36m0:00:00\u001b[0m\n",
      "\u001b[?25hCollecting kt-legacy\n",
      "  Downloading kt_legacy-1.0.4-py3-none-any.whl (9.6 kB)\n",
      "Requirement already satisfied: ipython in /usr/local/lib/python3.8/dist-packages (from keras-tuner) (7.9.0)\n",
      "Requirement already satisfied: requests in /usr/local/lib/python3.8/dist-packages (from keras-tuner) (2.25.1)\n",
      "Requirement already satisfied: tensorflow>=2.0 in /usr/local/lib/python3.8/dist-packages (from keras-tuner) (2.11.0)\n",
      "Requirement already satisfied: packaging in /usr/local/lib/python3.8/dist-packages (from keras-tuner) (23.0)\n",
      "Requirement already satisfied: numpy>=1.20 in /usr/local/lib/python3.8/dist-packages (from tensorflow>=2.0->keras-tuner) (1.22.4)\n",
      "Requirement already satisfied: six>=1.12.0 in /usr/local/lib/python3.8/dist-packages (from tensorflow>=2.0->keras-tuner) (1.15.0)\n",
      "Requirement already satisfied: flatbuffers>=2.0 in /usr/local/lib/python3.8/dist-packages (from tensorflow>=2.0->keras-tuner) (23.1.21)\n",
      "Requirement already satisfied: wrapt>=1.11.0 in /usr/local/lib/python3.8/dist-packages (from tensorflow>=2.0->keras-tuner) (1.15.0)\n",
      "Requirement already satisfied: tensorflow-estimator<2.12,>=2.11.0 in /usr/local/lib/python3.8/dist-packages (from tensorflow>=2.0->keras-tuner) (2.11.0)\n",
      "Requirement already satisfied: tensorflow-io-gcs-filesystem>=0.23.1 in /usr/local/lib/python3.8/dist-packages (from tensorflow>=2.0->keras-tuner) (0.31.0)\n",
      "Requirement already satisfied: grpcio<2.0,>=1.24.3 in /usr/local/lib/python3.8/dist-packages (from tensorflow>=2.0->keras-tuner) (1.51.3)\n",
      "Requirement already satisfied: typing-extensions>=3.6.6 in /usr/local/lib/python3.8/dist-packages (from tensorflow>=2.0->keras-tuner) (4.5.0)\n",
      "Requirement already satisfied: protobuf<3.20,>=3.9.2 in /usr/local/lib/python3.8/dist-packages (from tensorflow>=2.0->keras-tuner) (3.19.6)\n",
      "Requirement already satisfied: opt-einsum>=2.3.2 in /usr/local/lib/python3.8/dist-packages (from tensorflow>=2.0->keras-tuner) (3.3.0)\n",
      "Requirement already satisfied: astunparse>=1.6.0 in /usr/local/lib/python3.8/dist-packages (from tensorflow>=2.0->keras-tuner) (1.6.3)\n",
      "Requirement already satisfied: absl-py>=1.0.0 in /usr/local/lib/python3.8/dist-packages (from tensorflow>=2.0->keras-tuner) (1.4.0)\n",
      "Requirement already satisfied: libclang>=13.0.0 in /usr/local/lib/python3.8/dist-packages (from tensorflow>=2.0->keras-tuner) (15.0.6.1)\n",
      "Requirement already satisfied: h5py>=2.9.0 in /usr/local/lib/python3.8/dist-packages (from tensorflow>=2.0->keras-tuner) (3.1.0)\n",
      "Requirement already satisfied: google-pasta>=0.1.1 in /usr/local/lib/python3.8/dist-packages (from tensorflow>=2.0->keras-tuner) (0.2.0)\n",
      "Requirement already satisfied: setuptools in /usr/local/lib/python3.8/dist-packages (from tensorflow>=2.0->keras-tuner) (57.4.0)\n",
      "Requirement already satisfied: keras<2.12,>=2.11.0 in /usr/local/lib/python3.8/dist-packages (from tensorflow>=2.0->keras-tuner) (2.11.0)\n",
      "Requirement already satisfied: gast<=0.4.0,>=0.2.1 in /usr/local/lib/python3.8/dist-packages (from tensorflow>=2.0->keras-tuner) (0.4.0)\n",
      "Requirement already satisfied: termcolor>=1.1.0 in /usr/local/lib/python3.8/dist-packages (from tensorflow>=2.0->keras-tuner) (2.2.0)\n",
      "Requirement already satisfied: tensorboard<2.12,>=2.11 in /usr/local/lib/python3.8/dist-packages (from tensorflow>=2.0->keras-tuner) (2.11.2)\n",
      "Requirement already satisfied: decorator in /usr/local/lib/python3.8/dist-packages (from ipython->keras-tuner) (4.4.2)\n",
      "Requirement already satisfied: pygments in /usr/local/lib/python3.8/dist-packages (from ipython->keras-tuner) (2.6.1)\n",
      "Requirement already satisfied: traitlets>=4.2 in /usr/local/lib/python3.8/dist-packages (from ipython->keras-tuner) (5.7.1)\n",
      "Requirement already satisfied: prompt-toolkit<2.1.0,>=2.0.0 in /usr/local/lib/python3.8/dist-packages (from ipython->keras-tuner) (2.0.10)\n",
      "Requirement already satisfied: pexpect in /usr/local/lib/python3.8/dist-packages (from ipython->keras-tuner) (4.8.0)\n",
      "Collecting jedi>=0.10\n",
      "  Downloading jedi-0.18.2-py2.py3-none-any.whl (1.6 MB)\n",
      "\u001b[2K     \u001b[90m━━━━━━━━━━━━━━━━━━━━━━━━━━━━━━━━━━━━━━━━\u001b[0m \u001b[32m1.6/1.6 MB\u001b[0m \u001b[31m61.8 MB/s\u001b[0m eta \u001b[36m0:00:00\u001b[0m\n",
      "\u001b[?25hRequirement already satisfied: backcall in /usr/local/lib/python3.8/dist-packages (from ipython->keras-tuner) (0.2.0)\n",
      "Requirement already satisfied: pickleshare in /usr/local/lib/python3.8/dist-packages (from ipython->keras-tuner) (0.7.5)\n",
      "Requirement already satisfied: certifi>=2017.4.17 in /usr/local/lib/python3.8/dist-packages (from requests->keras-tuner) (2022.12.7)\n",
      "Requirement already satisfied: idna<3,>=2.5 in /usr/local/lib/python3.8/dist-packages (from requests->keras-tuner) (2.10)\n",
      "Requirement already satisfied: urllib3<1.27,>=1.21.1 in /usr/local/lib/python3.8/dist-packages (from requests->keras-tuner) (1.26.14)\n",
      "Requirement already satisfied: chardet<5,>=3.0.2 in /usr/local/lib/python3.8/dist-packages (from requests->keras-tuner) (4.0.0)\n",
      "Requirement already satisfied: wheel<1.0,>=0.23.0 in /usr/local/lib/python3.8/dist-packages (from astunparse>=1.6.0->tensorflow>=2.0->keras-tuner) (0.38.4)\n",
      "Requirement already satisfied: parso<0.9.0,>=0.8.0 in /usr/local/lib/python3.8/dist-packages (from jedi>=0.10->ipython->keras-tuner) (0.8.3)\n",
      "Requirement already satisfied: wcwidth in /usr/local/lib/python3.8/dist-packages (from prompt-toolkit<2.1.0,>=2.0.0->ipython->keras-tuner) (0.2.6)\n",
      "Requirement already satisfied: tensorboard-plugin-wit>=1.6.0 in /usr/local/lib/python3.8/dist-packages (from tensorboard<2.12,>=2.11->tensorflow>=2.0->keras-tuner) (1.8.1)\n",
      "Requirement already satisfied: werkzeug>=1.0.1 in /usr/local/lib/python3.8/dist-packages (from tensorboard<2.12,>=2.11->tensorflow>=2.0->keras-tuner) (2.2.3)\n",
      "Requirement already satisfied: google-auth-oauthlib<0.5,>=0.4.1 in /usr/local/lib/python3.8/dist-packages (from tensorboard<2.12,>=2.11->tensorflow>=2.0->keras-tuner) (0.4.6)\n",
      "Requirement already satisfied: tensorboard-data-server<0.7.0,>=0.6.0 in /usr/local/lib/python3.8/dist-packages (from tensorboard<2.12,>=2.11->tensorflow>=2.0->keras-tuner) (0.6.1)\n",
      "Requirement already satisfied: google-auth<3,>=1.6.3 in /usr/local/lib/python3.8/dist-packages (from tensorboard<2.12,>=2.11->tensorflow>=2.0->keras-tuner) (2.16.1)\n",
      "Requirement already satisfied: markdown>=2.6.8 in /usr/local/lib/python3.8/dist-packages (from tensorboard<2.12,>=2.11->tensorflow>=2.0->keras-tuner) (3.4.1)\n",
      "Requirement already satisfied: ptyprocess>=0.5 in /usr/local/lib/python3.8/dist-packages (from pexpect->ipython->keras-tuner) (0.7.0)\n",
      "Requirement already satisfied: cachetools<6.0,>=2.0.0 in /usr/local/lib/python3.8/dist-packages (from google-auth<3,>=1.6.3->tensorboard<2.12,>=2.11->tensorflow>=2.0->keras-tuner) (5.3.0)\n",
      "Requirement already satisfied: pyasn1-modules>=0.2.1 in /usr/local/lib/python3.8/dist-packages (from google-auth<3,>=1.6.3->tensorboard<2.12,>=2.11->tensorflow>=2.0->keras-tuner) (0.2.8)\n",
      "Requirement already satisfied: rsa<5,>=3.1.4 in /usr/local/lib/python3.8/dist-packages (from google-auth<3,>=1.6.3->tensorboard<2.12,>=2.11->tensorflow>=2.0->keras-tuner) (4.9)\n",
      "Requirement already satisfied: requests-oauthlib>=0.7.0 in /usr/local/lib/python3.8/dist-packages (from google-auth-oauthlib<0.5,>=0.4.1->tensorboard<2.12,>=2.11->tensorflow>=2.0->keras-tuner) (1.3.1)\n",
      "Requirement already satisfied: importlib-metadata>=4.4 in /usr/local/lib/python3.8/dist-packages (from markdown>=2.6.8->tensorboard<2.12,>=2.11->tensorflow>=2.0->keras-tuner) (6.0.0)\n",
      "Requirement already satisfied: MarkupSafe>=2.1.1 in /usr/local/lib/python3.8/dist-packages (from werkzeug>=1.0.1->tensorboard<2.12,>=2.11->tensorflow>=2.0->keras-tuner) (2.1.2)\n",
      "Requirement already satisfied: zipp>=0.5 in /usr/local/lib/python3.8/dist-packages (from importlib-metadata>=4.4->markdown>=2.6.8->tensorboard<2.12,>=2.11->tensorflow>=2.0->keras-tuner) (3.15.0)\n",
      "Requirement already satisfied: pyasn1<0.5.0,>=0.4.6 in /usr/local/lib/python3.8/dist-packages (from pyasn1-modules>=0.2.1->google-auth<3,>=1.6.3->tensorboard<2.12,>=2.11->tensorflow>=2.0->keras-tuner) (0.4.8)\n",
      "Requirement already satisfied: oauthlib>=3.0.0 in /usr/local/lib/python3.8/dist-packages (from requests-oauthlib>=0.7.0->google-auth-oauthlib<0.5,>=0.4.1->tensorboard<2.12,>=2.11->tensorflow>=2.0->keras-tuner) (3.2.2)\n",
      "Installing collected packages: kt-legacy, jedi, keras-tuner\n",
      "Successfully installed jedi-0.18.2 keras-tuner-1.3.0 kt-legacy-1.0.4\n"
     ]
    }
   ],
   "source": [
    "!pip install keras-tuner --upgrade"
   ]
  },
  {
   "cell_type": "code",
   "execution_count": 59,
   "metadata": {
    "executionInfo": {
     "elapsed": 135,
     "status": "ok",
     "timestamp": 1678012548842,
     "user": {
      "displayName": "Madhuri Gandikota",
      "userId": "06840075266312606278"
     },
     "user_tz": 360
    },
    "id": "sLMot8Hi2r_-"
   },
   "outputs": [],
   "source": [
    "from tensorflow import keras\n",
    "from tensorflow.keras import layers\n",
    "from kerastuner.tuners import RandomSearch"
   ]
  },
  {
   "cell_type": "code",
   "execution_count": 60,
   "metadata": {
    "executionInfo": {
     "elapsed": 6,
     "status": "ok",
     "timestamp": 1678012548843,
     "user": {
      "displayName": "Madhuri Gandikota",
      "userId": "06840075266312606278"
     },
     "user_tz": 360
    },
    "id": "icIu58PExsnh"
   },
   "outputs": [],
   "source": [
    "tuner_2 = RandomSearch(\n",
    "    build_model_2,\n",
    "    objective='val_accuracy',\n",
    "    max_trials=5,\n",
    "    executions_per_trial=3,\n",
    "    project_name='Exited')"
   ]
  },
  {
   "cell_type": "markdown",
   "metadata": {
    "id": "kuRt8qv7fd2O"
   },
   "source": [
    "Number of layeers: are from 2- 10 , increment by 1\n",
    "No. of neurons for input layer : 32 to 256, increase by 32 \n",
    "no of units for hidden layers: 32 to 256 bold text\n",
    "learning rate choices bold text bold text bold text"
   ]
  },
  {
   "cell_type": "code",
   "execution_count": 61,
   "metadata": {
    "colab": {
     "base_uri": "https://localhost:8080/"
    },
    "executionInfo": {
     "elapsed": 100,
     "status": "ok",
     "timestamp": 1678012548939,
     "user": {
      "displayName": "Madhuri Gandikota",
      "userId": "06840075266312606278"
     },
     "user_tz": 360
    },
    "id": "BiOdS2fjxvoM",
    "outputId": "cdac23ec-65f8-4403-ea83-6a013fce442c"
   },
   "outputs": [
    {
     "name": "stdout",
     "output_type": "stream",
     "text": [
      "Search space summary\n",
      "Default search space size: 4\n",
      "num_layers (Int)\n",
      "{'default': None, 'conditions': [], 'min_value': 2, 'max_value': 10, 'step': 1, 'sampling': 'linear'}\n",
      "units_0 (Int)\n",
      "{'default': None, 'conditions': [], 'min_value': 32, 'max_value': 256, 'step': 32, 'sampling': 'linear'}\n",
      "units_1 (Int)\n",
      "{'default': None, 'conditions': [], 'min_value': 32, 'max_value': 256, 'step': 32, 'sampling': 'linear'}\n",
      "learning_rate (Choice)\n",
      "{'default': 0.01, 'conditions': [], 'values': [0.01, 0.001, 0.0001], 'ordered': True}\n"
     ]
    }
   ],
   "source": [
    "tuner_2.search_space_summary()"
   ]
  },
  {
   "cell_type": "markdown",
   "metadata": {
    "id": "zybdTcfo4L1H"
   },
   "source": [
    "Using the SMOTE sample"
   ]
  },
  {
   "cell_type": "code",
   "execution_count": 62,
   "metadata": {
    "colab": {
     "base_uri": "https://localhost:8080/"
    },
    "executionInfo": {
     "elapsed": 198498,
     "status": "ok",
     "timestamp": 1678012747434,
     "user": {
      "displayName": "Madhuri Gandikota",
      "userId": "06840075266312606278"
     },
     "user_tz": 360
    },
    "id": "egMO9D-6x1uG",
    "outputId": "a70f3875-1e6e-403c-e5b6-0e32e103eeed"
   },
   "outputs": [
    {
     "name": "stdout",
     "output_type": "stream",
     "text": [
      "Trial 5 Complete [00h 00m 34s]\n",
      "val_accuracy: 0.8386970361073812\n",
      "\n",
      "Best val_accuracy So Far: 0.8410517970720927\n",
      "Total elapsed time: 00h 03m 18s\n"
     ]
    }
   ],
   "source": [
    "tuner_2.search(X_sm, y_sm,\n",
    "             epochs=5,\n",
    "             validation_split = 0.2)"
   ]
  },
  {
   "cell_type": "code",
   "execution_count": 63,
   "metadata": {
    "colab": {
     "base_uri": "https://localhost:8080/"
    },
    "executionInfo": {
     "elapsed": 38,
     "status": "ok",
     "timestamp": 1678012747435,
     "user": {
      "displayName": "Madhuri Gandikota",
      "userId": "06840075266312606278"
     },
     "user_tz": 360
    },
    "id": "gVSjuUeTzLt9",
    "outputId": "d3b52006-711a-4166-9a0b-d7ddc5f6c1da"
   },
   "outputs": [
    {
     "name": "stdout",
     "output_type": "stream",
     "text": [
      "Results summary\n",
      "Results in ./Exited\n",
      "Showing 10 best trials\n",
      "<keras_tuner.engine.objective.Objective object at 0x7fddb0a38a60>\n",
      "Trial summary\n",
      "Hyperparameters:\n",
      "num_layers: 3\n",
      "units_0: 224\n",
      "units_1: 224\n",
      "learning_rate: 0.001\n",
      "units_2: 256\n",
      "units_3: 256\n",
      "units_4: 96\n",
      "units_5: 256\n",
      "units_6: 128\n",
      "Score: 0.8410517970720927\n",
      "Trial summary\n",
      "Hyperparameters:\n",
      "num_layers: 2\n",
      "units_0: 192\n",
      "units_1: 96\n",
      "learning_rate: 0.01\n",
      "units_2: 224\n",
      "units_3: 64\n",
      "units_4: 96\n",
      "units_5: 256\n",
      "units_6: 224\n",
      "Score: 0.8386970361073812\n",
      "Trial summary\n",
      "Hyperparameters:\n",
      "num_layers: 2\n",
      "units_0: 96\n",
      "units_1: 160\n",
      "learning_rate: 0.01\n",
      "units_2: 96\n",
      "units_3: 32\n",
      "units_4: 64\n",
      "units_5: 256\n",
      "units_6: 160\n",
      "Score: 0.8301936189333597\n",
      "Trial summary\n",
      "Hyperparameters:\n",
      "num_layers: 4\n",
      "units_0: 256\n",
      "units_1: 160\n",
      "learning_rate: 0.0001\n",
      "units_2: 192\n",
      "units_3: 192\n",
      "units_4: 192\n",
      "units_5: 32\n",
      "units_6: 32\n",
      "Score: 0.8121402263641357\n",
      "Trial summary\n",
      "Hyperparameters:\n",
      "num_layers: 7\n",
      "units_0: 96\n",
      "units_1: 256\n",
      "learning_rate: 0.01\n",
      "units_2: 32\n",
      "units_3: 32\n",
      "units_4: 32\n",
      "units_5: 32\n",
      "units_6: 32\n",
      "Score: 0.7286761005719503\n"
     ]
    }
   ],
   "source": [
    "tuner_2.results_summary()"
   ]
  },
  {
   "cell_type": "markdown",
   "metadata": {
    "id": "dBYxuMqXziH_"
   },
   "source": [
    "Results summary\n",
    "Results in ./Exited\n",
    "Showing 10 best trials\n",
    "<keras_tuner.engine.objective.Objective object at 0x7f25fb5679d0>\n",
    "Trial summary\n",
    "Hyperparameters:\n",
    "num_layers: 3\n",
    "units_0: 224\n",
    "units_1: 224\n",
    "learning_rate: 0.001\n",
    "units_2: 256\n",
    "units_3: 256\n",
    "units_4: 96\n",
    "units_5: 256\n",
    "units_6: 128\n",
    "Score: 0.8460230231285095"
   ]
  },
  {
   "cell_type": "code",
   "execution_count": 64,
   "metadata": {
    "executionInfo": {
     "elapsed": 123,
     "status": "ok",
     "timestamp": 1678012747546,
     "user": {
      "displayName": "Madhuri Gandikota",
      "userId": "06840075266312606278"
     },
     "user_tz": 360
    },
    "id": "PyoiPjY9zVKk"
   },
   "outputs": [],
   "source": [
    "backend.clear_session()\n",
    "np.random.seed(42)\n",
    "import random\n",
    "random.seed(42)\n",
    "tf.random.set_seed(42)"
   ]
  },
  {
   "cell_type": "markdown",
   "metadata": {
    "id": "1hyQCVKy5kmt"
   },
   "source": [
    "Modelr=after hypertuning + smote"
   ]
  },
  {
   "cell_type": "markdown",
   "metadata": {
    "id": "GH0G0n3_bjps"
   },
   "source": [
    "Adding the HYperparamerts to the model"
   ]
  },
  {
   "cell_type": "code",
   "execution_count": 65,
   "metadata": {
    "executionInfo": {
     "elapsed": 203,
     "status": "ok",
     "timestamp": 1678012747745,
     "user": {
      "displayName": "Madhuri Gandikota",
      "userId": "06840075266312606278"
     },
     "user_tz": 360
    },
    "id": "3ExxKE-OI_OL"
   },
   "outputs": [],
   "source": [
    "# Initializing the ANN\n",
    "modelr = Sequential()\n",
    "\n",
    "# This adds the input layer (by specifying input dimension) AND the first hidden layer (units)\n",
    "modelr.add(Dense(activation = 'relu', input_dim = 10, units=224))\n",
    "#Add 1st hidden layer\n",
    "modelr.add(Dense(224, activation='relu'))\n",
    "# Adding the second hidden layer with 32 neurons, relu as activation function and, he_uniform as weight initializer\n",
    "modelr.add(Dense(256, activation='relu',kernel_initializer='he_uniform'))\n",
    "# Adding the second hidden layer with 128 neurons, relu as activation function and, he_uniform as weight initializer\n",
    "modelr.add(Dense(256, activation='relu',kernel_initializer='he_uniform'))\n",
    "# Adding the second hidden layer with 128 neurons, relu as activation function and, he_uniform as weight initializer\n",
    "modelr.add(Dense(96, activation='relu',kernel_initializer='he_uniform'))# Adding the second hidden layer with 128 neurons, relu as activation function and, he_uniform as weight initializer\n",
    "modelr.add(Dense(256, activation='relu',kernel_initializer='he_uniform'))\n",
    "# Adding the second hidden layer with 128 neurons, relu as activation function and, he_uniform as weight initializer\n",
    "modelr.add(Dense(128, activation='relu',kernel_initializer='he_uniform'))\n",
    "\n",
    "\n",
    "# Adding the output layer\n",
    "# Notice that we do not need to specify input dim. \n",
    "# we have an output of 1 node, which is the the desired dimensions of our output (stay with the bank or not)\n",
    "# We use the sigmoid because we want probability outcomes\n",
    "modelr.add(Dense(1, activation = 'sigmoid'))"
   ]
  },
  {
   "cell_type": "code",
   "execution_count": 66,
   "metadata": {
    "colab": {
     "base_uri": "https://localhost:8080/"
    },
    "executionInfo": {
     "elapsed": 224,
     "status": "ok",
     "timestamp": 1678012747960,
     "user": {
      "displayName": "Madhuri Gandikota",
      "userId": "06840075266312606278"
     },
     "user_tz": 360
    },
    "id": "1Sbhwt1SKRpx",
    "outputId": "2b7580d8-5eef-4211-e33a-b24c1415e082"
   },
   "outputs": [
    {
     "name": "stdout",
     "output_type": "stream",
     "text": [
      "Model: \"sequential\"\n",
      "_________________________________________________________________\n",
      " Layer (type)                Output Shape              Param #   \n",
      "=================================================================\n",
      " dense (Dense)               (None, 224)               2464      \n",
      "                                                                 \n",
      " dense_1 (Dense)             (None, 224)               50400     \n",
      "                                                                 \n",
      " dense_2 (Dense)             (None, 256)               57600     \n",
      "                                                                 \n",
      " dense_3 (Dense)             (None, 256)               65792     \n",
      "                                                                 \n",
      " dense_4 (Dense)             (None, 96)                24672     \n",
      "                                                                 \n",
      " dense_5 (Dense)             (None, 256)               24832     \n",
      "                                                                 \n",
      " dense_6 (Dense)             (None, 128)               32896     \n",
      "                                                                 \n",
      " dense_7 (Dense)             (None, 1)                 129       \n",
      "                                                                 \n",
      "=================================================================\n",
      "Total params: 258,785\n",
      "Trainable params: 258,785\n",
      "Non-trainable params: 0\n",
      "_________________________________________________________________\n"
     ]
    }
   ],
   "source": [
    "modelr.summary()"
   ]
  },
  {
   "cell_type": "code",
   "execution_count": 67,
   "metadata": {
    "executionInfo": {
     "elapsed": 6,
     "status": "ok",
     "timestamp": 1678012747961,
     "user": {
      "displayName": "Madhuri Gandikota",
      "userId": "06840075266312606278"
     },
     "user_tz": 360
    },
    "id": "Is3E1q13cePf"
   },
   "outputs": [],
   "source": [
    "# Defining the optimizer\n",
    "optimizer = tf.keras.optimizers.Adam(0.001) "
   ]
  },
  {
   "cell_type": "code",
   "execution_count": 68,
   "metadata": {
    "executionInfo": {
     "elapsed": 5,
     "status": "ok",
     "timestamp": 1678012747961,
     "user": {
      "displayName": "Madhuri Gandikota",
      "userId": "06840075266312606278"
     },
     "user_tz": 360
    },
    "id": "rJuMgBsZcdui"
   },
   "outputs": [],
   "source": [
    "# # Compile model\n",
    "modelr.compile(loss='binary_crossentropy', optimizer=Adam(learning_rate=0.001), metrics=['accuracy'])"
   ]
  },
  {
   "cell_type": "code",
   "execution_count": 69,
   "metadata": {
    "colab": {
     "base_uri": "https://localhost:8080/"
    },
    "executionInfo": {
     "elapsed": 73538,
     "status": "ok",
     "timestamp": 1678012821495,
     "user": {
      "displayName": "Madhuri Gandikota",
      "userId": "06840075266312606278"
     },
     "user_tz": 360
    },
    "id": "9VgTBX7aMSwJ",
    "outputId": "80648b22-e418-44fd-9f1d-b5df46c1dd54"
   },
   "outputs": [
    {
     "name": "stdout",
     "output_type": "stream",
     "text": [
      "Epoch 1/50\n",
      "200/200 [==============================] - 7s 11ms/step - loss: 0.5521 - accuracy: 0.7848 - val_loss: 0.5078 - val_accuracy: 0.8000\n",
      "Epoch 2/50\n",
      "200/200 [==============================] - 2s 9ms/step - loss: 0.4801 - accuracy: 0.7934 - val_loss: 0.4589 - val_accuracy: 0.8000\n",
      "Epoch 3/50\n",
      "200/200 [==============================] - 2s 9ms/step - loss: 0.4616 - accuracy: 0.7975 - val_loss: 0.4696 - val_accuracy: 0.8056\n",
      "Epoch 4/50\n",
      "200/200 [==============================] - 3s 14ms/step - loss: 0.4583 - accuracy: 0.7977 - val_loss: 0.4552 - val_accuracy: 0.8000\n",
      "Epoch 5/50\n",
      "200/200 [==============================] - 2s 12ms/step - loss: 0.4531 - accuracy: 0.7981 - val_loss: 0.4651 - val_accuracy: 0.8081\n",
      "Epoch 6/50\n",
      "200/200 [==============================] - 2s 9ms/step - loss: 0.4460 - accuracy: 0.8011 - val_loss: 0.4523 - val_accuracy: 0.8100\n",
      "Epoch 7/50\n",
      "200/200 [==============================] - 2s 9ms/step - loss: 0.4465 - accuracy: 0.7980 - val_loss: 0.4492 - val_accuracy: 0.8000\n",
      "Epoch 8/50\n",
      "200/200 [==============================] - 2s 9ms/step - loss: 0.4433 - accuracy: 0.8016 - val_loss: 0.4485 - val_accuracy: 0.8156\n",
      "Epoch 9/50\n",
      "200/200 [==============================] - 2s 10ms/step - loss: 0.4381 - accuracy: 0.7992 - val_loss: 0.4433 - val_accuracy: 0.8044\n",
      "Epoch 10/50\n",
      "200/200 [==============================] - 2s 10ms/step - loss: 0.4380 - accuracy: 0.8061 - val_loss: 0.4402 - val_accuracy: 0.8044\n",
      "Epoch 11/50\n",
      "200/200 [==============================] - 3s 14ms/step - loss: 0.4343 - accuracy: 0.8105 - val_loss: 0.4462 - val_accuracy: 0.8050\n",
      "Epoch 12/50\n",
      "200/200 [==============================] - 2s 12ms/step - loss: 0.4303 - accuracy: 0.8133 - val_loss: 0.4326 - val_accuracy: 0.8100\n",
      "Epoch 13/50\n",
      "200/200 [==============================] - 2s 9ms/step - loss: 0.4295 - accuracy: 0.8131 - val_loss: 0.4235 - val_accuracy: 0.8288\n",
      "Epoch 14/50\n",
      "200/200 [==============================] - 2s 9ms/step - loss: 0.4221 - accuracy: 0.8180 - val_loss: 0.4275 - val_accuracy: 0.8313\n",
      "Epoch 15/50\n",
      "200/200 [==============================] - 2s 9ms/step - loss: 0.4115 - accuracy: 0.8242 - val_loss: 0.4204 - val_accuracy: 0.8369\n",
      "Epoch 16/50\n",
      "200/200 [==============================] - 2s 9ms/step - loss: 0.4129 - accuracy: 0.8244 - val_loss: 0.3887 - val_accuracy: 0.8581\n",
      "Epoch 17/50\n",
      "200/200 [==============================] - 1s 6ms/step - loss: 0.4053 - accuracy: 0.8331 - val_loss: 0.4047 - val_accuracy: 0.8300\n",
      "Epoch 18/50\n",
      "200/200 [==============================] - 1s 5ms/step - loss: 0.4003 - accuracy: 0.8364 - val_loss: 0.3699 - val_accuracy: 0.8575\n",
      "Epoch 19/50\n",
      "200/200 [==============================] - 1s 6ms/step - loss: 0.3782 - accuracy: 0.8458 - val_loss: 0.3857 - val_accuracy: 0.8481\n",
      "Epoch 20/50\n",
      "200/200 [==============================] - 1s 7ms/step - loss: 0.3737 - accuracy: 0.8466 - val_loss: 0.3538 - val_accuracy: 0.8681\n",
      "Epoch 21/50\n",
      "200/200 [==============================] - 1s 6ms/step - loss: 0.3754 - accuracy: 0.8458 - val_loss: 0.3815 - val_accuracy: 0.8456\n",
      "Epoch 22/50\n",
      "200/200 [==============================] - 1s 5ms/step - loss: 0.3699 - accuracy: 0.8458 - val_loss: 0.3523 - val_accuracy: 0.8694\n",
      "Epoch 23/50\n",
      "200/200 [==============================] - 1s 5ms/step - loss: 0.3675 - accuracy: 0.8478 - val_loss: 0.3454 - val_accuracy: 0.8694\n",
      "Epoch 24/50\n",
      "200/200 [==============================] - 1s 5ms/step - loss: 0.3605 - accuracy: 0.8519 - val_loss: 0.3966 - val_accuracy: 0.8325\n",
      "Epoch 25/50\n",
      "200/200 [==============================] - 1s 5ms/step - loss: 0.3584 - accuracy: 0.8505 - val_loss: 0.3571 - val_accuracy: 0.8644\n",
      "Epoch 26/50\n",
      "200/200 [==============================] - 1s 5ms/step - loss: 0.3583 - accuracy: 0.8533 - val_loss: 0.3530 - val_accuracy: 0.8687\n",
      "Epoch 27/50\n",
      "200/200 [==============================] - 1s 5ms/step - loss: 0.3573 - accuracy: 0.8523 - val_loss: 0.3522 - val_accuracy: 0.8687\n",
      "Epoch 28/50\n",
      "200/200 [==============================] - 1s 4ms/step - loss: 0.3651 - accuracy: 0.8456 - val_loss: 0.3574 - val_accuracy: 0.8500\n",
      "Epoch 29/50\n",
      "200/200 [==============================] - 1s 4ms/step - loss: 0.3528 - accuracy: 0.8533 - val_loss: 0.3745 - val_accuracy: 0.8500\n",
      "Epoch 30/50\n",
      "200/200 [==============================] - 1s 5ms/step - loss: 0.3525 - accuracy: 0.8508 - val_loss: 0.3459 - val_accuracy: 0.8675\n",
      "Epoch 31/50\n",
      "200/200 [==============================] - 1s 5ms/step - loss: 0.3459 - accuracy: 0.8536 - val_loss: 0.3482 - val_accuracy: 0.8631\n",
      "Epoch 32/50\n",
      "200/200 [==============================] - 1s 6ms/step - loss: 0.3477 - accuracy: 0.8517 - val_loss: 0.3635 - val_accuracy: 0.8575\n",
      "Epoch 33/50\n",
      "200/200 [==============================] - 1s 7ms/step - loss: 0.3485 - accuracy: 0.8534 - val_loss: 0.3612 - val_accuracy: 0.8575\n",
      "Epoch 34/50\n",
      "200/200 [==============================] - 1s 7ms/step - loss: 0.3525 - accuracy: 0.8525 - val_loss: 0.3737 - val_accuracy: 0.8481\n",
      "Epoch 35/50\n",
      "200/200 [==============================] - 1s 5ms/step - loss: 0.3459 - accuracy: 0.8514 - val_loss: 0.3711 - val_accuracy: 0.8394\n",
      "Epoch 36/50\n",
      "200/200 [==============================] - 1s 5ms/step - loss: 0.3454 - accuracy: 0.8527 - val_loss: 0.3405 - val_accuracy: 0.8700\n",
      "Epoch 37/50\n",
      "200/200 [==============================] - 1s 5ms/step - loss: 0.3372 - accuracy: 0.8570 - val_loss: 0.3406 - val_accuracy: 0.8706\n",
      "Epoch 38/50\n",
      "200/200 [==============================] - 1s 5ms/step - loss: 0.3361 - accuracy: 0.8548 - val_loss: 0.3420 - val_accuracy: 0.8694\n",
      "Epoch 39/50\n",
      "200/200 [==============================] - 1s 5ms/step - loss: 0.3380 - accuracy: 0.8556 - val_loss: 0.3372 - val_accuracy: 0.8675\n",
      "Epoch 40/50\n",
      "200/200 [==============================] - 1s 5ms/step - loss: 0.3357 - accuracy: 0.8561 - val_loss: 0.3470 - val_accuracy: 0.8712\n",
      "Epoch 41/50\n",
      "200/200 [==============================] - 1s 5ms/step - loss: 0.3364 - accuracy: 0.8547 - val_loss: 0.3436 - val_accuracy: 0.8650\n",
      "Epoch 42/50\n",
      "200/200 [==============================] - 1s 5ms/step - loss: 0.3314 - accuracy: 0.8609 - val_loss: 0.3701 - val_accuracy: 0.8469\n",
      "Epoch 43/50\n",
      "200/200 [==============================] - 1s 5ms/step - loss: 0.3304 - accuracy: 0.8614 - val_loss: 0.3446 - val_accuracy: 0.8694\n",
      "Epoch 44/50\n",
      "200/200 [==============================] - 1s 5ms/step - loss: 0.3338 - accuracy: 0.8572 - val_loss: 0.3445 - val_accuracy: 0.8612\n",
      "Epoch 45/50\n",
      "200/200 [==============================] - 1s 6ms/step - loss: 0.3301 - accuracy: 0.8550 - val_loss: 0.3784 - val_accuracy: 0.8381\n",
      "Epoch 46/50\n",
      "200/200 [==============================] - 2s 8ms/step - loss: 0.3245 - accuracy: 0.8592 - val_loss: 0.3553 - val_accuracy: 0.8644\n",
      "Epoch 47/50\n",
      "200/200 [==============================] - 1s 7ms/step - loss: 0.3251 - accuracy: 0.8583 - val_loss: 0.3542 - val_accuracy: 0.8575\n",
      "Epoch 48/50\n",
      "200/200 [==============================] - 1s 5ms/step - loss: 0.3259 - accuracy: 0.8594 - val_loss: 0.3378 - val_accuracy: 0.8675\n",
      "Epoch 49/50\n",
      "200/200 [==============================] - 1s 5ms/step - loss: 0.3179 - accuracy: 0.8619 - val_loss: 0.3822 - val_accuracy: 0.8544\n",
      "Epoch 50/50\n",
      "200/200 [==============================] - 1s 5ms/step - loss: 0.3158 - accuracy: 0.8591 - val_loss: 0.3359 - val_accuracy: 0.8675\n"
     ]
    }
   ],
   "source": [
    "#Definign the number of epochs\n",
    "EPOCHS = 50\n",
    "#fitting the model\n",
    "historyr = modelr.fit(X_train, y_train,epochs=EPOCHS, validation_split = 0.2, verbose=1)"
   ]
  },
  {
   "cell_type": "code",
   "execution_count": 70,
   "metadata": {
    "executionInfo": {
     "elapsed": 17,
     "status": "ok",
     "timestamp": 1678012821496,
     "user": {
      "displayName": "Madhuri Gandikota",
      "userId": "06840075266312606278"
     },
     "user_tz": 360
    },
    "id": "cOMynzAfJn2V"
   },
   "outputs": [],
   "source": [
    "#y_pred_e=model.predict(X_test)\n",
    "#y_pred_e = (y_pred_e > thresholds[ix])\n",
    "#y_pred_e\n",
    "\n",
    "#Predicting the results using best as a threshold\n",
    "#y_pred_e1=model1.predict(X_test)\n",
    "#y_pred_e1 = (y_pred_e1 > thresholds1[ix])\n",
    "#y_pred_e1"
   ]
  },
  {
   "cell_type": "code",
   "execution_count": 71,
   "metadata": {
    "colab": {
     "base_uri": "https://localhost:8080/"
    },
    "executionInfo": {
     "elapsed": 429,
     "status": "ok",
     "timestamp": 1678012821914,
     "user": {
      "displayName": "Madhuri Gandikota",
      "userId": "06840075266312606278"
     },
     "user_tz": 360
    },
    "id": "IRtsaOJ1IiOQ",
    "outputId": "f7c9c986-a358-4932-ae87-fb7335f23e8d"
   },
   "outputs": [
    {
     "name": "stdout",
     "output_type": "stream",
     "text": [
      "63/63 [==============================] - 0s 2ms/step\n"
     ]
    },
    {
     "data": {
      "text/plain": [
       "array([[False],\n",
       "       [False],\n",
       "       [False],\n",
       "       ...,\n",
       "       [ True],\n",
       "       [False],\n",
       "       [False]])"
      ]
     },
     "execution_count": 71,
     "metadata": {},
     "output_type": "execute_result"
    }
   ],
   "source": [
    "\n",
    "y_predr=modelr.predict(X_test)\n",
    "y_predr = (y_predr > 0.5)\n",
    "y_predr\n"
   ]
  },
  {
   "cell_type": "code",
   "execution_count": 72,
   "metadata": {
    "colab": {
     "base_uri": "https://localhost:8080/",
     "height": 282
    },
    "executionInfo": {
     "elapsed": 841,
     "status": "ok",
     "timestamp": 1678012822751,
     "user": {
      "displayName": "Madhuri Gandikota",
      "userId": "06840075266312606278"
     },
     "user_tz": 360
    },
    "id": "h5G53fBu7z7u",
    "outputId": "54e10567-7cf3-49bd-d9ad-520b88297abd"
   },
   "outputs": [
    {
     "name": "stdout",
     "output_type": "stream",
     "text": [
      "63/63 [==============================] - 0s 3ms/step - loss: 0.3676 - accuracy: 0.8625\n"
     ]
    },
    {
     "data": {
      "image/png": "[encoded data removed]",
      "text/plain": [
       "<Figure size 432x288 with 1 Axes>"
      ]
     },
     "metadata": {
      "needs_background": "light"
     },
     "output_type": "display_data"
    }
   ],
   "source": [
    "# Capturing learning history per epoch\n",
    "histr  = pd.DataFrame(historyr.history)\n",
    "hist['epoch'] = historyr.epoch\n",
    "\n",
    "# Plotting accuracy at different epochs\n",
    "plt.plot(historyr.history['loss'])\n",
    "plt.plot(historyr.history['val_loss'])\n",
    "plt.legend((\"train\" , \"valid\") , loc =0)\n",
    "\n",
    "#Printing results\n",
    "\n",
    "resultsr = modelr.evaluate(X_test, y_test)"
   ]
  },
  {
   "cell_type": "markdown",
   "metadata": {
    "id": "FCIsi8iBYGIG"
   },
   "source": [
    "THe loss decreases and sliglty increase and then shows a lower trend"
   ]
  },
  {
   "cell_type": "code",
   "execution_count": 73,
   "metadata": {
    "colab": {
     "base_uri": "https://localhost:8080/",
     "height": 265
    },
    "executionInfo": {
     "elapsed": 187,
     "status": "ok",
     "timestamp": 1678012822931,
     "user": {
      "displayName": "Madhuri Gandikota",
      "userId": "06840075266312606278"
     },
     "user_tz": 360
    },
    "id": "LK1aq-PoNYzE",
    "outputId": "33b8f6d9-6515-4d65-f8be-6116826a5c7d"
   },
   "outputs": [
    {
     "data": {
      "image/png": "[encoded data removed]",
      "text/plain": [
       "<Figure size 432x288 with 2 Axes>"
      ]
     },
     "metadata": {
      "needs_background": "light"
     },
     "output_type": "display_data"
    }
   ],
   "source": [
    "#Calculating the confusion matrix \n",
    "from sklearn.metrics import confusion_matrix\n",
    "cmr=confusion_matrix(y_test, y_predr)\n",
    "labels = ['True Positive','False Negative','False Positive','True Negative']\n",
    "categories = [ 'Exited','Not Exited']\n",
    "make_confusion_matrix(cmr, \n",
    "                      group_names=labels,\n",
    "                      categories=categories, \n",
    "                      cmap='Blues')"
   ]
  },
  {
   "cell_type": "code",
   "execution_count": 74,
   "metadata": {
    "colab": {
     "base_uri": "https://localhost:8080/"
    },
    "executionInfo": {
     "elapsed": 9,
     "status": "ok",
     "timestamp": 1678012823166,
     "user": {
      "displayName": "Madhuri Gandikota",
      "userId": "06840075266312606278"
     },
     "user_tz": 360
    },
    "id": "vQr69rHeNs9K",
    "outputId": "096858dd-9005-45b8-8a93-fac83840184d"
   },
   "outputs": [
    {
     "name": "stdout",
     "output_type": "stream",
     "text": [
      "              precision    recall  f1-score   support\n",
      "\n",
      "           0       0.87      0.97      0.92      1593\n",
      "           1       0.78      0.45      0.57       407\n",
      "\n",
      "    accuracy                           0.86      2000\n",
      "   macro avg       0.83      0.71      0.74      2000\n",
      "weighted avg       0.85      0.86      0.85      2000\n",
      "\n"
     ]
    }
   ],
   "source": [
    "#Accuracy as per the classification report \n",
    "from sklearn import metrics\n",
    "crr=metrics.classification_report(y_test,y_predr)\n",
    "print(crr)"
   ]
  },
  {
   "cell_type": "markdown",
   "metadata": {
    "id": "aj8m2Ki_ekv7"
   },
   "source": []
  },
  {
   "cell_type": "markdown",
   "metadata": {
    "id": "gEHUT3PPOMgC"
   },
   "source": [
    "The predictions of the Exited improved. This model is using SMOT + hyperparameter tuning for : Number of layeers: are from 2- 10 , increment by 1 No. of neurons for input layer : 32 to 256, increase by 32 no of units for hidden layers: 32 to 256 bold text learning rate choices bold text bold text bold text.\n",
    "\n",
    "THe prediction of exited has improved from 75% in base line to 78%. And the Recall of the exited also has increased from 43 to 48%.  Overall accuracy is still at 85% but the F1 score is sliglt improved. "
   ]
  },
  {
   "cell_type": "markdown",
   "metadata": {
    "id": "376TCq4vgJpF"
   },
   "source": [
    "# **Model: SMOTE only"
   ]
  },
  {
   "cell_type": "code",
   "execution_count": 75,
   "metadata": {
    "executionInfo": {
     "elapsed": 7,
     "status": "ok",
     "timestamp": 1678012823167,
     "user": {
      "displayName": "Madhuri Gandikota",
      "userId": "06840075266312606278"
     },
     "user_tz": 360
    },
    "id": "2SukD8RAnIKM"
   },
   "outputs": [],
   "source": [
    "backend.clear_session()\n",
    "#Fixing the seed for random number generators so that we can ensure we receive the same output everytime\n",
    "np.random.seed(42)\n",
    "import random\n",
    "random.seed(42)\n",
    "tf.random.set_seed(42)"
   ]
  },
  {
   "cell_type": "code",
   "execution_count": 76,
   "metadata": {
    "executionInfo": {
     "elapsed": 170,
     "status": "ok",
     "timestamp": 1678012823331,
     "user": {
      "displayName": "Madhuri Gandikota",
      "userId": "06840075266312606278"
     },
     "user_tz": 360
    },
    "id": "zeqvWgaMzsJH"
   },
   "outputs": [],
   "source": [
    "model1s = Sequential()\n",
    "# This adds the input layer (by specifying input dimension) AND the first hidden layer (units)\n",
    "model1s.add(Dense(activation = 'relu', input_dim = 10, units=96))\n",
    "model1s.add(Dense(160,activation='relu',kernel_initializer='he_uniform'))\n",
    "model1s.add(Dense(96,activation='relu',kernel_initializer='he_uniform'))\n",
    "model1s.add(Dense(128,activation='relu',kernel_initializer='he_uniform'))\n",
    "model1s.add(Dense(128,activation='relu',kernel_initializer='he_uniform'))\n",
    "model1s.add(Dense(160,activation='relu',kernel_initializer='he_uniform',input_dim = X_train.shape[1]))\n",
    "model1s.add(Dense(64,activation='relu',kernel_initializer='he_uniform'))\n",
    "model1s.add(Dense(32,activation='relu',kernel_initializer='he_uniform'))\n",
    "\n",
    "\n",
    "model1s.add(Dense(1, activation = 'sigmoid'))\n",
    "      #Compiling the ANN with Adam optimizer and binary cross entropy loss function \n",
    "optimizer = tf.keras.optimizers.Adam(0.0001)\n",
    "model1s.compile(loss='binary_crossentropy',optimizer=optimizer,metrics=['accuracy'])"
   ]
  },
  {
   "cell_type": "code",
   "execution_count": 77,
   "metadata": {
    "colab": {
     "base_uri": "https://localhost:8080/"
    },
    "executionInfo": {
     "elapsed": 13,
     "status": "ok",
     "timestamp": 1678012823332,
     "user": {
      "displayName": "Madhuri Gandikota",
      "userId": "06840075266312606278"
     },
     "user_tz": 360
    },
    "id": "nCuIWX_-0VtY",
    "outputId": "a8734595-15a5-4502-a949-951cf37e7fe2"
   },
   "outputs": [
    {
     "name": "stdout",
     "output_type": "stream",
     "text": [
      "Model: \"sequential\"\n",
      "_________________________________________________________________\n",
      " Layer (type)                Output Shape              Param #   \n",
      "=================================================================\n",
      " dense (Dense)               (None, 96)                1056      \n",
      "                                                                 \n",
      " dense_1 (Dense)             (None, 160)               15520     \n",
      "                                                                 \n",
      " dense_2 (Dense)             (None, 96)                15456     \n",
      "                                                                 \n",
      " dense_3 (Dense)             (None, 128)               12416     \n",
      "                                                                 \n",
      " dense_4 (Dense)             (None, 128)               16512     \n",
      "                                                                 \n",
      " dense_5 (Dense)             (None, 160)               20640     \n",
      "                                                                 \n",
      " dense_6 (Dense)             (None, 64)                10304     \n",
      "                                                                 \n",
      " dense_7 (Dense)             (None, 32)                2080      \n",
      "                                                                 \n",
      " dense_8 (Dense)             (None, 1)                 33        \n",
      "                                                                 \n",
      "=================================================================\n",
      "Total params: 94,017\n",
      "Trainable params: 94,017\n",
      "Non-trainable params: 0\n",
      "_________________________________________________________________\n"
     ]
    }
   ],
   "source": [
    "model1s.summary()"
   ]
  },
  {
   "cell_type": "code",
   "execution_count": 78,
   "metadata": {
    "colab": {
     "base_uri": "https://localhost:8080/"
    },
    "executionInfo": {
     "elapsed": 83507,
     "status": "ok",
     "timestamp": 1678012906834,
     "user": {
      "displayName": "Madhuri Gandikota",
      "userId": "06840075266312606278"
     },
     "user_tz": 360
    },
    "id": "07Va_3-Y0Z6I",
    "outputId": "5287def7-ba46-442b-cab4-4ca9501059ab"
   },
   "outputs": [
    {
     "name": "stdout",
     "output_type": "stream",
     "text": [
      "Epoch 1/50\n",
      "160/160 [==============================] - 4s 7ms/step - loss: 0.6094 - accuracy: 0.6680 - val_loss: 0.6309 - val_accuracy: 0.6570\n",
      "Epoch 2/50\n",
      "160/160 [==============================] - 1s 6ms/step - loss: 0.5563 - accuracy: 0.7123 - val_loss: 1.0921 - val_accuracy: 0.2441\n",
      "Epoch 3/50\n",
      "160/160 [==============================] - 1s 8ms/step - loss: 0.5374 - accuracy: 0.7290 - val_loss: 0.4746 - val_accuracy: 0.7967\n",
      "Epoch 4/50\n",
      "160/160 [==============================] - 1s 9ms/step - loss: 0.5211 - accuracy: 0.7382 - val_loss: 0.7854 - val_accuracy: 0.5416\n",
      "Epoch 5/50\n",
      "160/160 [==============================] - 2s 10ms/step - loss: 0.5267 - accuracy: 0.7370 - val_loss: 0.4557 - val_accuracy: 0.7991\n",
      "Epoch 6/50\n",
      "160/160 [==============================] - 2s 10ms/step - loss: 0.5215 - accuracy: 0.7395 - val_loss: 0.6865 - val_accuracy: 0.6236\n",
      "Epoch 7/50\n",
      "160/160 [==============================] - 1s 9ms/step - loss: 0.5203 - accuracy: 0.7405 - val_loss: 0.6717 - val_accuracy: 0.6287\n",
      "Epoch 8/50\n",
      "160/160 [==============================] - 1s 6ms/step - loss: 0.5149 - accuracy: 0.7444 - val_loss: 0.4066 - val_accuracy: 0.8281\n",
      "Epoch 9/50\n",
      "160/160 [==============================] - 1s 6ms/step - loss: 0.5079 - accuracy: 0.7511 - val_loss: 0.7042 - val_accuracy: 0.6024\n",
      "Epoch 10/50\n",
      "160/160 [==============================] - 1s 6ms/step - loss: 0.5023 - accuracy: 0.7543 - val_loss: 0.5752 - val_accuracy: 0.7143\n",
      "Epoch 11/50\n",
      "160/160 [==============================] - 1s 6ms/step - loss: 0.5032 - accuracy: 0.7539 - val_loss: 0.4319 - val_accuracy: 0.8085\n",
      "Epoch 12/50\n",
      "160/160 [==============================] - 1s 6ms/step - loss: 0.5088 - accuracy: 0.7514 - val_loss: 0.8099 - val_accuracy: 0.5404\n",
      "Epoch 13/50\n",
      "160/160 [==============================] - 1s 6ms/step - loss: 0.4970 - accuracy: 0.7560 - val_loss: 0.4384 - val_accuracy: 0.7951\n",
      "Epoch 14/50\n",
      "160/160 [==============================] - 1s 6ms/step - loss: 0.4956 - accuracy: 0.7580 - val_loss: 0.6432 - val_accuracy: 0.6554\n",
      "Epoch 15/50\n",
      "160/160 [==============================] - 1s 7ms/step - loss: 0.5021 - accuracy: 0.7529 - val_loss: 0.4576 - val_accuracy: 0.7869\n",
      "Epoch 16/50\n",
      "160/160 [==============================] - 1s 9ms/step - loss: 0.4951 - accuracy: 0.7599 - val_loss: 0.8630 - val_accuracy: 0.4867\n",
      "Epoch 17/50\n",
      "160/160 [==============================] - 1s 8ms/step - loss: 0.4932 - accuracy: 0.7602 - val_loss: 0.5017 - val_accuracy: 0.7508\n",
      "Epoch 18/50\n",
      "160/160 [==============================] - 1s 7ms/step - loss: 0.4868 - accuracy: 0.7642 - val_loss: 0.6975 - val_accuracy: 0.6272\n",
      "Epoch 19/50\n",
      "160/160 [==============================] - 1s 6ms/step - loss: 0.4810 - accuracy: 0.7673 - val_loss: 0.6219 - val_accuracy: 0.6707\n",
      "Epoch 20/50\n",
      "160/160 [==============================] - 1s 5ms/step - loss: 0.4828 - accuracy: 0.7695 - val_loss: 1.0366 - val_accuracy: 0.4058\n",
      "Epoch 21/50\n",
      "160/160 [==============================] - 1s 6ms/step - loss: 0.4771 - accuracy: 0.7713 - val_loss: 0.6593 - val_accuracy: 0.6480\n",
      "Epoch 22/50\n",
      "160/160 [==============================] - 1s 6ms/step - loss: 0.4700 - accuracy: 0.7757 - val_loss: 0.4039 - val_accuracy: 0.8112\n",
      "Epoch 23/50\n",
      "160/160 [==============================] - 1s 6ms/step - loss: 0.4774 - accuracy: 0.7725 - val_loss: 0.8375 - val_accuracy: 0.5302\n",
      "Epoch 24/50\n",
      "160/160 [==============================] - 1s 6ms/step - loss: 0.4686 - accuracy: 0.7744 - val_loss: 0.5696 - val_accuracy: 0.7096\n",
      "Epoch 25/50\n",
      "160/160 [==============================] - 1s 6ms/step - loss: 0.4649 - accuracy: 0.7769 - val_loss: 0.3941 - val_accuracy: 0.8144\n",
      "Epoch 26/50\n",
      "160/160 [==============================] - 1s 6ms/step - loss: 0.4632 - accuracy: 0.7739 - val_loss: 0.6076 - val_accuracy: 0.6778\n",
      "Epoch 27/50\n",
      "160/160 [==============================] - 1s 5ms/step - loss: 0.4555 - accuracy: 0.7816 - val_loss: 0.5299 - val_accuracy: 0.7339\n",
      "Epoch 28/50\n",
      "160/160 [==============================] - 1s 6ms/step - loss: 0.4550 - accuracy: 0.7809 - val_loss: 0.6075 - val_accuracy: 0.6860\n",
      "Epoch 29/50\n",
      "160/160 [==============================] - 1s 8ms/step - loss: 0.4536 - accuracy: 0.7823 - val_loss: 0.5582 - val_accuracy: 0.7135\n",
      "Epoch 30/50\n",
      "160/160 [==============================] - 1s 8ms/step - loss: 0.4493 - accuracy: 0.7857 - val_loss: 0.5689 - val_accuracy: 0.7080\n",
      "Epoch 31/50\n",
      "160/160 [==============================] - 1s 8ms/step - loss: 0.4493 - accuracy: 0.7831 - val_loss: 0.6624 - val_accuracy: 0.6554\n",
      "Epoch 32/50\n",
      "160/160 [==============================] - 1s 6ms/step - loss: 0.4442 - accuracy: 0.7878 - val_loss: 0.4985 - val_accuracy: 0.7535\n",
      "Epoch 33/50\n",
      "160/160 [==============================] - 1s 6ms/step - loss: 0.4397 - accuracy: 0.7899 - val_loss: 0.6593 - val_accuracy: 0.6589\n",
      "Epoch 34/50\n",
      "160/160 [==============================] - 1s 5ms/step - loss: 0.4359 - accuracy: 0.7951 - val_loss: 0.5166 - val_accuracy: 0.7480\n",
      "Epoch 35/50\n",
      "160/160 [==============================] - 1s 6ms/step - loss: 0.4368 - accuracy: 0.7881 - val_loss: 0.4841 - val_accuracy: 0.7524\n",
      "Epoch 36/50\n",
      "160/160 [==============================] - 1s 6ms/step - loss: 0.4331 - accuracy: 0.7927 - val_loss: 0.5944 - val_accuracy: 0.6801\n",
      "Epoch 37/50\n",
      "160/160 [==============================] - 1s 6ms/step - loss: 0.4305 - accuracy: 0.7942 - val_loss: 0.5734 - val_accuracy: 0.7005\n",
      "Epoch 38/50\n",
      "160/160 [==============================] - 1s 6ms/step - loss: 0.4351 - accuracy: 0.7890 - val_loss: 0.6787 - val_accuracy: 0.6252\n",
      "Epoch 39/50\n",
      "160/160 [==============================] - 1s 6ms/step - loss: 0.4327 - accuracy: 0.7943 - val_loss: 0.5169 - val_accuracy: 0.7394\n",
      "Epoch 40/50\n",
      "160/160 [==============================] - 1s 6ms/step - loss: 0.4284 - accuracy: 0.7983 - val_loss: 0.8594 - val_accuracy: 0.5035\n",
      "Epoch 41/50\n",
      "160/160 [==============================] - 1s 6ms/step - loss: 0.4276 - accuracy: 0.7973 - val_loss: 0.6344 - val_accuracy: 0.6644\n",
      "Epoch 42/50\n",
      "160/160 [==============================] - 1s 6ms/step - loss: 0.4234 - accuracy: 0.7955 - val_loss: 0.4602 - val_accuracy: 0.7755\n",
      "Epoch 43/50\n",
      "160/160 [==============================] - 1s 8ms/step - loss: 0.4228 - accuracy: 0.7992 - val_loss: 0.6581 - val_accuracy: 0.6535\n",
      "Epoch 44/50\n",
      "160/160 [==============================] - 1s 8ms/step - loss: 0.4215 - accuracy: 0.8018 - val_loss: 0.4663 - val_accuracy: 0.7712\n",
      "Epoch 45/50\n",
      "160/160 [==============================] - 1s 8ms/step - loss: 0.4217 - accuracy: 0.7985 - val_loss: 0.6424 - val_accuracy: 0.6719\n",
      "Epoch 46/50\n",
      "160/160 [==============================] - 2s 10ms/step - loss: 0.4177 - accuracy: 0.7995 - val_loss: 0.6061 - val_accuracy: 0.6868\n",
      "Epoch 47/50\n",
      "160/160 [==============================] - 2s 10ms/step - loss: 0.4244 - accuracy: 0.7944 - val_loss: 0.5547 - val_accuracy: 0.7214\n",
      "Epoch 48/50\n",
      "160/160 [==============================] - 2s 10ms/step - loss: 0.4168 - accuracy: 0.8036 - val_loss: 0.5734 - val_accuracy: 0.7049\n",
      "Epoch 49/50\n",
      "160/160 [==============================] - 1s 6ms/step - loss: 0.4146 - accuracy: 0.8055 - val_loss: 0.5098 - val_accuracy: 0.7402\n",
      "Epoch 50/50\n",
      "160/160 [==============================] - 1s 5ms/step - loss: 0.4165 - accuracy: 0.8005 - val_loss: 0.5477 - val_accuracy: 0.7280\n"
     ]
    }
   ],
   "source": [
    "history1s = model1s.fit(X_sm,y_sm,batch_size=64,epochs=50,verbose=1,validation_split = 0.2)"
   ]
  },
  {
   "cell_type": "code",
   "execution_count": 79,
   "metadata": {
    "colab": {
     "base_uri": "https://localhost:8080/"
    },
    "executionInfo": {
     "elapsed": 503,
     "status": "ok",
     "timestamp": 1678012907326,
     "user": {
      "displayName": "Madhuri Gandikota",
      "userId": "06840075266312606278"
     },
     "user_tz": 360
    },
    "id": "EyCsndJgpib6",
    "outputId": "e67b0c01-bc3f-4c24-8e30-dd1eb42495a7"
   },
   "outputs": [
    {
     "name": "stdout",
     "output_type": "stream",
     "text": [
      "63/63 [==============================] - 0s 2ms/step\n"
     ]
    },
    {
     "data": {
      "text/plain": [
       "array([[False],\n",
       "       [False],\n",
       "       [False],\n",
       "       ...,\n",
       "       [ True],\n",
       "       [False],\n",
       "       [False]])"
      ]
     },
     "execution_count": 79,
     "metadata": {},
     "output_type": "execute_result"
    }
   ],
   "source": [
    "y_pred1s=model1s.predict(X_test)\n",
    "y_pred1s = (y_pred1s > 0.5)\n",
    "y_pred1s"
   ]
  },
  {
   "cell_type": "code",
   "execution_count": 80,
   "metadata": {
    "colab": {
     "base_uri": "https://localhost:8080/",
     "height": 282
    },
    "executionInfo": {
     "elapsed": 1604,
     "status": "ok",
     "timestamp": 1678012908926,
     "user": {
      "displayName": "Madhuri Gandikota",
      "userId": "06840075266312606278"
     },
     "user_tz": 360
    },
    "id": "Zw6UZcdNp7C7",
    "outputId": "912f6e40-40cb-443c-a5ed-5e0485fc4983"
   },
   "outputs": [
    {
     "name": "stdout",
     "output_type": "stream",
     "text": [
      "399/399 [==============================] - 1s 3ms/step - loss: 0.4393 - accuracy: 0.7916\n"
     ]
    },
    {
     "data": {
      "image/png": "[encoded data removed]",
      "text/plain": [
       "<Figure size 432x288 with 1 Axes>"
      ]
     },
     "metadata": {
      "needs_background": "light"
     },
     "output_type": "display_data"
    }
   ],
   "source": [
    "# Capturing learning history per epoch\n",
    "hist1s  = pd.DataFrame(history1s.history)\n",
    "hist['epoch'] = history1s.epoch\n",
    "# Plotting accuracy at different epochs\n",
    "plt.plot(history1s.history['loss'])\n",
    "plt.plot(history1s.history['val_loss'])\n",
    "plt.legend((\"train\" , \"valid\") , loc =0)\n",
    "#Printing results\n",
    "results1s = model1s.evaluate(X_sm,y_sm)"
   ]
  },
  {
   "cell_type": "markdown",
   "metadata": {
    "id": "OtIq0ubc06Uk"
   },
   "source": [
    "From the above plot, we observe that there is a lot of noise in the model."
   ]
  },
  {
   "cell_type": "code",
   "execution_count": 81,
   "metadata": {
    "colab": {
     "base_uri": "https://localhost:8080/",
     "height": 265
    },
    "executionInfo": {
     "elapsed": 400,
     "status": "ok",
     "timestamp": 1678012909321,
     "user": {
      "displayName": "Madhuri Gandikota",
      "userId": "06840075266312606278"
     },
     "user_tz": 360
    },
    "id": "ALhQSUJ61LoB",
    "outputId": "e5a8e35d-1b8d-478d-a29d-b4d1b498b944"
   },
   "outputs": [
    {
     "data": {
      "image/png": "[encoded data removed]",
      "text/plain": [
       "<Figure size 432x288 with 2 Axes>"
      ]
     },
     "metadata": {
      "needs_background": "light"
     },
     "output_type": "display_data"
    }
   ],
   "source": [
    "#Calculating the confusion matrix \n",
    "from sklearn.metrics import confusion_matrix\n",
    "cm1s=confusion_matrix(y_test, y_pred1s)\n",
    "labels = ['True Positive','False Negative','False Positive','True Negative']\n",
    "categories = [ 'Not Exited','Exited']\n",
    "make_confusion_matrix(cm1s, \n",
    "                      group_names=labels,\n",
    "                      categories=categories, \n",
    "                      cmap='Blues')"
   ]
  },
  {
   "cell_type": "markdown",
   "metadata": {
    "id": "h2_j2u9BPFm7"
   },
   "source": [
    "Not the best one"
   ]
  },
  {
   "cell_type": "code",
   "execution_count": 82,
   "metadata": {
    "colab": {
     "base_uri": "https://localhost:8080/"
    },
    "executionInfo": {
     "elapsed": 8,
     "status": "ok",
     "timestamp": 1678012909321,
     "user": {
      "displayName": "Madhuri Gandikota",
      "userId": "06840075266312606278"
     },
     "user_tz": 360
    },
    "id": "Aec9sitT1aFf",
    "outputId": "dd232032-950f-4266-9fa4-0e72bc9f61cd"
   },
   "outputs": [
    {
     "name": "stdout",
     "output_type": "stream",
     "text": [
      "              precision    recall  f1-score   support\n",
      "\n",
      "           0       0.88      0.88      0.88      1593\n",
      "           1       0.52      0.52      0.52       407\n",
      "\n",
      "    accuracy                           0.81      2000\n",
      "   macro avg       0.70      0.70      0.70      2000\n",
      "weighted avg       0.81      0.81      0.81      2000\n",
      "\n"
     ]
    }
   ],
   "source": [
    "#Accuracy as per the classification report \n",
    "from sklearn import metrics\n",
    "cr1s=metrics.classification_report(y_test,y_pred1s)\n",
    "print(cr1s)"
   ]
  },
  {
   "cell_type": "markdown",
   "metadata": {
    "id": "faO6Qo3N1d47"
   },
   "source": [
    " So, applying SMOTE A random increase of layers DOES improve the prediction of the Exited, But not all scores are great. I will try to improve other models with 'Dropouts and Batch processing."
   ]
  },
  {
   "cell_type": "markdown",
   "metadata": {
    "id": "5IUm6X-USdxV"
   },
   "source": [
    "# **Early Stopping**"
   ]
  },
  {
   "cell_type": "code",
   "execution_count": 116,
   "metadata": {
    "executionInfo": {
     "elapsed": 133,
     "status": "ok",
     "timestamp": 1678013613679,
     "user": {
      "displayName": "Madhuri Gandikota",
      "userId": "06840075266312606278"
     },
     "user_tz": 360
    },
    "id": "pzBYgs-PSlpM"
   },
   "outputs": [],
   "source": [
    "backend.clear_session()\n",
    "#Fixing the seed for random number generators so that we can ensure we receive the same output everytime\n",
    "np.random.seed(42)\n",
    "import random\n",
    "random.seed(42)\n",
    "tf.random.set_seed(42)"
   ]
  },
  {
   "cell_type": "code",
   "execution_count": 117,
   "metadata": {
    "executionInfo": {
     "elapsed": 209,
     "status": "ok",
     "timestamp": 1678013616266,
     "user": {
      "displayName": "Madhuri Gandikota",
      "userId": "06840075266312606278"
     },
     "user_tz": 360
    },
    "id": "Id6rAMfSbJQH"
   },
   "outputs": [],
   "source": [
    "# Initializing the model\n",
    "model_3 = Sequential()\n",
    "\n",
    "# This adds the input layer (by specifying input dimension) AND the first hidden layer (units)\n",
    "model_3.add(Dense(activation = 'relu', input_dim = 10, units=96)) # \n",
    "# Adding the first hidden layer with 32 neurons, relu as activation function and, he_uniform as weight initializer\n",
    "model_3.add(Dense(32, activation='relu',kernel_initializer='he_uniform'))\n",
    "# Adding the second hidden layer with 32 neurons, relu as activation function and, he_uniform as weight initializer\n",
    "model_3.add(Dense(32, activation='relu',kernel_initializer='he_uniform'))\n",
    "# Adding the output layer with one neuron and linear as activation\n",
    "model_3.add(Dense(1, activation='sigmoid'))"
   ]
  },
  {
   "cell_type": "code",
   "execution_count": 85,
   "metadata": {
    "colab": {
     "base_uri": "https://localhost:8080/"
    },
    "executionInfo": {
     "elapsed": 13,
     "status": "ok",
     "timestamp": 1678012909515,
     "user": {
      "displayName": "Madhuri Gandikota",
      "userId": "06840075266312606278"
     },
     "user_tz": 360
    },
    "id": "RbNvFEOWV0vl",
    "outputId": "83221704-5478-4d05-de09-3614c2cab16d"
   },
   "outputs": [
    {
     "name": "stdout",
     "output_type": "stream",
     "text": [
      "Model: \"sequential\"\n",
      "_________________________________________________________________\n",
      " Layer (type)                Output Shape              Param #   \n",
      "=================================================================\n",
      " dense (Dense)               (None, 96)                1056      \n",
      "                                                                 \n",
      " dense_1 (Dense)             (None, 32)                3104      \n",
      "                                                                 \n",
      " dense_2 (Dense)             (None, 32)                1056      \n",
      "                                                                 \n",
      " dense_3 (Dense)             (None, 1)                 33        \n",
      "                                                                 \n",
      "=================================================================\n",
      "Total params: 5,249\n",
      "Trainable params: 5,249\n",
      "Non-trainable params: 0\n",
      "_________________________________________________________________\n"
     ]
    }
   ],
   "source": [
    "# Model summary\n",
    "model_3.summary()"
   ]
  },
  {
   "cell_type": "code",
   "execution_count": 86,
   "metadata": {
    "executionInfo": {
     "elapsed": 167,
     "status": "ok",
     "timestamp": 1678012909678,
     "user": {
      "displayName": "Madhuri Gandikota",
      "userId": "06840075266312606278"
     },
     "user_tz": 360
    },
    "id": "2s6Mph7OuWRS"
   },
   "outputs": [],
   "source": [
    "optimizer=Adam(learning_rate=0.001)"
   ]
  },
  {
   "cell_type": "code",
   "execution_count": 87,
   "metadata": {
    "executionInfo": {
     "elapsed": 8,
     "status": "ok",
     "timestamp": 1678012909679,
     "user": {
      "displayName": "Madhuri Gandikota",
      "userId": "06840075266312606278"
     },
     "user_tz": 360
    },
    "id": "eEmKiKXAtwob"
   },
   "outputs": [],
   "source": [
    "# Compile model\n",
    "model_3.compile(loss='binary_crossentropy', optimizer=Adam(learning_rate=0.001), metrics=['accuracy'])"
   ]
  },
  {
   "cell_type": "markdown",
   "metadata": {
    "id": "wATT9OdfcNoY"
   },
   "source": [
    "history = model.fit(X_train, y_train,epochs=EPOCHS, validation_split = 0.2, verbose=1)"
   ]
  },
  {
   "cell_type": "code",
   "execution_count": 88,
   "metadata": {
    "colab": {
     "base_uri": "https://localhost:8080/"
    },
    "executionInfo": {
     "elapsed": 7996,
     "status": "ok",
     "timestamp": 1678012917668,
     "user": {
      "displayName": "Madhuri Gandikota",
      "userId": "06840075266312606278"
     },
     "user_tz": 360
    },
    "id": "OlL92UaMV7YH",
    "outputId": "342ff75d-9e4e-4127-8375-cee67615c83c"
   },
   "outputs": [
    {
     "name": "stdout",
     "output_type": "stream",
     "text": [
      "Epoch 1/50\n",
      "200/200 [==============================] - 3s 6ms/step - loss: 0.5703 - accuracy: 0.7847 - val_loss: 0.4877 - val_accuracy: 0.8000\n",
      "Epoch 2/50\n",
      "200/200 [==============================] - 1s 4ms/step - loss: 0.4744 - accuracy: 0.7973 - val_loss: 0.4542 - val_accuracy: 0.8081\n",
      "Epoch 3/50\n",
      "200/200 [==============================] - 1s 4ms/step - loss: 0.4634 - accuracy: 0.7964 - val_loss: 0.4561 - val_accuracy: 0.8081\n",
      "Epoch 4/50\n",
      "200/200 [==============================] - 1s 4ms/step - loss: 0.4620 - accuracy: 0.8016 - val_loss: 0.4793 - val_accuracy: 0.8000\n",
      "Epoch 5/50\n",
      "200/200 [==============================] - 1s 4ms/step - loss: 0.4547 - accuracy: 0.8028 - val_loss: 0.4512 - val_accuracy: 0.8175\n",
      "Epoch 6/50\n",
      "200/200 [==============================] - 1s 4ms/step - loss: 0.4498 - accuracy: 0.8027 - val_loss: 0.4480 - val_accuracy: 0.8175\n",
      "Epoch 7/50\n",
      "200/200 [==============================] - 1s 4ms/step - loss: 0.4496 - accuracy: 0.8041 - val_loss: 0.4479 - val_accuracy: 0.8131\n"
     ]
    }
   ],
   "source": [
    "# Defining Early stopping\n",
    "es_cb = callbacks.EarlyStopping(monitor='val_loss', min_delta=0.01, patience=5)\n",
    "# Fitting the model on train and validation with 50 epochs\n",
    "history_3 = model_3.fit(X_train, y_train,  validation_split=0.2, epochs=50,callbacks=es_cb)"
   ]
  },
  {
   "cell_type": "code",
   "execution_count": 89,
   "metadata": {
    "colab": {
     "base_uri": "https://localhost:8080/"
    },
    "executionInfo": {
     "elapsed": 4391,
     "status": "ok",
     "timestamp": 1678012922046,
     "user": {
      "displayName": "Madhuri Gandikota",
      "userId": "06840075266312606278"
     },
     "user_tz": 360
    },
    "id": "FYOJu8g_so2A",
    "outputId": "742ff56f-f5b8-47bb-c9bd-5f915cb95ddc"
   },
   "outputs": [
    {
     "name": "stdout",
     "output_type": "stream",
     "text": [
      "63/63 [==============================] - 0s 2ms/step\n"
     ]
    },
    {
     "data": {
      "text/plain": [
       "array([[False],\n",
       "       [False],\n",
       "       [False],\n",
       "       ...,\n",
       "       [False],\n",
       "       [False],\n",
       "       [False]])"
      ]
     },
     "execution_count": 89,
     "metadata": {},
     "output_type": "execute_result"
    }
   ],
   "source": [
    "y_pred_3=model_3.predict(X_test)\n",
    "y_pred_3 = (y_pred_3 > 0.5)\n",
    "y_pred_3"
   ]
  },
  {
   "cell_type": "markdown",
   "metadata": {
    "id": "n_hNusBYc1uR"
   },
   "source": [
    "7 Epochs ! for early stopping\n"
   ]
  },
  {
   "cell_type": "code",
   "execution_count": 90,
   "metadata": {
    "colab": {
     "base_uri": "https://localhost:8080/",
     "height": 281
    },
    "executionInfo": {
     "elapsed": 500,
     "status": "ok",
     "timestamp": 1678012922542,
     "user": {
      "displayName": "Madhuri Gandikota",
      "userId": "06840075266312606278"
     },
     "user_tz": 360
    },
    "id": "T08IRRfXc6qb",
    "outputId": "42a7deb4-b001-49c6-ca99-65d85479e56e"
   },
   "outputs": [
    {
     "data": {
      "image/png": "[encoded data removed]",
      "text/plain": [
       "<Figure size 432x288 with 1 Axes>"
      ]
     },
     "metadata": {
      "needs_background": "light"
     },
     "output_type": "display_data"
    }
   ],
   "source": [
    "pyplot.title('Loss / accuracy')\n",
    "pyplot.plot(history_3.history['loss'], label='train')\n",
    "pyplot.plot(history_3.history['val_loss'], label='validate')\n",
    "pyplot.legend()\n",
    "pyplot.show()"
   ]
  },
  {
   "cell_type": "code",
   "execution_count": 91,
   "metadata": {
    "colab": {
     "base_uri": "https://localhost:8080/",
     "height": 265
    },
    "executionInfo": {
     "elapsed": 70,
     "status": "ok",
     "timestamp": 1678012922543,
     "user": {
      "displayName": "Madhuri Gandikota",
      "userId": "06840075266312606278"
     },
     "user_tz": 360
    },
    "id": "HcnGlOBod5KC",
    "outputId": "b23149de-6cf0-4868-c508-6c5dbad948d4"
   },
   "outputs": [
    {
     "data": {
      "image/png": "[encoded data removed]",
      "text/plain": [
       "<Figure size 432x288 with 2 Axes>"
      ]
     },
     "metadata": {
      "needs_background": "light"
     },
     "output_type": "display_data"
    }
   ],
   "source": [
    "#Calculating the confusion matrix \n",
    "from sklearn.metrics import confusion_matrix\n",
    "cm_3=confusion_matrix(y_test, y_pred_3)\n",
    "labels = ['True Positive','False Negative','False Positive','True Negative']\n",
    "categories = [ 'Exited','Not Exited']\n",
    "make_confusion_matrix(cm, \n",
    "                      group_names=labels,\n",
    "                      categories=categories, \n",
    "                      cmap='Blues')"
   ]
  },
  {
   "cell_type": "markdown",
   "metadata": {
    "id": "wK57ZFifedSH"
   },
   "source": [
    "Here false Negatives have decreased. F1 score improved and Accuracy imporved.\n"
   ]
  },
  {
   "cell_type": "code",
   "execution_count": 92,
   "metadata": {
    "colab": {
     "base_uri": "https://localhost:8080/"
    },
    "executionInfo": {
     "elapsed": 68,
     "status": "ok",
     "timestamp": 1678012922544,
     "user": {
      "displayName": "Madhuri Gandikota",
      "userId": "06840075266312606278"
     },
     "user_tz": 360
    },
    "id": "PFxJtIoPeORV",
    "outputId": "2bec738e-4f7e-4294-c15a-9a9993218d8c"
   },
   "outputs": [
    {
     "name": "stdout",
     "output_type": "stream",
     "text": [
      "              precision    recall  f1-score   support\n",
      "\n",
      "           0       0.81      1.00      0.89      1593\n",
      "           1       0.88      0.06      0.11       407\n",
      "\n",
      "    accuracy                           0.81      2000\n",
      "   macro avg       0.85      0.53      0.50      2000\n",
      "weighted avg       0.82      0.81      0.73      2000\n",
      "\n"
     ]
    }
   ],
   "source": [
    "#Accuracy as per the classification report \n",
    "from sklearn import metrics\n",
    "cr_3=metrics.classification_report(y_test,y_pred_3)\n",
    "print(cr_3)"
   ]
  },
  {
   "cell_type": "markdown",
   "metadata": {
    "id": "5sSjY-_rexYf"
   },
   "source": [
    "F1 score improved and Accuracy imporved. Recall increaaed\n",
    "More importantly the exited (1) category improved from 88%. After Early stopping."
   ]
  },
  {
   "cell_type": "markdown",
   "metadata": {
    "id": "lgNFYHl9hh5x"
   },
   "source": [
    "# **Batch Normalisation**"
   ]
  },
  {
   "cell_type": "code",
   "execution_count": 93,
   "metadata": {
    "executionInfo": {
     "elapsed": 51,
     "status": "ok",
     "timestamp": 1678012922545,
     "user": {
      "displayName": "Madhuri Gandikota",
      "userId": "06840075266312606278"
     },
     "user_tz": 360
    },
    "id": "ccntQkrKhhAi"
   },
   "outputs": [],
   "source": [
    "backend.clear_session()\n",
    "#Fixing the seed for random number generators so that we can ensure we receive the same output everytime\n",
    "np.random.seed(42)\n",
    "import random\n",
    "random.seed(42)\n",
    "tf.random.set_seed(42)"
   ]
  },
  {
   "cell_type": "code",
   "execution_count": 94,
   "metadata": {
    "executionInfo": {
     "elapsed": 49,
     "status": "ok",
     "timestamp": 1678012922545,
     "user": {
      "displayName": "Madhuri Gandikota",
      "userId": "06840075266312606278"
     },
     "user_tz": 360
    },
    "id": "gThIs-gKhrxo"
   },
   "outputs": [],
   "source": [
    "# Initializing the model\n",
    "model_4 = Sequential()\n",
    "# Adding input layer with 64 neurons, relu as activation function and, he_uniform as weight initializer.\n",
    "model_4.add(Dense(64, activation='relu',kernel_initializer='he_uniform', input_shape=(10,)))\n",
    "# Adding Batch Normalization\n",
    "model_4.add(BatchNormalization())\n",
    "# Adding the first hidden layer with 32 neurons, relu as activation function and, he_uniform as weight initializer\n",
    "model_4.add(Dense(32, activation='relu',kernel_initializer='he_uniform'))\n",
    "# Adding Batch Normalization\n",
    "model_4.add(BatchNormalization())\n",
    "# Adding the second hidden layer with 32 neurons, relu as activation function and, he_uniform as weight initializer\n",
    "# Adding Batch Normalization\n",
    "model_4.add(BatchNormalization())\n",
    "model_4.add(Dense(32, activation='relu',kernel_initializer='he_uniform'))\n",
    "# Adding the output layer with one neuron and linear as activation\n",
    "model_4.add(Dense(1, activation='linear'))"
   ]
  },
  {
   "cell_type": "code",
   "execution_count": 95,
   "metadata": {
    "colab": {
     "base_uri": "https://localhost:8080/"
    },
    "executionInfo": {
     "elapsed": 49,
     "status": "ok",
     "timestamp": 1678012922546,
     "user": {
      "displayName": "Madhuri Gandikota",
      "userId": "06840075266312606278"
     },
     "user_tz": 360
    },
    "id": "2kcd4dARh7fa",
    "outputId": "d1a2b761-a3ec-4231-cf91-b061fd3b534d"
   },
   "outputs": [
    {
     "name": "stdout",
     "output_type": "stream",
     "text": [
      "Model: \"sequential\"\n",
      "_________________________________________________________________\n",
      " Layer (type)                Output Shape              Param #   \n",
      "=================================================================\n",
      " dense (Dense)               (None, 64)                704       \n",
      "                                                                 \n",
      " batch_normalization (BatchN  (None, 64)               256       \n",
      " ormalization)                                                   \n",
      "                                                                 \n",
      " dense_1 (Dense)             (None, 32)                2080      \n",
      "                                                                 \n",
      " batch_normalization_1 (Batc  (None, 32)               128       \n",
      " hNormalization)                                                 \n",
      "                                                                 \n",
      " batch_normalization_2 (Batc  (None, 32)               128       \n",
      " hNormalization)                                                 \n",
      "                                                                 \n",
      " dense_2 (Dense)             (None, 32)                1056      \n",
      "                                                                 \n",
      " dense_3 (Dense)             (None, 1)                 33        \n",
      "                                                                 \n",
      "=================================================================\n",
      "Total params: 4,385\n",
      "Trainable params: 4,129\n",
      "Non-trainable params: 256\n",
      "_________________________________________________________________\n"
     ]
    }
   ],
   "source": [
    "# Model summary\n",
    "model_4.summary()"
   ]
  },
  {
   "cell_type": "code",
   "execution_count": 96,
   "metadata": {
    "colab": {
     "base_uri": "https://localhost:8080/"
    },
    "executionInfo": {
     "elapsed": 23700,
     "status": "ok",
     "timestamp": 1678012946217,
     "user": {
      "displayName": "Madhuri Gandikota",
      "userId": "06840075266312606278"
     },
     "user_tz": 360
    },
    "id": "mjvXOgA2iFTC",
    "outputId": "793c6988-f6e2-43b9-f425-260094451e13"
   },
   "outputs": [
    {
     "name": "stdout",
     "output_type": "stream",
     "text": [
      "Epoch 1/50\n",
      "200/200 [==============================] - 6s 9ms/step - loss: 2.6473 - accuracy: 0.6941 - val_loss: 2.6122 - val_accuracy: 0.7075\n",
      "Epoch 2/50\n",
      "200/200 [==============================] - 1s 5ms/step - loss: 2.0875 - accuracy: 0.7655 - val_loss: 1.8332 - val_accuracy: 0.7625\n",
      "Epoch 3/50\n",
      "200/200 [==============================] - 1s 5ms/step - loss: 1.4636 - accuracy: 0.7650 - val_loss: 1.2793 - val_accuracy: 0.7331\n",
      "Epoch 4/50\n",
      "200/200 [==============================] - 1s 5ms/step - loss: 2.3495 - accuracy: 0.6741 - val_loss: 2.8068 - val_accuracy: 0.7294\n",
      "Epoch 5/50\n",
      "200/200 [==============================] - 1s 5ms/step - loss: 2.4132 - accuracy: 0.7570 - val_loss: 2.1234 - val_accuracy: 0.7700\n",
      "Epoch 6/50\n",
      "200/200 [==============================] - 1s 5ms/step - loss: 1.8004 - accuracy: 0.7425 - val_loss: 1.3752 - val_accuracy: 0.7344\n",
      "Epoch 7/50\n",
      "200/200 [==============================] - 1s 5ms/step - loss: 1.4349 - accuracy: 0.6861 - val_loss: 1.1914 - val_accuracy: 0.7244\n",
      "Epoch 8/50\n",
      "200/200 [==============================] - 1s 5ms/step - loss: 1.0944 - accuracy: 0.7502 - val_loss: 1.0477 - val_accuracy: 0.7563\n",
      "Epoch 9/50\n",
      "200/200 [==============================] - 1s 5ms/step - loss: 0.9498 - accuracy: 0.7538 - val_loss: 1.2490 - val_accuracy: 0.7462\n",
      "Epoch 10/50\n",
      "200/200 [==============================] - 1s 6ms/step - loss: 0.9990 - accuracy: 0.7503 - val_loss: 0.8415 - val_accuracy: 0.7794\n",
      "Epoch 11/50\n",
      "200/200 [==============================] - 2s 8ms/step - loss: 0.7755 - accuracy: 0.7598 - val_loss: 0.8105 - val_accuracy: 0.7769\n",
      "Epoch 12/50\n",
      "200/200 [==============================] - 1s 7ms/step - loss: 0.8708 - accuracy: 0.7583 - val_loss: 0.7952 - val_accuracy: 0.7881\n",
      "Epoch 13/50\n",
      "200/200 [==============================] - 1s 5ms/step - loss: 0.8293 - accuracy: 0.7375 - val_loss: 0.7819 - val_accuracy: 0.7925\n",
      "Epoch 14/50\n",
      "200/200 [==============================] - 1s 5ms/step - loss: 0.7481 - accuracy: 0.7733 - val_loss: 0.7831 - val_accuracy: 0.7912\n",
      "Epoch 15/50\n",
      "200/200 [==============================] - 1s 5ms/step - loss: 0.7531 - accuracy: 0.7855 - val_loss: 0.7811 - val_accuracy: 0.7944\n",
      "Epoch 16/50\n",
      "200/200 [==============================] - 1s 5ms/step - loss: 0.7972 - accuracy: 0.7581 - val_loss: 1.0911 - val_accuracy: 0.6294\n",
      "Epoch 17/50\n",
      "200/200 [==============================] - 1s 5ms/step - loss: 0.9769 - accuracy: 0.7855 - val_loss: 0.9247 - val_accuracy: 0.7975\n",
      "Epoch 18/50\n",
      "200/200 [==============================] - 1s 5ms/step - loss: 0.9531 - accuracy: 0.7894 - val_loss: 1.0343 - val_accuracy: 0.8144\n"
     ]
    }
   ],
   "source": [
    "# Initializing the Optimizer\n",
    "optimizer = Adam(0.001)\n",
    "# Compiling the model with 'accuracy' as loss function and metrics\n",
    "model_4.compile(loss='binary_crossentropy',\n",
    "              optimizer=optimizer,\n",
    "              metrics=['accuracy'])\n",
    "\n",
    "# Defining Early stopping\n",
    "es_cb = callbacks.EarlyStopping(monitor='val_loss', min_delta=0.001, patience=5)\n",
    "# Fitting the model on train and validation with 50 epochs\n",
    "history_4 = model_4.fit(X_train, y_train,  validation_split=0.2, epochs=50,callbacks=es_cb)"
   ]
  },
  {
   "cell_type": "code",
   "execution_count": 97,
   "metadata": {
    "colab": {
     "base_uri": "https://localhost:8080/"
    },
    "executionInfo": {
     "elapsed": 19599,
     "status": "ok",
     "timestamp": 1678012965799,
     "user": {
      "displayName": "Madhuri Gandikota",
      "userId": "06840075266312606278"
     },
     "user_tz": 360
    },
    "id": "SpWJ0lyyxYS7",
    "outputId": "fa2d72f3-7c15-49cf-ade4-2afc2403d806"
   },
   "outputs": [
    {
     "name": "stdout",
     "output_type": "stream",
     "text": [
      "63/63 [==============================] - 0s 2ms/step\n"
     ]
    },
    {
     "data": {
      "text/plain": [
       "array([[False],\n",
       "       [False],\n",
       "       [False],\n",
       "       ...,\n",
       "       [False],\n",
       "       [False],\n",
       "       [False]])"
      ]
     },
     "execution_count": 97,
     "metadata": {},
     "output_type": "execute_result"
    }
   ],
   "source": [
    "y_pred_4=model_4.predict(X_test)\n",
    "y_pred_4 = (y_pred_4 > 0.5)\n",
    "y_pred_4"
   ]
  },
  {
   "cell_type": "code",
   "execution_count": 97,
   "metadata": {
    "executionInfo": {
     "elapsed": 7,
     "status": "ok",
     "timestamp": 1678012965799,
     "user": {
      "displayName": "Madhuri Gandikota",
      "userId": "06840075266312606278"
     },
     "user_tz": 360
    },
    "id": "NUlBruw-4Rt8"
   },
   "outputs": [],
   "source": []
  },
  {
   "cell_type": "code",
   "execution_count": 98,
   "metadata": {
    "colab": {
     "base_uri": "https://localhost:8080/",
     "height": 281
    },
    "executionInfo": {
     "elapsed": 160,
     "status": "ok",
     "timestamp": 1678012965955,
     "user": {
      "displayName": "Madhuri Gandikota",
      "userId": "06840075266312606278"
     },
     "user_tz": 360
    },
    "id": "VsgmB5HNx2cu",
    "outputId": "a485c117-2ef0-4aa2-84af-bb64349fae30"
   },
   "outputs": [
    {
     "data": {
      "image/png": "[encoded data removed]",
      "text/plain": [
       "<Figure size 432x288 with 1 Axes>"
      ]
     },
     "metadata": {
      "needs_background": "light"
     },
     "output_type": "display_data"
    }
   ],
   "source": [
    "pyplot.title('Loss / accuracy')\n",
    "pyplot.plot(history_4.history['loss'], label='train')\n",
    "pyplot.plot(history_4.history['val_loss'], label='validate')\n",
    "pyplot.legend()\n",
    "pyplot.show()"
   ]
  },
  {
   "cell_type": "markdown",
   "metadata": {
    "id": "XsnWf3qHi82X"
   },
   "source": [
    "Loss decreses on both the train and val and then increases. Not a good model"
   ]
  },
  {
   "cell_type": "code",
   "execution_count": 99,
   "metadata": {
    "colab": {
     "base_uri": "https://localhost:8080/"
    },
    "executionInfo": {
     "elapsed": 27,
     "status": "ok",
     "timestamp": 1678012965956,
     "user": {
      "displayName": "Madhuri Gandikota",
      "userId": "06840075266312606278"
     },
     "user_tz": 360
    },
    "id": "Bhd6tbt54TLp",
    "outputId": "eb1d62d9-4246-46cb-ada0-117107ba6d4a"
   },
   "outputs": [
    {
     "name": "stdout",
     "output_type": "stream",
     "text": [
      "              precision    recall  f1-score   support\n",
      "\n",
      "           0       0.83      0.95      0.89      1593\n",
      "           1       0.54      0.24      0.33       407\n",
      "\n",
      "    accuracy                           0.80      2000\n",
      "   macro avg       0.69      0.59      0.61      2000\n",
      "weighted avg       0.77      0.80      0.77      2000\n",
      "\n"
     ]
    }
   ],
   "source": [
    "#Accuracy as per the classification report \n",
    "from sklearn import metrics\n",
    "cr_4=metrics.classification_report(y_test,y_pred_4)\n",
    "print(cr_4)"
   ]
  },
  {
   "cell_type": "markdown",
   "metadata": {
    "id": "VsAGL4PO9wsT"
   },
   "source": [
    "Loss decreses on both the train and val. Batch Normalisation is a not a good idea in this case."
   ]
  },
  {
   "cell_type": "markdown",
   "metadata": {
    "id": "wPSD18EnfKky"
   },
   "source": [
    "# **Adding Dropout**"
   ]
  },
  {
   "cell_type": "code",
   "execution_count": 100,
   "metadata": {
    "executionInfo": {
     "elapsed": 10,
     "status": "ok",
     "timestamp": 1678012965957,
     "user": {
      "displayName": "Madhuri Gandikota",
      "userId": "06840075266312606278"
     },
     "user_tz": 360
    },
    "id": "wASCUDj2hhQh"
   },
   "outputs": [],
   "source": [
    "# importing different functions to build models\n",
    "from tensorflow.keras.layers import Dense, Dropout,InputLayer\n",
    "from tensorflow.keras.models import Sequential\n",
    "# Importing Batch Normalization\n",
    "from keras.layers import BatchNormalization\n",
    "# Importing backend\n",
    "from tensorflow.keras import backend\n",
    "# Importing shffule \n",
    "from random import shuffle\n",
    "from keras.callbacks import ModelCheckpoint"
   ]
  },
  {
   "cell_type": "code",
   "execution_count": 101,
   "metadata": {
    "executionInfo": {
     "elapsed": 9,
     "status": "ok",
     "timestamp": 1678012965958,
     "user": {
      "displayName": "Madhuri Gandikota",
      "userId": "06840075266312606278"
     },
     "user_tz": 360
    },
    "id": "sjvugX1tfhjU"
   },
   "outputs": [],
   "source": [
    "backend.clear_session()\n",
    "#Fixing the seed for random number generators so that we can ensure we receive the same output everytime\n",
    "np.random.seed(42)\n",
    "import random\n",
    "random.seed(42)\n",
    "tf.random.set_seed(42)"
   ]
  },
  {
   "cell_type": "code",
   "execution_count": 102,
   "metadata": {
    "executionInfo": {
     "elapsed": 153,
     "status": "ok",
     "timestamp": 1678012966103,
     "user": {
      "displayName": "Madhuri Gandikota",
      "userId": "06840075266312606278"
     },
     "user_tz": 360
    },
    "id": "D40C3cQkPcLE"
   },
   "outputs": [],
   "source": [
    "# Initializing the model\n",
    "model_5 = Sequential()\n",
    "# Adding input layer with 64 neurons, relu as activation function and, he_uniform as weight initializer.\n",
    "model_5.add(Dense(64, activation='relu',kernel_initializer='he_uniform', input_shape=(10,)))\n",
    "# Adding dropout with ratio of 0.2\n",
    "model_5.add(Dropout(0.2))\n",
    "# Adding the first hidden layer with 32 neurons, relu as activation function and, he_uniform as weight initializer\n",
    "model_5.add(Dense(32, activation='relu',kernel_initializer='he_uniform'))\n",
    "# Adding dropout with ratio of 0.1\n",
    "model_5.add(Dropout(0.1))\n",
    "# Adding the second hidden layer with 16 neurons, relu as activation function and, he_uniform as weight initializer\n",
    "model_5.add(Dense(16, activation='relu',kernel_initializer='he_uniform'))\n",
    "# Adding the third hidden layer with 8 neurons, relu as activation function and, he_uniform as weight initializer\n",
    "model_5.add(Dense(8, activation='relu',kernel_initializer='he_uniform'))\n",
    "# Adding the output layer with one neuron and linear as activation\n",
    "model_5.add(Dense(1, activation='sigmoid'))"
   ]
  },
  {
   "cell_type": "code",
   "execution_count": 103,
   "metadata": {
    "colab": {
     "base_uri": "https://localhost:8080/"
    },
    "executionInfo": {
     "elapsed": 12,
     "status": "ok",
     "timestamp": 1678012966104,
     "user": {
      "displayName": "Madhuri Gandikota",
      "userId": "06840075266312606278"
     },
     "user_tz": 360
    },
    "id": "X-aTAorOcQeW",
    "outputId": "108275cc-9fcc-4a17-c1a7-ac6e5e8e430c"
   },
   "outputs": [
    {
     "name": "stdout",
     "output_type": "stream",
     "text": [
      "Model: \"sequential\"\n",
      "_________________________________________________________________\n",
      " Layer (type)                Output Shape              Param #   \n",
      "=================================================================\n",
      " dense (Dense)               (None, 64)                704       \n",
      "                                                                 \n",
      " dropout (Dropout)           (None, 64)                0         \n",
      "                                                                 \n",
      " dense_1 (Dense)             (None, 32)                2080      \n",
      "                                                                 \n",
      " dropout_1 (Dropout)         (None, 32)                0         \n",
      "                                                                 \n",
      " dense_2 (Dense)             (None, 16)                528       \n",
      "                                                                 \n",
      " dense_3 (Dense)             (None, 8)                 136       \n",
      "                                                                 \n",
      " dense_4 (Dense)             (None, 1)                 9         \n",
      "                                                                 \n",
      "=================================================================\n",
      "Total params: 3,457\n",
      "Trainable params: 3,457\n",
      "Non-trainable params: 0\n",
      "_________________________________________________________________\n"
     ]
    }
   ],
   "source": [
    "# Model summary\n",
    "model_5.summary()"
   ]
  },
  {
   "cell_type": "code",
   "execution_count": 104,
   "metadata": {
    "colab": {
     "base_uri": "https://localhost:8080/"
    },
    "executionInfo": {
     "elapsed": 36050,
     "status": "ok",
     "timestamp": 1678013002150,
     "user": {
      "displayName": "Madhuri Gandikota",
      "userId": "06840075266312606278"
     },
     "user_tz": 360
    },
    "id": "A_sw1wgSnJv6",
    "outputId": "923d8dd8-5dad-478a-b12f-5193574a313d"
   },
   "outputs": [
    {
     "name": "stdout",
     "output_type": "stream",
     "text": [
      "Epoch 1/50\n",
      "200/200 [==============================] - 3s 5ms/step - loss: 1.0248 - accuracy: 0.6853 - val_loss: 0.5906 - val_accuracy: 0.7825\n",
      "Epoch 2/50\n",
      "200/200 [==============================] - 1s 4ms/step - loss: 0.6086 - accuracy: 0.7730 - val_loss: 0.5459 - val_accuracy: 0.8000\n",
      "Epoch 3/50\n",
      "200/200 [==============================] - 1s 4ms/step - loss: 0.5521 - accuracy: 0.7919 - val_loss: 0.5250 - val_accuracy: 0.8000\n",
      "Epoch 4/50\n",
      "200/200 [==============================] - 1s 4ms/step - loss: 0.5380 - accuracy: 0.7937 - val_loss: 0.5169 - val_accuracy: 0.8000\n",
      "Epoch 5/50\n",
      "200/200 [==============================] - 1s 4ms/step - loss: 0.5236 - accuracy: 0.7948 - val_loss: 0.5007 - val_accuracy: 0.8000\n",
      "Epoch 6/50\n",
      "200/200 [==============================] - 1s 4ms/step - loss: 0.5151 - accuracy: 0.7953 - val_loss: 0.4917 - val_accuracy: 0.8000\n",
      "Epoch 7/50\n",
      "200/200 [==============================] - 1s 4ms/step - loss: 0.5085 - accuracy: 0.7947 - val_loss: 0.4894 - val_accuracy: 0.8000\n",
      "Epoch 8/50\n",
      "200/200 [==============================] - 1s 6ms/step - loss: 0.5012 - accuracy: 0.7962 - val_loss: 0.4779 - val_accuracy: 0.8000\n",
      "Epoch 9/50\n",
      "200/200 [==============================] - 1s 6ms/step - loss: 0.4925 - accuracy: 0.7956 - val_loss: 0.4860 - val_accuracy: 0.7956\n",
      "Epoch 10/50\n",
      "200/200 [==============================] - 1s 6ms/step - loss: 0.4912 - accuracy: 0.7934 - val_loss: 0.4705 - val_accuracy: 0.8000\n",
      "Epoch 11/50\n",
      "200/200 [==============================] - 1s 5ms/step - loss: 0.4809 - accuracy: 0.7953 - val_loss: 0.4688 - val_accuracy: 0.8000\n",
      "Epoch 12/50\n",
      "200/200 [==============================] - 1s 4ms/step - loss: 0.4746 - accuracy: 0.7950 - val_loss: 0.4644 - val_accuracy: 0.8000\n",
      "Epoch 13/50\n",
      "200/200 [==============================] - 1s 4ms/step - loss: 0.4776 - accuracy: 0.7944 - val_loss: 0.4632 - val_accuracy: 0.7969\n",
      "Epoch 14/50\n",
      "200/200 [==============================] - 1s 4ms/step - loss: 0.4725 - accuracy: 0.7944 - val_loss: 0.4561 - val_accuracy: 0.7944\n",
      "Epoch 15/50\n",
      "200/200 [==============================] - 1s 4ms/step - loss: 0.4694 - accuracy: 0.7927 - val_loss: 0.4560 - val_accuracy: 0.7912\n",
      "Epoch 16/50\n",
      "200/200 [==============================] - 1s 4ms/step - loss: 0.4716 - accuracy: 0.7931 - val_loss: 0.4565 - val_accuracy: 0.7912\n",
      "Epoch 17/50\n",
      "200/200 [==============================] - 1s 4ms/step - loss: 0.4676 - accuracy: 0.7953 - val_loss: 0.4544 - val_accuracy: 0.7969\n",
      "Epoch 18/50\n",
      "200/200 [==============================] - 1s 4ms/step - loss: 0.4630 - accuracy: 0.7919 - val_loss: 0.4585 - val_accuracy: 0.8000\n",
      "Epoch 19/50\n",
      "200/200 [==============================] - 1s 4ms/step - loss: 0.4597 - accuracy: 0.7916 - val_loss: 0.4531 - val_accuracy: 0.7975\n",
      "Epoch 20/50\n",
      "200/200 [==============================] - 1s 4ms/step - loss: 0.4589 - accuracy: 0.7937 - val_loss: 0.4538 - val_accuracy: 0.7994\n",
      "Epoch 21/50\n",
      "200/200 [==============================] - 1s 4ms/step - loss: 0.4599 - accuracy: 0.7948 - val_loss: 0.4512 - val_accuracy: 0.7944\n",
      "Epoch 22/50\n",
      "200/200 [==============================] - 1s 4ms/step - loss: 0.4575 - accuracy: 0.7958 - val_loss: 0.4547 - val_accuracy: 0.8000\n",
      "Epoch 23/50\n",
      "200/200 [==============================] - 1s 5ms/step - loss: 0.4536 - accuracy: 0.7994 - val_loss: 0.4575 - val_accuracy: 0.7987\n",
      "Epoch 24/50\n",
      "200/200 [==============================] - 1s 6ms/step - loss: 0.4542 - accuracy: 0.7984 - val_loss: 0.4501 - val_accuracy: 0.7956\n",
      "Epoch 25/50\n",
      "200/200 [==============================] - 1s 6ms/step - loss: 0.4545 - accuracy: 0.7961 - val_loss: 0.4493 - val_accuracy: 0.7931\n",
      "Epoch 26/50\n",
      "200/200 [==============================] - 1s 6ms/step - loss: 0.4527 - accuracy: 0.7983 - val_loss: 0.4536 - val_accuracy: 0.7975\n",
      "Epoch 27/50\n",
      "200/200 [==============================] - 1s 4ms/step - loss: 0.4531 - accuracy: 0.7981 - val_loss: 0.4491 - val_accuracy: 0.7944\n",
      "Epoch 28/50\n",
      "200/200 [==============================] - 1s 4ms/step - loss: 0.4515 - accuracy: 0.7945 - val_loss: 0.4486 - val_accuracy: 0.7969\n",
      "Epoch 29/50\n",
      "200/200 [==============================] - 1s 4ms/step - loss: 0.4490 - accuracy: 0.8025 - val_loss: 0.4563 - val_accuracy: 0.7987\n",
      "Epoch 30/50\n",
      "200/200 [==============================] - 1s 4ms/step - loss: 0.4494 - accuracy: 0.7997 - val_loss: 0.4479 - val_accuracy: 0.7975\n",
      "Epoch 31/50\n",
      "200/200 [==============================] - 1s 4ms/step - loss: 0.4483 - accuracy: 0.7994 - val_loss: 0.4462 - val_accuracy: 0.7994\n",
      "Epoch 32/50\n",
      "200/200 [==============================] - 1s 4ms/step - loss: 0.4489 - accuracy: 0.7972 - val_loss: 0.4444 - val_accuracy: 0.8006\n",
      "Epoch 33/50\n",
      "200/200 [==============================] - 1s 4ms/step - loss: 0.4445 - accuracy: 0.8052 - val_loss: 0.4437 - val_accuracy: 0.8006\n",
      "Epoch 34/50\n",
      "200/200 [==============================] - 1s 4ms/step - loss: 0.4434 - accuracy: 0.7998 - val_loss: 0.4448 - val_accuracy: 0.8031\n",
      "Epoch 35/50\n",
      "200/200 [==============================] - 1s 4ms/step - loss: 0.4464 - accuracy: 0.8017 - val_loss: 0.4438 - val_accuracy: 0.8006\n",
      "Epoch 36/50\n",
      "200/200 [==============================] - 1s 4ms/step - loss: 0.4435 - accuracy: 0.8042 - val_loss: 0.4455 - val_accuracy: 0.8037\n",
      "Epoch 37/50\n",
      "200/200 [==============================] - 1s 4ms/step - loss: 0.4438 - accuracy: 0.8048 - val_loss: 0.4442 - val_accuracy: 0.8031\n"
     ]
    }
   ],
   "source": [
    "# Initializing the Optimizer\n",
    "optimizer = Adam(0.001)\n",
    "# Compiling the model with 'accuracy' as loss function and metrics\n",
    "model_5.compile(loss='binary_crossentropy',\n",
    "              optimizer=optimizer,\n",
    "              metrics=['accuracy'])\n",
    "\n",
    "# Defining Early stopping\n",
    "es_cb = callbacks.EarlyStopping(monitor='val_loss', min_delta=0.001, patience=5)\n",
    "# Fitting the model on train and validation with 50 epochs\n",
    "history_5 = model_5.fit(X_train, y_train,  validation_split=0.2, epochs=50,callbacks=es_cb)"
   ]
  },
  {
   "cell_type": "markdown",
   "metadata": {
    "id": "5ZTfJjC7-Y5_"
   },
   "source": [
    "37 epochs"
   ]
  },
  {
   "cell_type": "code",
   "execution_count": 105,
   "metadata": {
    "colab": {
     "base_uri": "https://localhost:8080/",
     "height": 281
    },
    "executionInfo": {
     "elapsed": 6553,
     "status": "ok",
     "timestamp": 1678013008695,
     "user": {
      "displayName": "Madhuri Gandikota",
      "userId": "06840075266312606278"
     },
     "user_tz": 360
    },
    "id": "H5eogSl2e-Mf",
    "outputId": "591b4cc9-9f6f-4e0e-ddf3-981018d10dd7"
   },
   "outputs": [
    {
     "data": {
      "image/png": "[encoded data removed]",
      "text/plain": [
       "<Figure size 432x288 with 1 Axes>"
      ]
     },
     "metadata": {
      "needs_background": "light"
     },
     "output_type": "display_data"
    }
   ],
   "source": [
    "pyplot.title('Loss / Accuracy')\n",
    "pyplot.plot(history_5.history['loss'], label='train')\n",
    "pyplot.plot(history_5.history['val_loss'], label='validate')\n",
    "pyplot.legend()\n",
    "pyplot.show()"
   ]
  },
  {
   "cell_type": "markdown",
   "metadata": {
    "id": "LFNFGWZfkrO2"
   },
   "source": [
    "Good Fit. "
   ]
  },
  {
   "cell_type": "code",
   "execution_count": 106,
   "metadata": {
    "colab": {
     "base_uri": "https://localhost:8080/"
    },
    "executionInfo": {
     "elapsed": 145,
     "status": "ok",
     "timestamp": 1678013008814,
     "user": {
      "displayName": "Madhuri Gandikota",
      "userId": "06840075266312606278"
     },
     "user_tz": 360
    },
    "id": "9mL46lbofVDJ",
    "outputId": "ffdf7511-5fe4-417a-ccb4-7ae472f7fe72"
   },
   "outputs": [
    {
     "name": "stdout",
     "output_type": "stream",
     "text": [
      "63/63 [==============================] - 0s 2ms/step\n"
     ]
    },
    {
     "data": {
      "text/plain": [
       "array([[False],\n",
       "       [False],\n",
       "       [False],\n",
       "       ...,\n",
       "       [False],\n",
       "       [False],\n",
       "       [False]])"
      ]
     },
     "execution_count": 106,
     "metadata": {},
     "output_type": "execute_result"
    }
   ],
   "source": [
    "y_pred_5=model_5.predict(X_test)\n",
    "y_pred_5 = (y_pred_5 > 0.5)\n",
    "y_pred_5"
   ]
  },
  {
   "cell_type": "code",
   "execution_count": 107,
   "metadata": {
    "colab": {
     "base_uri": "https://localhost:8080/",
     "height": 265
    },
    "executionInfo": {
     "elapsed": 317,
     "status": "ok",
     "timestamp": 1678013009128,
     "user": {
      "displayName": "Madhuri Gandikota",
      "userId": "06840075266312606278"
     },
     "user_tz": 360
    },
    "id": "X3GajLUQf26l",
    "outputId": "1186f908-99dd-42a8-84bb-b9689210811a"
   },
   "outputs": [
    {
     "data": {
      "image/png": "[encoded data removed]",
      "text/plain": [
       "<Figure size 432x288 with 2 Axes>"
      ]
     },
     "metadata": {
      "needs_background": "light"
     },
     "output_type": "display_data"
    }
   ],
   "source": [
    "#Calculating the confusion matrix \n",
    "from sklearn.metrics import confusion_matrix\n",
    "cm_5=confusion_matrix(y_test, y_pred_5)\n",
    "labels = ['True Positive','False Negative','False Positive','True Negative']\n",
    "categories = [ 'Exited','Not Exited']\n",
    "make_confusion_matrix(cm_5, \n",
    "                      group_names=labels,\n",
    "                      categories=categories, \n",
    "                      cmap='Blues')"
   ]
  },
  {
   "cell_type": "code",
   "execution_count": 108,
   "metadata": {
    "colab": {
     "base_uri": "https://localhost:8080/"
    },
    "executionInfo": {
     "elapsed": 34,
     "status": "ok",
     "timestamp": 1678013009129,
     "user": {
      "displayName": "Madhuri Gandikota",
      "userId": "06840075266312606278"
     },
     "user_tz": 360
    },
    "id": "_Gvj6iKpgDcj",
    "outputId": "93c1a0a8-f816-4336-a0fd-7e3ce497228e"
   },
   "outputs": [
    {
     "name": "stdout",
     "output_type": "stream",
     "text": [
      "              precision    recall  f1-score   support\n",
      "\n",
      "           0       0.80      0.99      0.89      1593\n",
      "           1       0.62      0.05      0.09       407\n",
      "\n",
      "    accuracy                           0.80      2000\n",
      "   macro avg       0.71      0.52      0.49      2000\n",
      "weighted avg       0.77      0.80      0.73      2000\n",
      "\n"
     ]
    }
   ],
   "source": [
    "#Accuracy as per the classification report \n",
    "from sklearn import metrics\n",
    "cr_5=metrics.classification_report(y_test,y_pred_5)\n",
    "print(cr_5)"
   ]
  },
  {
   "cell_type": "markdown",
   "metadata": {
    "id": "F_MHJZbDj-Tj"
   },
   "source": [
    "Again not a great recall for predicting exits. "
   ]
  },
  {
   "cell_type": "markdown",
   "metadata": {
    "id": "2CkOaBW_3BVE"
   },
   "source": [
    "# END OF MODEL **BUILDING**"
   ]
  },
  {
   "cell_type": "code",
   "execution_count": 109,
   "metadata": {
    "executionInfo": {
     "elapsed": 6,
     "status": "ok",
     "timestamp": 1678013009129,
     "user": {
      "displayName": "Madhuri Gandikota",
      "userId": "06840075266312606278"
     },
     "user_tz": 360
    },
    "id": "zrcL9yaEH9Sy"
   },
   "outputs": [],
   "source": [
    "# Initializing the model\n",
    "model_5 = Sequential()\n",
    "# Adding input layer with 64 neurons, relu as activation function and, he_uniform as weight initializer.\n",
    "model_5.add(Dense(64, activation='relu',kernel_initializer='he_uniform', input_shape=(10,)))\n",
    "# Adding dropout with ratio of 0.2\n",
    "model_5.add(Dropout(0.2))\n",
    "# Adding the first hidden layer with 32 neurons, relu as activation function and, he_uniform as weight initializer\n",
    "model_5.add(Dense(32, activation='relu',kernel_initializer='he_uniform'))\n",
    "# Adding dropout with ratio of 0.1\n",
    "model_5.add(Dropout(0.1))\n",
    "# Adding the second hidden layer with 16 neurons, relu as activation function and, he_uniform as weight initializer\n",
    "model_5.add(Dense(16, activation='relu',kernel_initializer='he_uniform'))\n",
    "# Adding the third hidden layer with 8 neurons, relu as activation function and, he_uniform as weight initializer\n",
    "model_5.add(Dense(8, activation='relu',kernel_initializer='he_uniform'))\n",
    "# Adding the output layer with one neuron and linear as activation\n",
    "model_5.add(Dense(1, activation='sigmoid'))"
   ]
  },
  {
   "cell_type": "code",
   "execution_count": 110,
   "metadata": {
    "executionInfo": {
     "elapsed": 187,
     "status": "ok",
     "timestamp": 1678013009311,
     "user": {
      "displayName": "Madhuri Gandikota",
      "userId": "06840075266312606278"
     },
     "user_tz": 360
    },
    "id": "4_t_uXdiISjY"
   },
   "outputs": [],
   "source": [
    "input_dim= input_shape=10"
   ]
  },
  {
   "cell_type": "code",
   "execution_count": 111,
   "metadata": {
    "executionInfo": {
     "elapsed": 46,
     "status": "ok",
     "timestamp": 1678013009312,
     "user": {
      "displayName": "Madhuri Gandikota",
      "userId": "06840075266312606278"
     },
     "user_tz": 360
    },
    "id": "X5IbZAa9IEE_"
   },
   "outputs": [],
   "source": [
    "modelfe = tf.keras.Sequential([\n",
    "  tf.keras.layers.Dense(16, activation='relu', input_shape=(input_dim,)),\n",
    "  tf.keras.layers.Dense(1, activation='sigmoid')\n",
    "])"
   ]
  },
  {
   "cell_type": "code",
   "execution_count": 112,
   "metadata": {
    "colab": {
     "base_uri": "https://localhost:8080/"
    },
    "executionInfo": {
     "elapsed": 46,
     "status": "ok",
     "timestamp": 1678013009313,
     "user": {
      "displayName": "Madhuri Gandikota",
      "userId": "06840075266312606278"
     },
     "user_tz": 360
    },
    "id": "TXxCMroxL01o",
    "outputId": "069d3f9c-c932-4c3c-8651-9bb8f52a5f2e"
   },
   "outputs": [
    {
     "data": {
      "text/plain": [
       "tensorflow.python.framework.tensor_shape.TensorShape"
      ]
     },
     "execution_count": 112,
     "metadata": {},
     "output_type": "execute_result"
    }
   ],
   "source": [
    "tf.TensorShape"
   ]
  },
  {
   "cell_type": "code",
   "execution_count": 113,
   "metadata": {
    "colab": {
     "base_uri": "https://localhost:8080/"
    },
    "executionInfo": {
     "elapsed": 45,
     "status": "ok",
     "timestamp": 1678013009314,
     "user": {
      "displayName": "Madhuri Gandikota",
      "userId": "06840075266312606278"
     },
     "user_tz": 360
    },
    "id": "TyQFCtG9L6vq",
    "outputId": "862697fa-ef51-4a51-e6d4-35a95f8457ae"
   },
   "outputs": [
    {
     "data": {
      "text/plain": [
       "<module 'tensorflow._api.v2.dtypes' from '/usr/local/lib/python3.8/dist-packages/tensorflow/_api/v2/dtypes/__init__.py'>"
      ]
     },
     "execution_count": 113,
     "metadata": {},
     "output_type": "execute_result"
    }
   ],
   "source": [
    "tf.dtypes"
   ]
  },
  {
   "cell_type": "code",
   "execution_count": 114,
   "metadata": {
    "colab": {
     "base_uri": "https://localhost:8080/"
    },
    "executionInfo": {
     "elapsed": 31,
     "status": "ok",
     "timestamp": 1678013009315,
     "user": {
      "displayName": "Madhuri Gandikota",
      "userId": "06840075266312606278"
     },
     "user_tz": 360
    },
    "id": "yfDGB3ufMCne",
    "outputId": "5d91b1f4-1338-4fe6-a383-f7373078c602"
   },
   "outputs": [
    {
     "name": "stdout",
     "output_type": "stream",
     "text": [
      "(1, 64)\n",
      "<dtype: 'float32'>\n"
     ]
    }
   ],
   "source": [
    "import tensorflow as tf\n",
    "\n",
    "# Define a Keras layer\n",
    "layer = tf.keras.layers.Dense(units=64)\n",
    "\n",
    "# Get the output of the layer\n",
    "x = layer(tf.zeros(shape=(1, 32)))\n",
    "\n",
    "# Access the shape and data type of the output tensor\n",
    "print(tf.TensorShape(x.shape))\n",
    "print(tf.dtypes.as_dtype(x.dtype))"
   ]
  },
  {
   "cell_type": "code",
   "execution_count": 118,
   "metadata": {
    "colab": {
     "base_uri": "https://localhost:8080/",
     "height": 783
    },
    "executionInfo": {
     "elapsed": 8600,
     "status": "error",
     "timestamp": 1678014108477,
     "user": {
      "displayName": "Madhuri Gandikota",
      "userId": "06840075266312606278"
     },
     "user_tz": 360
    },
    "id": "MHECVMkGSD-F",
    "outputId": "97e32146-a9ec-4ab4-9c52-2b89c291f5d9"
   },
   "outputs": [
    {
     "name": "stdout",
     "output_type": "stream",
     "text": [
      "Looking in indexes: https://pypi.org/simple, https://us-python.pkg.dev/colab-wheels/public/simple/\n",
      "Collecting shap\n",
      "  Downloading shap-0.41.0-cp38-cp38-manylinux_2_12_x86_64.manylinux2010_x86_64.whl (575 kB)\n",
      "\u001b[2K     \u001b[90m━━━━━━━━━━━━━━━━━━━━━━━━━━━━━━━━━━━━━━\u001b[0m \u001b[32m575.9/575.9 KB\u001b[0m \u001b[31m33.2 MB/s\u001b[0m eta \u001b[36m0:00:00\u001b[0m\n",
      "\u001b[?25hCollecting slicer==0.0.7\n",
      "  Downloading slicer-0.0.7-py3-none-any.whl (14 kB)\n",
      "Requirement already satisfied: pandas in /usr/local/lib/python3.8/dist-packages (from shap) (1.3.5)\n",
      "Requirement already satisfied: scipy in /usr/local/lib/python3.8/dist-packages (from shap) (1.10.1)\n",
      "Requirement already satisfied: numpy in /usr/local/lib/python3.8/dist-packages (from shap) (1.22.4)\n",
      "Requirement already satisfied: tqdm>4.25.0 in /usr/local/lib/python3.8/dist-packages (from shap) (4.64.1)\n",
      "Requirement already satisfied: scikit-learn in /usr/local/lib/python3.8/dist-packages (from shap) (1.2.1)\n",
      "Requirement already satisfied: numba in /usr/local/lib/python3.8/dist-packages (from shap) (0.56.4)\n",
      "Requirement already satisfied: cloudpickle in /usr/local/lib/python3.8/dist-packages (from shap) (2.2.1)\n",
      "Requirement already satisfied: packaging>20.9 in /usr/local/lib/python3.8/dist-packages (from shap) (23.0)\n",
      "Requirement already satisfied: importlib-metadata in /usr/local/lib/python3.8/dist-packages (from numba->shap) (6.0.0)\n",
      "Requirement already satisfied: llvmlite<0.40,>=0.39.0dev0 in /usr/local/lib/python3.8/dist-packages (from numba->shap) (0.39.1)\n",
      "Requirement already satisfied: setuptools in /usr/local/lib/python3.8/dist-packages (from numba->shap) (57.4.0)\n",
      "Requirement already satisfied: pytz>=2017.3 in /usr/local/lib/python3.8/dist-packages (from pandas->shap) (2022.7.1)\n",
      "Requirement already satisfied: python-dateutil>=2.7.3 in /usr/local/lib/python3.8/dist-packages (from pandas->shap) (2.8.2)\n",
      "Requirement already satisfied: joblib>=1.1.1 in /usr/local/lib/python3.8/dist-packages (from scikit-learn->shap) (1.2.0)\n",
      "Requirement already satisfied: threadpoolctl>=2.0.0 in /usr/local/lib/python3.8/dist-packages (from scikit-learn->shap) (3.1.0)\n",
      "Requirement already satisfied: six>=1.5 in /usr/local/lib/python3.8/dist-packages (from python-dateutil>=2.7.3->pandas->shap) (1.15.0)\n",
      "Requirement already satisfied: zipp>=0.5 in /usr/local/lib/python3.8/dist-packages (from importlib-metadata->numba->shap) (3.15.0)\n",
      "Installing collected packages: slicer, shap\n",
      "Successfully installed shap-0.41.0 slicer-0.0.7\n"
     ]
    },
    {
     "ename": "InvalidModelError",
     "evalue": "ignored",
     "output_type": "error",
     "traceback": [
      "\u001b[0;31m---------------------------------------------------------------------------\u001b[0m",
      "\u001b[0;31mInvalidModelError\u001b[0m                         Traceback (most recent call last)",
      "\u001b[0;32m<ipython-input-118-a4950c80a1f9>\u001b[0m in \u001b[0;36m<module>\u001b[0;34m\u001b[0m\n\u001b[1;32m      1\u001b[0m \u001b[0mget_ipython\u001b[0m\u001b[0;34m(\u001b[0m\u001b[0;34m)\u001b[0m\u001b[0;34m.\u001b[0m\u001b[0msystem\u001b[0m\u001b[0;34m(\u001b[0m\u001b[0;34m'pip install shap '\u001b[0m\u001b[0;34m)\u001b[0m\u001b[0;34m\u001b[0m\u001b[0;34m\u001b[0m\u001b[0m\n\u001b[1;32m      2\u001b[0m \u001b[0;32mimport\u001b[0m \u001b[0mshap\u001b[0m\u001b[0;34m\u001b[0m\u001b[0;34m\u001b[0m\u001b[0m\n\u001b[0;32m----> 3\u001b[0;31m \u001b[0mexplainer\u001b[0m \u001b[0;34m=\u001b[0m \u001b[0mshap\u001b[0m\u001b[0;34m.\u001b[0m\u001b[0mTreeExplainer\u001b[0m\u001b[0;34m(\u001b[0m\u001b[0mmodel\u001b[0m\u001b[0;34m)\u001b[0m\u001b[0;34m\u001b[0m\u001b[0;34m\u001b[0m\u001b[0m\n\u001b[0m\u001b[1;32m      4\u001b[0m \u001b[0mshap_values\u001b[0m \u001b[0;34m=\u001b[0m \u001b[0mexplainer\u001b[0m\u001b[0;34m.\u001b[0m\u001b[0mshap_values\u001b[0m\u001b[0;34m(\u001b[0m\u001b[0mX\u001b[0m\u001b[0;34m)\u001b[0m\u001b[0;34m\u001b[0m\u001b[0;34m\u001b[0m\u001b[0m\n",
      "\u001b[0;32m/usr/local/lib/python3.8/dist-packages/shap/explainers/_tree.py\u001b[0m in \u001b[0;36m__init__\u001b[0;34m(self, model, data, model_output, feature_perturbation, feature_names, approximate, **deprecated_options)\u001b[0m\n\u001b[1;32m    147\u001b[0m         \u001b[0mself\u001b[0m\u001b[0;34m.\u001b[0m\u001b[0mfeature_perturbation\u001b[0m \u001b[0;34m=\u001b[0m \u001b[0mfeature_perturbation\u001b[0m\u001b[0;34m\u001b[0m\u001b[0;34m\u001b[0m\u001b[0m\n\u001b[1;32m    148\u001b[0m         \u001b[0mself\u001b[0m\u001b[0;34m.\u001b[0m\u001b[0mexpected_value\u001b[0m \u001b[0;34m=\u001b[0m \u001b[0;32mNone\u001b[0m\u001b[0;34m\u001b[0m\u001b[0;34m\u001b[0m\u001b[0m\n\u001b[0;32m--> 149\u001b[0;31m         \u001b[0mself\u001b[0m\u001b[0;34m.\u001b[0m\u001b[0mmodel\u001b[0m \u001b[0;34m=\u001b[0m \u001b[0mTreeEnsemble\u001b[0m\u001b[0;34m(\u001b[0m\u001b[0mmodel\u001b[0m\u001b[0;34m,\u001b[0m \u001b[0mself\u001b[0m\u001b[0;34m.\u001b[0m\u001b[0mdata\u001b[0m\u001b[0;34m,\u001b[0m \u001b[0mself\u001b[0m\u001b[0;34m.\u001b[0m\u001b[0mdata_missing\u001b[0m\u001b[0;34m,\u001b[0m \u001b[0mmodel_output\u001b[0m\u001b[0;34m)\u001b[0m\u001b[0;34m\u001b[0m\u001b[0;34m\u001b[0m\u001b[0m\n\u001b[0m\u001b[1;32m    150\u001b[0m         \u001b[0mself\u001b[0m\u001b[0;34m.\u001b[0m\u001b[0mmodel_output\u001b[0m \u001b[0;34m=\u001b[0m \u001b[0mmodel_output\u001b[0m\u001b[0;34m\u001b[0m\u001b[0;34m\u001b[0m\u001b[0m\n\u001b[1;32m    151\u001b[0m         \u001b[0;31m#self.model_output = self.model.model_output # this allows the TreeEnsemble to translate model outputs types by how it loads the model\u001b[0m\u001b[0;34m\u001b[0m\u001b[0;34m\u001b[0m\u001b[0;34m\u001b[0m\u001b[0m\n",
      "\u001b[0;32m/usr/local/lib/python3.8/dist-packages/shap/explainers/_tree.py\u001b[0m in \u001b[0;36m__init__\u001b[0;34m(self, model, data, data_missing, model_output)\u001b[0m\n\u001b[1;32m    991\u001b[0m             \u001b[0mself\u001b[0m\u001b[0;34m.\u001b[0m\u001b[0mbase_offset\u001b[0m \u001b[0;34m=\u001b[0m \u001b[0mmodel\u001b[0m\u001b[0;34m.\u001b[0m\u001b[0minit_params\u001b[0m\u001b[0;34m[\u001b[0m\u001b[0mparam_idx\u001b[0m\u001b[0;34m]\u001b[0m\u001b[0;34m\u001b[0m\u001b[0;34m\u001b[0m\u001b[0m\n\u001b[1;32m    992\u001b[0m         \u001b[0;32melse\u001b[0m\u001b[0;34m:\u001b[0m\u001b[0;34m\u001b[0m\u001b[0;34m\u001b[0m\u001b[0m\n\u001b[0;32m--> 993\u001b[0;31m             \u001b[0;32mraise\u001b[0m \u001b[0mInvalidModelError\u001b[0m\u001b[0;34m(\u001b[0m\u001b[0;34m\"Model type not yet supported by TreeExplainer: \"\u001b[0m \u001b[0;34m+\u001b[0m \u001b[0mstr\u001b[0m\u001b[0;34m(\u001b[0m\u001b[0mtype\u001b[0m\u001b[0;34m(\u001b[0m\u001b[0mmodel\u001b[0m\u001b[0;34m)\u001b[0m\u001b[0;34m)\u001b[0m\u001b[0;34m)\u001b[0m\u001b[0;34m\u001b[0m\u001b[0;34m\u001b[0m\u001b[0m\n\u001b[0m\u001b[1;32m    994\u001b[0m \u001b[0;34m\u001b[0m\u001b[0m\n\u001b[1;32m    995\u001b[0m         \u001b[0;31m# build a dense numpy version of all the tree objects\u001b[0m\u001b[0;34m\u001b[0m\u001b[0;34m\u001b[0m\u001b[0;34m\u001b[0m\u001b[0m\n",
      "\u001b[0;31mInvalidModelError\u001b[0m: Model type not yet supported by TreeExplainer: <class 'keras.engine.sequential.Sequential'>"
     ]
    }
   ],
   "source": [
    "!pip install shap \n",
    "import shap\n",
    "explainer = shap.TreeExplainer(model)\n",
    "shap_values = explainer.shap_values(X)"
   ]
  },
  {
   "cell_type": "code",
   "execution_count": 119,
   "metadata": {
    "colab": {
     "base_uri": "https://localhost:8080/",
     "height": 74
    },
    "executionInfo": {
     "elapsed": 262,
     "status": "ok",
     "timestamp": 1678014118670,
     "user": {
      "displayName": "Madhuri Gandikota",
      "userId": "06840075266312606278"
     },
     "user_tz": 360
    },
    "id": "p823J7_bSr-o",
    "outputId": "9dacaf48-c226-4793-af98-d7dd8e34da39"
   },
   "outputs": [
    {
     "data": {
      "text/html": [
       "<style>#sk-container-id-1 {color: black;background-color: white;}#sk-container-id-1 pre{padding: 0;}#sk-container-id-1 div.sk-toggleable {background-color: white;}#sk-container-id-1 label.sk-toggleable__label {cursor: pointer;display: block;width: 100%;margin-bottom: 0;padding: 0.3em;box-sizing: border-box;text-align: center;}#sk-container-id-1 label.sk-toggleable__label-arrow:before {content: \"▸\";float: left;margin-right: 0.25em;color: #696969;}#sk-container-id-1 label.sk-toggleable__label-arrow:hover:before {color: black;}#sk-container-id-1 div.sk-estimator:hover label.sk-toggleable__label-arrow:before {color: black;}#sk-container-id-1 div.sk-toggleable__content {max-height: 0;max-width: 0;overflow: hidden;text-align: left;background-color: #f0f8ff;}#sk-container-id-1 div.sk-toggleable__content pre {margin: 0.2em;color: black;border-radius: 0.25em;background-color: #f0f8ff;}#sk-container-id-1 input.sk-toggleable__control:checked~div.sk-toggleable__content {max-height: 200px;max-width: 100%;overflow: auto;}#sk-container-id-1 input.sk-toggleable__control:checked~label.sk-toggleable__label-arrow:before {content: \"▾\";}#sk-container-id-1 div.sk-estimator input.sk-toggleable__control:checked~label.sk-toggleable__label {background-color: #d4ebff;}#sk-container-id-1 div.sk-label input.sk-toggleable__control:checked~label.sk-toggleable__label {background-color: #d4ebff;}#sk-container-id-1 input.sk-hidden--visually {border: 0;clip: rect(1px 1px 1px 1px);clip: rect(1px, 1px, 1px, 1px);height: 1px;margin: -1px;overflow: hidden;padding: 0;position: absolute;width: 1px;}#sk-container-id-1 div.sk-estimator {font-family: monospace;background-color: #f0f8ff;border: 1px dotted black;border-radius: 0.25em;box-sizing: border-box;margin-bottom: 0.5em;}#sk-container-id-1 div.sk-estimator:hover {background-color: #d4ebff;}#sk-container-id-1 div.sk-parallel-item::after {content: \"\";width: 100%;border-bottom: 1px solid gray;flex-grow: 1;}#sk-container-id-1 div.sk-label:hover label.sk-toggleable__label {background-color: #d4ebff;}#sk-container-id-1 div.sk-serial::before {content: \"\";position: absolute;border-left: 1px solid gray;box-sizing: border-box;top: 0;bottom: 0;left: 50%;z-index: 0;}#sk-container-id-1 div.sk-serial {display: flex;flex-direction: column;align-items: center;background-color: white;padding-right: 0.2em;padding-left: 0.2em;position: relative;}#sk-container-id-1 div.sk-item {position: relative;z-index: 1;}#sk-container-id-1 div.sk-parallel {display: flex;align-items: stretch;justify-content: center;background-color: white;position: relative;}#sk-container-id-1 div.sk-item::before, #sk-container-id-1 div.sk-parallel-item::before {content: \"\";position: absolute;border-left: 1px solid gray;box-sizing: border-box;top: 0;bottom: 0;left: 50%;z-index: -1;}#sk-container-id-1 div.sk-parallel-item {display: flex;flex-direction: column;z-index: 1;position: relative;background-color: white;}#sk-container-id-1 div.sk-parallel-item:first-child::after {align-self: flex-end;width: 50%;}#sk-container-id-1 div.sk-parallel-item:last-child::after {align-self: flex-start;width: 50%;}#sk-container-id-1 div.sk-parallel-item:only-child::after {width: 0;}#sk-container-id-1 div.sk-dashed-wrapped {border: 1px dashed gray;margin: 0 0.4em 0.5em 0.4em;box-sizing: border-box;padding-bottom: 0.4em;background-color: white;}#sk-container-id-1 div.sk-label label {font-family: monospace;font-weight: bold;display: inline-block;line-height: 1.2em;}#sk-container-id-1 div.sk-label-container {text-align: center;}#sk-container-id-1 div.sk-container {/* jupyter's `normalize.less` sets `[hidden] { display: none; }` but bootstrap.min.css set `[hidden] { display: none !important; }` so we also need the `!important` here to be able to override the default hidden behavior on the sphinx rendered scikit-learn.org. See: https://github.com/scikit-learn/scikit-learn/issues/21755 */display: inline-block !important;position: relative;}#sk-container-id-1 div.sk-text-repr-fallback {display: none;}</style><div id=\"sk-container-id-1\" class=\"sk-top-container\"><div class=\"sk-text-repr-fallback\"><pre>DecisionTreeClassifier()</pre><b>In a Jupyter environment, please rerun this cell to show the HTML representation or trust the notebook. <br />On GitHub, the HTML representation is unable to render, please try loading this page with nbviewer.org.</b></div><div class=\"sk-container\" hidden><div class=\"sk-item\"><div class=\"sk-estimator sk-toggleable\"><input class=\"sk-toggleable__control sk-hidden--visually\" id=\"sk-estimator-id-1\" type=\"checkbox\" checked><label for=\"sk-estimator-id-1\" class=\"sk-toggleable__label sk-toggleable__label-arrow\">DecisionTreeClassifier</label><div class=\"sk-toggleable__content\"><pre>DecisionTreeClassifier()</pre></div></div></div></div></div>"
      ],
      "text/plain": [
       "DecisionTreeClassifier()"
      ]
     },
     "execution_count": 119,
     "metadata": {},
     "output_type": "execute_result"
    }
   ],
   "source": [
    "#Train a surrogate model (e.g., a decision tree)\n",
    "from sklearn.tree import DecisionTreeClassifier\n",
    "surrogate_model = DecisionTreeClassifier()\n",
    "surrogate_model.fit(X_train, y_train)#"
   ]
  },
  {
   "cell_type": "code",
   "execution_count": 120,
   "metadata": {
    "colab": {
     "base_uri": "https://localhost:8080/",
     "height": 49,
     "referenced_widgets": [
      "2e6a606ce57b4213bd8398fb15559ff5",
      "14f2d41d0eda40bfa658fea52c16dedd",
      "d1420a3db7974b15a4053dca0c727071",
      "3346a6d1ec5e4ee690ad6dc7fe4a6394",
      "a6d5d1d0a86745dca88a16b44e979751",
      "3091a156dc184d9b8f2276ccb91a3bce",
      "30975d1e6a3b4ac5aab887310e54c1ee",
      "719cfa7aa79b45c5a0a1bf75bab69f2c",
      "aa24c0e7d0da4968a556739e9d81d50c",
      "667e0fd9ee7346beb4f7ca1e61202432",
      "a9d057e3bef845528cf5ca8251cf3c72"
     ]
    },
    "executionInfo": {
     "elapsed": 6283,
     "status": "ok",
     "timestamp": 1678014136139,
     "user": {
      "displayName": "Madhuri Gandikota",
      "userId": "06840075266312606278"
     },
     "user_tz": 360
    },
    "id": "b7rFDyKaS4gB",
    "outputId": "a7facf5b-a76d-4061-d67f-77ea77fb46b0"
   },
   "outputs": [
    {
     "data": {
      "application/vnd.jupyter.widget-view+json": {
       "model_id": "2e6a606ce57b4213bd8398fb15559ff5",
       "version_major": 2,
       "version_minor": 0
      },
      "text/plain": [
       "  0%|          | 0/10 [00:00<?, ?it/s]"
      ]
     },
     "metadata": {},
     "output_type": "display_data"
    }
   ],
   "source": [
    "#Compute SHAP values for the surrogate model\n",
    "explainer = shap.KernelExplainer(surrogate_model.predict_proba, X_train[:100])\n",
    "shap_values = explainer.shap_values(X_test[:10])"
   ]
  },
  {
   "cell_type": "code",
   "execution_count": 121,
   "metadata": {
    "colab": {
     "base_uri": "https://localhost:8080/",
     "height": 405
    },
    "executionInfo": {
     "elapsed": 674,
     "status": "ok",
     "timestamp": 1678014141764,
     "user": {
      "displayName": "Madhuri Gandikota",
      "userId": "06840075266312606278"
     },
     "user_tz": 360
    },
    "id": "AabC2pNJTC-z",
    "outputId": "5f7742a3-4164-4612-c589-88bacf601f05"
   },
   "outputs": [
    {
     "data": {
      "image/png": "[encoded data removed]",
      "text/plain": [
       "<Figure size 576x396 with 1 Axes>"
      ]
     },
     "metadata": {
      "needs_background": "light"
     },
     "output_type": "display_data"
    }
   ],
   "source": [
    "# Visualize SHAP values\n",
    "shap.summary_plot(shap_values, X_test[:10])"
   ]
  },
  {
   "cell_type": "markdown",
   "metadata": {
    "id": "IYmWqlHAcQ7U"
   },
   "source": [
    "We did SHAP using decision tree as the surrogate model. While this is NOT an ideal AL/ML result. it shows us a basic result that the top five features which the bank needs to look into are:\n",
    "\n",
    "Age: As we can see from the EDA, the age group starts from sliglyt below 20 to upto 90 plus years. \n",
    "No. of products \n",
    "Balance:\n",
    "Geography:\n",
    "IS active Member:\n",
    "Credit score:\n"
   ]
  },
  {
   "cell_type": "markdown",
   "metadata": {
    "id": "LbK2a7mGkLkZ"
   },
   "source": [
    "Business Recommendations:\n",
    "\n",
    "Age: As we can see from the EDA, the age group starts from sliglyt below 20 to upto 90 plus years. When we look at the Age Vs. Exited plot we notice that The Median age of people who exited the bank is higher Appr. 46 yers. The people who stay in the bank younger. Even the lower bounds of both the box plots (I.e with removed outliers) show that the exited people start at a slightly higher age. \n",
    "No. of products : The distribution cure with respect to No. Of products is different from the exited and non-exited. For Exited category max amount of people (1400) have 1 product, \n",
    "While the no. of products for non-exited are 2. \n",
    "Also, in the exited category people have different target products, 2=less than 400 people, 3= about 200 people, and 4=sliglty below 50 people. Perhaps having more number of products is necessrily not a great thing for the bank. It is a good idea to focus on one or two products (preferably 2 ).\n",
    "Balance: Interestingly, a consider number of people (3000 approx) have 0 balance among non-exited group. That means these customers are not using any service but are just sleeping customers-giving the impression that they are customers. The company will not profit form these customers. The company should ALSO gear strategies to engage these customers to use the services.\n",
    "Otherwise the balance distribution between exited and non-exited customers is similar.\n",
    "Geography: Interestingly, As French people are double than spaniards and germans  their exits vs. non -exits follow the same patten for Non-exited group.\n",
    "Among exited Many Germans are exiting. So the bank/company need to think how to attract/retain Germans.  \n",
    "IS active Member: More number of people in not exited category are active members (4000 plus) vs. 700ish for exited members. \n",
    "Credit score: More no. People who have not exited have 800 plus credit score (app. 23-ish) vs. people who have 800 credit core who exited (about 70ish). \n",
    "So the bank should have some products offering to the people about 800 to retain them. \n",
    "Other wise the median credit score is almost same though exited have slightly above score. \n",
    "\n",
    "IN summary the bank should target customers of higher age bracket, with one or two products, and encourage the customers to have a bank balance. Somehow, target Germans more, have people with higher credit score and encourage the customers to be active.  "
   ]
  },
  {
   "cell_type": "markdown",
   "metadata": {
    "id": "rydjWCGDkR6J"
   },
   "source": [
    "IN terms of the Best Models:\n",
    "Model1. Basic Model: \n",
    " precision    recall  f1-score   support\n",
    "\n",
    "           0       0.87      0.96      0.91      1593\n",
    "           1       0.75      0.43      0.55       407\n",
    "\n",
    "    accuracy                       0.86      2000\n",
    "   macro avg         0.81      0.70      0.73      2000\n",
    "weighted avg       0.85      0.86      0.84      2000\n",
    "\n",
    "—————\n",
    "Model2. Optimised, AUC Threshold = of 0.78 \n",
    "\n",
    "            precision    recall  f1-score   support\n",
    "\n",
    "           0       0.92      0.75      0.83      1593\n",
    "           1       0.43      0.74      0.55       407\n",
    "\n",
    "    accuracy                      0.75      2000\n",
    "   macro avg       0.68      0.75      0.69      2000\n",
    "weighted avg       0.82     0.75      0.77      2000\n",
    "\n",
    "——\n",
    "Model3. SMOTE + Hypertuning\n",
    "\n",
    "              precision    recall  f1-score   support\n",
    "\n",
    "           0       0.87      0.97      0.92      1593\n",
    "           1       0.78      0.45      0.57       407\n",
    "\n",
    "    accuracy                      0.86      2000\n",
    "   macro avg       0.83      0.71      0.74      2000\n",
    "weighted avg       0.85    0.86      0.85      2000\n",
    "____\n",
    "\n",
    "\n",
    "Model4: SMOTE only\n",
    "\n",
    "              precision    recall  f1-score   support\n",
    "\n",
    "           0       0.88      0.88      0.88      1593\n",
    "           1       0.52      0.52       0.52       407\n",
    "\n",
    "    accuracy                      0.81      2000\n",
    "   macro avg       0.70      0.70      0.70      2000\n",
    "weighted avg       0.81    0.81      0.81      2000\n",
    "\n",
    "—————————\n",
    "\n",
    "Model5 :Early Stopping:\n",
    "\n",
    "              precision    recall  f1-score   support\n",
    "\n",
    "           0       0.81      1.00      0.89      1593\n",
    "           1       0.88      0.06      0.11       407\n",
    "\n",
    "    accuracy                           0.81      2000\n",
    "   macro avg       0.85      0.53      0.50      2000\n",
    "weighted avg       0.82      0.81      0.73      2000\n",
    "—————\n",
    "\n",
    "Model6 :Batch Normalisation\n",
    "\n",
    "        precision    recall  f1-score   support\n",
    "\n",
    "           0       0.83      0.95      0.89      1593\n",
    "           1       0.54      0.24      0.33       407\n",
    "\n",
    "    accuracy                     0.80      2000\n",
    "   macro avg       0.69      0.59      0.61      2000\n",
    "weighted avg       0.77    0.80      0.77      2000\n",
    "_______\n",
    "\n",
    "Model7: Adding Dropouts\n",
    "\n",
    "        precision    recall  f1-score   support\n",
    "\n",
    "           0       0.80      0.99      0.89      1593\n",
    "           1       0.62      0.05      0.09       407\n",
    "\n",
    "    accuracy                    0.80      2000\n",
    "   macro avg       0.71     0.52      0.49      2000\n",
    "weighted avg       0.77   0.80      0.73      2000\n",
    "\n"
   ]
  },
  {
   "cell_type": "markdown",
   "metadata": {
    "id": "8E4JUylRkZyi"
   },
   "source": [
    "We buit seven models starting with a basic model, Model2. Optimised, AUC Threshold = of 0.78 , Model3. SMOTE + Hypertuning, Model4: SMOTE only, Model5 :Early Stopping, Model6 :Batch Normalisation, Model7: Adding Dropouts. \n",
    "\n",
    "We found the model with SMOTE and Hypertuning gave the best predicitons by far.\n",
    "\n",
    "The precision for predicting exited is about 78% and non-exits is 87% with the reacll of 45% and 97% respectively. THe F1 score are 57% for exited. So the model is able to predict 57% corectly the exits, whiel it predits 92% the chances that the customer stays. THe overall accuracy is about 86%. "
   ]
  }
 ],
 "metadata": {
  "colab": {
   "authorship_tag": "ABX9TyO6Zxr5K5mEpuAGgqTn1xoP",
   "provenance": [
    {
     "file_id": "1KLdK09vNk9HCfULesq9VuKfC88pVbg7a",
     "timestamp": 1677851418756
    }
   ]
  },
  "gpuClass": "standard",
  "kernelspec": {
   "display_name": "Python 3 (ipykernel)",
   "language": "python",
   "name": "python3"
  },
  "language_info": {
   "codemirror_mode": {
    "name": "ipython",
    "version": 3
   },
   "file_extension": ".py",
   "mimetype": "text/x-python",
   "name": "python",
   "nbconvert_exporter": "python",
   "pygments_lexer": "ipython3",
   "version": "3.9.6"
  },
  "widgets": {
   "application/vnd.jupyter.widget-state+json": {
    "14f2d41d0eda40bfa658fea52c16dedd": {
     "model_module": "@jupyter-widgets/controls",
     "model_module_version": "1.5.0",
     "model_name": "HTMLModel",
     "state": {
      "_dom_classes": [],
      "_model_module": "@jupyter-widgets/controls",
      "_model_module_version": "1.5.0",
      "_model_name": "HTMLModel",
      "_view_count": null,
      "_view_module": "@jupyter-widgets/controls",
      "_view_module_version": "1.5.0",
      "_view_name": "HTMLView",
      "description": "",
      "description_tooltip": null,
      "layout": "IPY_MODEL_3091a156dc184d9b8f2276ccb91a3bce",
      "placeholder": "​",
      "style": "IPY_MODEL_30975d1e6a3b4ac5aab887310e54c1ee",
      "value": "100%"
     }
    },
    "2e6a606ce57b4213bd8398fb15559ff5": {
     "model_module": "@jupyter-widgets/controls",
     "model_module_version": "1.5.0",
     "model_name": "HBoxModel",
     "state": {
      "_dom_classes": [],
      "_model_module": "@jupyter-widgets/controls",
      "_model_module_version": "1.5.0",
      "_model_name": "HBoxModel",
      "_view_count": null,
      "_view_module": "@jupyter-widgets/controls",
      "_view_module_version": "1.5.0",
      "_view_name": "HBoxView",
      "box_style": "",
      "children": [
       "IPY_MODEL_14f2d41d0eda40bfa658fea52c16dedd",
       "IPY_MODEL_d1420a3db7974b15a4053dca0c727071",
       "IPY_MODEL_3346a6d1ec5e4ee690ad6dc7fe4a6394"
      ],
      "layout": "IPY_MODEL_a6d5d1d0a86745dca88a16b44e979751"
     }
    },
    "3091a156dc184d9b8f2276ccb91a3bce": {
     "model_module": "@jupyter-widgets/base",
     "model_module_version": "1.2.0",
     "model_name": "LayoutModel",
     "state": {
      "_model_module": "@jupyter-widgets/base",
      "_model_module_version": "1.2.0",
      "_model_name": "LayoutModel",
      "_view_count": null,
      "_view_module": "@jupyter-widgets/base",
      "_view_module_version": "1.2.0",
      "_view_name": "LayoutView",
      "align_content": null,
      "align_items": null,
      "align_self": null,
      "border": null,
      "bottom": null,
      "display": null,
      "flex": null,
      "flex_flow": null,
      "grid_area": null,
      "grid_auto_columns": null,
      "grid_auto_flow": null,
      "grid_auto_rows": null,
      "grid_column": null,
      "grid_gap": null,
      "grid_row": null,
      "grid_template_areas": null,
      "grid_template_columns": null,
      "grid_template_rows": null,
      "height": null,
      "justify_content": null,
      "justify_items": null,
      "left": null,
      "margin": null,
      "max_height": null,
      "max_width": null,
      "min_height": null,
      "min_width": null,
      "object_fit": null,
      "object_position": null,
      "order": null,
      "overflow": null,
      "overflow_x": null,
      "overflow_y": null,
      "padding": null,
      "right": null,
      "top": null,
      "visibility": null,
      "width": null
     }
    },
    "30975d1e6a3b4ac5aab887310e54c1ee": {
     "model_module": "@jupyter-widgets/controls",
     "model_module_version": "1.5.0",
     "model_name": "DescriptionStyleModel",
     "state": {
      "_model_module": "@jupyter-widgets/controls",
      "_model_module_version": "1.5.0",
      "_model_name": "DescriptionStyleModel",
      "_view_count": null,
      "_view_module": "@jupyter-widgets/base",
      "_view_module_version": "1.2.0",
      "_view_name": "StyleView",
      "description_width": ""
     }
    },
    "3346a6d1ec5e4ee690ad6dc7fe4a6394": {
     "model_module": "@jupyter-widgets/controls",
     "model_module_version": "1.5.0",
     "model_name": "HTMLModel",
     "state": {
      "_dom_classes": [],
      "_model_module": "@jupyter-widgets/controls",
      "_model_module_version": "1.5.0",
      "_model_name": "HTMLModel",
      "_view_count": null,
      "_view_module": "@jupyter-widgets/controls",
      "_view_module_version": "1.5.0",
      "_view_name": "HTMLView",
      "description": "",
      "description_tooltip": null,
      "layout": "IPY_MODEL_667e0fd9ee7346beb4f7ca1e61202432",
      "placeholder": "​",
      "style": "IPY_MODEL_a9d057e3bef845528cf5ca8251cf3c72",
      "value": " 10/10 [00:05&lt;00:00,  1.94it/s]"
     }
    },
    "667e0fd9ee7346beb4f7ca1e61202432": {
     "model_module": "@jupyter-widgets/base",
     "model_module_version": "1.2.0",
     "model_name": "LayoutModel",
     "state": {
      "_model_module": "@jupyter-widgets/base",
      "_model_module_version": "1.2.0",
      "_model_name": "LayoutModel",
      "_view_count": null,
      "_view_module": "@jupyter-widgets/base",
      "_view_module_version": "1.2.0",
      "_view_name": "LayoutView",
      "align_content": null,
      "align_items": null,
      "align_self": null,
      "border": null,
      "bottom": null,
      "display": null,
      "flex": null,
      "flex_flow": null,
      "grid_area": null,
      "grid_auto_columns": null,
      "grid_auto_flow": null,
      "grid_auto_rows": null,
      "grid_column": null,
      "grid_gap": null,
      "grid_row": null,
      "grid_template_areas": null,
      "grid_template_columns": null,
      "grid_template_rows": null,
      "height": null,
      "justify_content": null,
      "justify_items": null,
      "left": null,
      "margin": null,
      "max_height": null,
      "max_width": null,
      "min_height": null,
      "min_width": null,
      "object_fit": null,
      "object_position": null,
      "order": null,
      "overflow": null,
      "overflow_x": null,
      "overflow_y": null,
      "padding": null,
      "right": null,
      "top": null,
      "visibility": null,
      "width": null
     }
    },
    "719cfa7aa79b45c5a0a1bf75bab69f2c": {
     "model_module": "@jupyter-widgets/base",
     "model_module_version": "1.2.0",
     "model_name": "LayoutModel",
     "state": {
      "_model_module": "@jupyter-widgets/base",
      "_model_module_version": "1.2.0",
      "_model_name": "LayoutModel",
      "_view_count": null,
      "_view_module": "@jupyter-widgets/base",
      "_view_module_version": "1.2.0",
      "_view_name": "LayoutView",
      "align_content": null,
      "align_items": null,
      "align_self": null,
      "border": null,
      "bottom": null,
      "display": null,
      "flex": null,
      "flex_flow": null,
      "grid_area": null,
      "grid_auto_columns": null,
      "grid_auto_flow": null,
      "grid_auto_rows": null,
      "grid_column": null,
      "grid_gap": null,
      "grid_row": null,
      "grid_template_areas": null,
      "grid_template_columns": null,
      "grid_template_rows": null,
      "height": null,
      "justify_content": null,
      "justify_items": null,
      "left": null,
      "margin": null,
      "max_height": null,
      "max_width": null,
      "min_height": null,
      "min_width": null,
      "object_fit": null,
      "object_position": null,
      "order": null,
      "overflow": null,
      "overflow_x": null,
      "overflow_y": null,
      "padding": null,
      "right": null,
      "top": null,
      "visibility": null,
      "width": null
     }
    },
    "a6d5d1d0a86745dca88a16b44e979751": {
     "model_module": "@jupyter-widgets/base",
     "model_module_version": "1.2.0",
     "model_name": "LayoutModel",
     "state": {
      "_model_module": "@jupyter-widgets/base",
      "_model_module_version": "1.2.0",
      "_model_name": "LayoutModel",
      "_view_count": null,
      "_view_module": "@jupyter-widgets/base",
      "_view_module_version": "1.2.0",
      "_view_name": "LayoutView",
      "align_content": null,
      "align_items": null,
      "align_self": null,
      "border": null,
      "bottom": null,
      "display": null,
      "flex": null,
      "flex_flow": null,
      "grid_area": null,
      "grid_auto_columns": null,
      "grid_auto_flow": null,
      "grid_auto_rows": null,
      "grid_column": null,
      "grid_gap": null,
      "grid_row": null,
      "grid_template_areas": null,
      "grid_template_columns": null,
      "grid_template_rows": null,
      "height": null,
      "justify_content": null,
      "justify_items": null,
      "left": null,
      "margin": null,
      "max_height": null,
      "max_width": null,
      "min_height": null,
      "min_width": null,
      "object_fit": null,
      "object_position": null,
      "order": null,
      "overflow": null,
      "overflow_x": null,
      "overflow_y": null,
      "padding": null,
      "right": null,
      "top": null,
      "visibility": null,
      "width": null
     }
    },
    "a9d057e3bef845528cf5ca8251cf3c72": {
     "model_module": "@jupyter-widgets/controls",
     "model_module_version": "1.5.0",
     "model_name": "DescriptionStyleModel",
     "state": {
      "_model_module": "@jupyter-widgets/controls",
      "_model_module_version": "1.5.0",
      "_model_name": "DescriptionStyleModel",
      "_view_count": null,
      "_view_module": "@jupyter-widgets/base",
      "_view_module_version": "1.2.0",
      "_view_name": "StyleView",
      "description_width": ""
     }
    },
    "aa24c0e7d0da4968a556739e9d81d50c": {
     "model_module": "@jupyter-widgets/controls",
     "model_module_version": "1.5.0",
     "model_name": "ProgressStyleModel",
     "state": {
      "_model_module": "@jupyter-widgets/controls",
      "_model_module_version": "1.5.0",
      "_model_name": "ProgressStyleModel",
      "_view_count": null,
      "_view_module": "@jupyter-widgets/base",
      "_view_module_version": "1.2.0",
      "_view_name": "StyleView",
      "bar_color": null,
      "description_width": ""
     }
    },
    "d1420a3db7974b15a4053dca0c727071": {
     "model_module": "@jupyter-widgets/controls",
     "model_module_version": "1.5.0",
     "model_name": "FloatProgressModel",
     "state": {
      "_dom_classes": [],
      "_model_module": "@jupyter-widgets/controls",
      "_model_module_version": "1.5.0",
      "_model_name": "FloatProgressModel",
      "_view_count": null,
      "_view_module": "@jupyter-widgets/controls",
      "_view_module_version": "1.5.0",
      "_view_name": "ProgressView",
      "bar_style": "success",
      "description": "",
      "description_tooltip": null,
      "layout": "IPY_MODEL_719cfa7aa79b45c5a0a1bf75bab69f2c",
      "max": 10,
      "min": 0,
      "orientation": "horizontal",
      "style": "IPY_MODEL_aa24c0e7d0da4968a556739e9d81d50c",
      "value": 10
     }
    }
   }
  }
 },
 "nbformat": 4,
 "nbformat_minor": 1
}
